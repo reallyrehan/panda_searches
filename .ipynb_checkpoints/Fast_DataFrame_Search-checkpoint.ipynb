{
 "cells": [
  {
   "cell_type": "code",
   "execution_count": 42,
   "metadata": {
    "id": "KiJ2DXGWvlb7"
   },
   "outputs": [],
   "source": [
    "import pandas as pd\n",
    "import uuid\n",
    "import random\n",
    "from tqdm.auto import tqdm"
   ]
  },
  {
   "cell_type": "markdown",
   "metadata": {},
   "source": [
    "## Create Dummy DataFrame"
   ]
  },
  {
   "cell_type": "code",
   "execution_count": 43,
   "metadata": {
    "id": "x5MS6J0IvtYD"
   },
   "outputs": [
    {
     "data": {
      "text/html": [
       "<div>\n",
       "<style scoped>\n",
       "    .dataframe tbody tr th:only-of-type {\n",
       "        vertical-align: middle;\n",
       "    }\n",
       "\n",
       "    .dataframe tbody tr th {\n",
       "        vertical-align: top;\n",
       "    }\n",
       "\n",
       "    .dataframe thead th {\n",
       "        text-align: right;\n",
       "    }\n",
       "</style>\n",
       "<table border=\"1\" class=\"dataframe\">\n",
       "  <thead>\n",
       "    <tr style=\"text-align: right;\">\n",
       "      <th></th>\n",
       "      <th>user</th>\n",
       "      <th>event</th>\n",
       "      <th>category</th>\n",
       "      <th>a</th>\n",
       "      <th>b</th>\n",
       "      <th>c</th>\n",
       "    </tr>\n",
       "  </thead>\n",
       "  <tbody>\n",
       "    <tr>\n",
       "      <th>0</th>\n",
       "      <td>19749a2a-736e-11ed-8bc2-52b6cb0f4fb4</td>\n",
       "      <td>1976c318-736e-11ed-8bc2-52b6cb0f4fb4</td>\n",
       "      <td>44</td>\n",
       "      <td>0.035054</td>\n",
       "      <td>16.955843</td>\n",
       "      <td>125.008293</td>\n",
       "    </tr>\n",
       "    <tr>\n",
       "      <th>1</th>\n",
       "      <td>1972adfa-736e-11ed-8bc2-52b6cb0f4fb4</td>\n",
       "      <td>1976c35e-736e-11ed-8bc2-52b6cb0f4fb4</td>\n",
       "      <td>41</td>\n",
       "      <td>0.711236</td>\n",
       "      <td>24.833154</td>\n",
       "      <td>103.631130</td>\n",
       "    </tr>\n",
       "    <tr>\n",
       "      <th>2</th>\n",
       "      <td>19769fb4-736e-11ed-8bc2-52b6cb0f4fb4</td>\n",
       "      <td>1976c37c-736e-11ed-8bc2-52b6cb0f4fb4</td>\n",
       "      <td>29</td>\n",
       "      <td>0.852316</td>\n",
       "      <td>2.986981</td>\n",
       "      <td>27.063842</td>\n",
       "    </tr>\n",
       "    <tr>\n",
       "      <th>3</th>\n",
       "      <td>1973b042-736e-11ed-8bc2-52b6cb0f4fb4</td>\n",
       "      <td>1976c390-736e-11ed-8bc2-52b6cb0f4fb4</td>\n",
       "      <td>20</td>\n",
       "      <td>0.746972</td>\n",
       "      <td>12.276788</td>\n",
       "      <td>30.127665</td>\n",
       "    </tr>\n",
       "    <tr>\n",
       "      <th>4</th>\n",
       "      <td>1973cdc0-736e-11ed-8bc2-52b6cb0f4fb4</td>\n",
       "      <td>1976c3a4-736e-11ed-8bc2-52b6cb0f4fb4</td>\n",
       "      <td>23</td>\n",
       "      <td>0.627817</td>\n",
       "      <td>23.423300</td>\n",
       "      <td>71.815659</td>\n",
       "    </tr>\n",
       "    <tr>\n",
       "      <th>...</th>\n",
       "      <td>...</td>\n",
       "      <td>...</td>\n",
       "      <td>...</td>\n",
       "      <td>...</td>\n",
       "      <td>...</td>\n",
       "      <td>...</td>\n",
       "    </tr>\n",
       "    <tr>\n",
       "      <th>999995</th>\n",
       "      <td>19742afe-736e-11ed-8bc2-52b6cb0f4fb4</td>\n",
       "      <td>1a83bb94-736e-11ed-8bc2-52b6cb0f4fb4</td>\n",
       "      <td>1</td>\n",
       "      <td>0.727260</td>\n",
       "      <td>24.853075</td>\n",
       "      <td>135.228993</td>\n",
       "    </tr>\n",
       "    <tr>\n",
       "      <th>999996</th>\n",
       "      <td>19762ebc-736e-11ed-8bc2-52b6cb0f4fb4</td>\n",
       "      <td>1a83bba8-736e-11ed-8bc2-52b6cb0f4fb4</td>\n",
       "      <td>13</td>\n",
       "      <td>0.192751</td>\n",
       "      <td>9.623275</td>\n",
       "      <td>19.272035</td>\n",
       "    </tr>\n",
       "    <tr>\n",
       "      <th>999997</th>\n",
       "      <td>197361aa-736e-11ed-8bc2-52b6cb0f4fb4</td>\n",
       "      <td>1a83bbbc-736e-11ed-8bc2-52b6cb0f4fb4</td>\n",
       "      <td>22</td>\n",
       "      <td>0.165489</td>\n",
       "      <td>14.887194</td>\n",
       "      <td>148.718953</td>\n",
       "    </tr>\n",
       "    <tr>\n",
       "      <th>999998</th>\n",
       "      <td>1975131a-736e-11ed-8bc2-52b6cb0f4fb4</td>\n",
       "      <td>1a83bbc6-736e-11ed-8bc2-52b6cb0f4fb4</td>\n",
       "      <td>18</td>\n",
       "      <td>0.276742</td>\n",
       "      <td>1.711922</td>\n",
       "      <td>264.894832</td>\n",
       "    </tr>\n",
       "    <tr>\n",
       "      <th>999999</th>\n",
       "      <td>19733c0c-736e-11ed-8bc2-52b6cb0f4fb4</td>\n",
       "      <td>1a83bbda-736e-11ed-8bc2-52b6cb0f4fb4</td>\n",
       "      <td>9</td>\n",
       "      <td>0.523171</td>\n",
       "      <td>19.408388</td>\n",
       "      <td>140.304849</td>\n",
       "    </tr>\n",
       "  </tbody>\n",
       "</table>\n",
       "<p>1000000 rows × 6 columns</p>\n",
       "</div>"
      ],
      "text/plain": [
       "                                        user  \\\n",
       "0       19749a2a-736e-11ed-8bc2-52b6cb0f4fb4   \n",
       "1       1972adfa-736e-11ed-8bc2-52b6cb0f4fb4   \n",
       "2       19769fb4-736e-11ed-8bc2-52b6cb0f4fb4   \n",
       "3       1973b042-736e-11ed-8bc2-52b6cb0f4fb4   \n",
       "4       1973cdc0-736e-11ed-8bc2-52b6cb0f4fb4   \n",
       "...                                      ...   \n",
       "999995  19742afe-736e-11ed-8bc2-52b6cb0f4fb4   \n",
       "999996  19762ebc-736e-11ed-8bc2-52b6cb0f4fb4   \n",
       "999997  197361aa-736e-11ed-8bc2-52b6cb0f4fb4   \n",
       "999998  1975131a-736e-11ed-8bc2-52b6cb0f4fb4   \n",
       "999999  19733c0c-736e-11ed-8bc2-52b6cb0f4fb4   \n",
       "\n",
       "                                       event  category         a          b  \\\n",
       "0       1976c318-736e-11ed-8bc2-52b6cb0f4fb4        44  0.035054  16.955843   \n",
       "1       1976c35e-736e-11ed-8bc2-52b6cb0f4fb4        41  0.711236  24.833154   \n",
       "2       1976c37c-736e-11ed-8bc2-52b6cb0f4fb4        29  0.852316   2.986981   \n",
       "3       1976c390-736e-11ed-8bc2-52b6cb0f4fb4        20  0.746972  12.276788   \n",
       "4       1976c3a4-736e-11ed-8bc2-52b6cb0f4fb4        23  0.627817  23.423300   \n",
       "...                                      ...       ...       ...        ...   \n",
       "999995  1a83bb94-736e-11ed-8bc2-52b6cb0f4fb4         1  0.727260  24.853075   \n",
       "999996  1a83bba8-736e-11ed-8bc2-52b6cb0f4fb4        13  0.192751   9.623275   \n",
       "999997  1a83bbbc-736e-11ed-8bc2-52b6cb0f4fb4        22  0.165489  14.887194   \n",
       "999998  1a83bbc6-736e-11ed-8bc2-52b6cb0f4fb4        18  0.276742   1.711922   \n",
       "999999  1a83bbda-736e-11ed-8bc2-52b6cb0f4fb4         9  0.523171  19.408388   \n",
       "\n",
       "                 c  \n",
       "0       125.008293  \n",
       "1       103.631130  \n",
       "2        27.063842  \n",
       "3        30.127665  \n",
       "4        71.815659  \n",
       "...            ...  \n",
       "999995  135.228993  \n",
       "999996   19.272035  \n",
       "999997  148.718953  \n",
       "999998  264.894832  \n",
       "999999  140.304849  \n",
       "\n",
       "[1000000 rows x 6 columns]"
      ]
     },
     "execution_count": 43,
     "metadata": {},
     "output_type": "execute_result"
    }
   ],
   "source": [
    "user_uuid = [str(uuid.uuid1()) for i in range(0,10_000)]\n",
    "\n",
    "event_ids = [str(uuid.uuid1()) for i in range(0,1_000_000)]\n",
    "\n",
    "category_ids = [round(random.random()*45) for i in range(0,1_000_000)]\n",
    "\n",
    "user_ls = [user_uuid[round(random.random()*len(user_uuid))-1] for i in range(0,1_000_000)]\n",
    "\n",
    "value_1 = [random.random() for i in range(0,1_000_000)]\n",
    "\n",
    "value_2 = [random.random()*25 for i in range(0,1_000_000)]\n",
    "\n",
    "value_3 = [random.random()*300 for i in range(0,1_000_000)]\n",
    "\n",
    "df = pd.DataFrame({'user':user_ls,'event':event_ids,'category':category_ids,'a':value_1,'b':value_2,'c':value_3})\n",
    "\n",
    "df"
   ]
  },
  {
   "cell_type": "code",
   "execution_count": 120,
   "metadata": {},
   "outputs": [],
   "source": [
    "from collections import defaultdict\n",
    "import sys\n",
    "import pandas as pd\n",
    "from tqdm.auto import tqdm\n",
    "\n",
    "# @pd.api.extensions.register_dataframe_accessor(\"ps\")\n",
    "class PandaSearches:\n",
    "    def __init__(self,pandas_obj = None):\n",
    "        self.tqdm_flag=None\n",
    "        self.df = pandas_obj\n",
    "        self.index_dictionary = {}\n",
    "        self.bytes_dictionary = None\n",
    "        \n",
    "#         if index:\n",
    "#             self.__indexing()\n",
    "#             self.__estimating_memory()\n",
    "\n",
    "    def __estimating_memory(self):\n",
    "        \n",
    "        self.bytes_dictionary = {}\n",
    "\n",
    "        tot_size = 0\n",
    "        for col in self.index_dictionary.keys():\n",
    "            mem_size = sum([sys.getsizeof(i) for i in self.df[col].unique()]) + len(self.df)*28\n",
    "            self.bytes_dictionary[col] = mem_size\n",
    "            \n",
    "            tot_size += mem_size\n",
    "            \n",
    "        self.bytes_dictionary['total'] = tot_size\n",
    "\n",
    "        \n",
    "#         return self.bytes_dictionary\n",
    "\n",
    "\n",
    "    def list_index(self):\n",
    "        return self.index_dictionary.keys()\n",
    "    \n",
    "    def estimating_memory(self):\n",
    "        \n",
    "        if not self.bytes_dictionary:\n",
    "            self.__estimating_memory()\n",
    "            \n",
    "        return self.bytes_dictionary\n",
    "                \n",
    "    def indexing(self,*index_columns):        \n",
    "        index_columns = list(index_columns)\n",
    "        \n",
    "        for col in index_columns:\n",
    "            try:\n",
    "                self.__indexing(col)\n",
    "            except KeyError as e:\n",
    "                print(f\"Column {e} does not exist.\")\n",
    "\n",
    "        self.__estimating_memory()\n",
    "        \n",
    "    def delete_index(self,*index_columns):\n",
    "        index_columns = list(index_columns)\n",
    "        \n",
    "        for col in index_columns:\n",
    "            try:\n",
    "                del self.index_dictionary[col]\n",
    "            except KeyError as e:\n",
    "                print(f\"Column {e} not indexed\")\n",
    "        \n",
    "        self.__estimating_memory()\n",
    "        \n",
    "    def progress_bar(self,iterator,total):\n",
    "        try:\n",
    "            return tqdm(iterator,total=total)\n",
    "        except:\n",
    "            if not self.tqdm_flag:\n",
    "                self.tqdm_flag = True\n",
    "                print(\"Hint: Install and import tqdm for progress bar --> from tqdm.auto import tqdm\")\n",
    "            return iterator\n",
    "    \n",
    "    def __indexing(self,col):\n",
    "        print(f\"Indexing {col}\")\n",
    "        \n",
    "        col_iterator = zip(self.df.index,self.df[col])\n",
    "        \n",
    "        self.index_dictionary[col] = defaultdict(list)\n",
    "\n",
    "        for index,val in self.progress_bar(col_iterator,len(self.df)):\n",
    "            self.index_dictionary[col][val].append(index)\n",
    "        print(\"============\")\n",
    "\n",
    "    def __fetch(self,tup):\n",
    "        \n",
    "        col,key_initial = tup\n",
    "        \n",
    "        if callable(key_initial):\n",
    "            func = key_initial\n",
    "            key = []\n",
    "            \n",
    "            key = list(self.index_dictionary[col].keys())\n",
    "            \n",
    "            key = [i for i in key if func(i)]    \n",
    "        else:\n",
    "            key = key_initial\n",
    "            \n",
    "            \n",
    "        \n",
    "        temp_ls = []\n",
    "        \n",
    "        if isinstance(key,list):\n",
    "            \n",
    "            temp_ls = []\n",
    "            \n",
    "            for k in key:\n",
    "                temp_ls.extend(self.index_dictionary[col][k])\n",
    "            return temp_ls\n",
    "        \n",
    "        else:\n",
    "            return self.index_dictionary[col][key]\n",
    "        \n",
    "    def __search_recursive(self,equation):\n",
    "        and_gate,or_gate = False,False\n",
    "\n",
    "\n",
    "        if isinstance(equation,list):\n",
    "            for tup in equation:\n",
    "\n",
    "                if tup in ['and','or']:\n",
    "                    if tup =='and':\n",
    "                        and_gate = True\n",
    "                    if tup == 'or':\n",
    "                        or_gate = True\n",
    "                    continue\n",
    "\n",
    "                current_set = self.__search_recursive(tup)\n",
    "\n",
    "                if and_gate:\n",
    "                    and_gate = False\n",
    "                    current_set = current_set.intersection(previous_set)\n",
    "\n",
    "                if or_gate:\n",
    "                    or_gate = False\n",
    "                    current_set = current_set.union(previous_set)\n",
    "\n",
    "                previous_set = current_set\n",
    "\n",
    "            return current_set\n",
    "        else:\n",
    "            return set(self.__fetch(equation))\n",
    "        \n",
    "    def search(self,equation = None,index_only=False):\n",
    "        try:\n",
    "            get_results = list(self.__search_recursive(equation))\n",
    "            if index_only:\n",
    "                return get_results\n",
    "        except KeyError as e:\n",
    "            if e.args[0] in self.df.columns:\n",
    "                print(f\"Column {e} is not indexed. Please run indexing() with provided column names.\")\n",
    "            else:\n",
    "                print(f\"Column {e} does not exist.\")\n",
    "        \n",
    "        else:\n",
    "            return self.df.iloc[get_results]\n",
    "    \n",
    "    def __getitem__(self, equation):\n",
    "        \n",
    "        return self.search(equation)"
   ]
  },
  {
   "cell_type": "code",
   "execution_count": 121,
   "metadata": {},
   "outputs": [],
   "source": [
    "idf = PandaSearches(df)"
   ]
  },
  {
   "cell_type": "code",
   "execution_count": 122,
   "metadata": {},
   "outputs": [
    {
     "name": "stdout",
     "output_type": "stream",
     "text": [
      "Indexing category\n"
     ]
    },
    {
     "data": {
      "application/vnd.jupyter.widget-view+json": {
       "model_id": "1a884a6588824d779d8a9cfa0359eb9a",
       "version_major": 2,
       "version_minor": 0
      },
      "text/plain": [
       "  0%|          | 0/1000000 [00:00<?, ?it/s]"
      ]
     },
     "metadata": {},
     "output_type": "display_data"
    },
    {
     "name": "stdout",
     "output_type": "stream",
     "text": [
      "============\n"
     ]
    }
   ],
   "source": [
    "idf.indexing('category')"
   ]
  },
  {
   "cell_type": "code",
   "execution_count": 123,
   "metadata": {},
   "outputs": [
    {
     "data": {
      "text/plain": [
       "dict_keys(['category'])"
      ]
     },
     "execution_count": 123,
     "metadata": {},
     "output_type": "execute_result"
    }
   ],
   "source": [
    "idf.list_index()"
   ]
  },
  {
   "cell_type": "code",
   "execution_count": 125,
   "metadata": {},
   "outputs": [
    {
     "name": "stdout",
     "output_type": "stream",
     "text": [
      "CPU times: user 32.8 ms, sys: 7.44 ms, total: 40.3 ms\n",
      "Wall time: 38 ms\n"
     ]
    },
    {
     "data": {
      "text/html": [
       "<div>\n",
       "<style scoped>\n",
       "    .dataframe tbody tr th:only-of-type {\n",
       "        vertical-align: middle;\n",
       "    }\n",
       "\n",
       "    .dataframe tbody tr th {\n",
       "        vertical-align: top;\n",
       "    }\n",
       "\n",
       "    .dataframe thead th {\n",
       "        text-align: right;\n",
       "    }\n",
       "</style>\n",
       "<table border=\"1\" class=\"dataframe\">\n",
       "  <thead>\n",
       "    <tr style=\"text-align: right;\">\n",
       "      <th></th>\n",
       "      <th>user</th>\n",
       "      <th>event</th>\n",
       "      <th>category</th>\n",
       "      <th>a</th>\n",
       "      <th>b</th>\n",
       "      <th>c</th>\n",
       "    </tr>\n",
       "  </thead>\n",
       "  <tbody>\n",
       "    <tr>\n",
       "      <th>0</th>\n",
       "      <td>19749a2a-736e-11ed-8bc2-52b6cb0f4fb4</td>\n",
       "      <td>1976c318-736e-11ed-8bc2-52b6cb0f4fb4</td>\n",
       "      <td>44</td>\n",
       "      <td>0.035054</td>\n",
       "      <td>16.955843</td>\n",
       "      <td>125.008293</td>\n",
       "    </tr>\n",
       "    <tr>\n",
       "      <th>1</th>\n",
       "      <td>1972adfa-736e-11ed-8bc2-52b6cb0f4fb4</td>\n",
       "      <td>1976c35e-736e-11ed-8bc2-52b6cb0f4fb4</td>\n",
       "      <td>41</td>\n",
       "      <td>0.711236</td>\n",
       "      <td>24.833154</td>\n",
       "      <td>103.631130</td>\n",
       "    </tr>\n",
       "    <tr>\n",
       "      <th>2</th>\n",
       "      <td>19769fb4-736e-11ed-8bc2-52b6cb0f4fb4</td>\n",
       "      <td>1976c37c-736e-11ed-8bc2-52b6cb0f4fb4</td>\n",
       "      <td>29</td>\n",
       "      <td>0.852316</td>\n",
       "      <td>2.986981</td>\n",
       "      <td>27.063842</td>\n",
       "    </tr>\n",
       "    <tr>\n",
       "      <th>3</th>\n",
       "      <td>1973b042-736e-11ed-8bc2-52b6cb0f4fb4</td>\n",
       "      <td>1976c390-736e-11ed-8bc2-52b6cb0f4fb4</td>\n",
       "      <td>20</td>\n",
       "      <td>0.746972</td>\n",
       "      <td>12.276788</td>\n",
       "      <td>30.127665</td>\n",
       "    </tr>\n",
       "    <tr>\n",
       "      <th>4</th>\n",
       "      <td>1973cdc0-736e-11ed-8bc2-52b6cb0f4fb4</td>\n",
       "      <td>1976c3a4-736e-11ed-8bc2-52b6cb0f4fb4</td>\n",
       "      <td>23</td>\n",
       "      <td>0.627817</td>\n",
       "      <td>23.423300</td>\n",
       "      <td>71.815659</td>\n",
       "    </tr>\n",
       "    <tr>\n",
       "      <th>...</th>\n",
       "      <td>...</td>\n",
       "      <td>...</td>\n",
       "      <td>...</td>\n",
       "      <td>...</td>\n",
       "      <td>...</td>\n",
       "      <td>...</td>\n",
       "    </tr>\n",
       "    <tr>\n",
       "      <th>999994</th>\n",
       "      <td>19745a7e-736e-11ed-8bc2-52b6cb0f4fb4</td>\n",
       "      <td>1a83bb80-736e-11ed-8bc2-52b6cb0f4fb4</td>\n",
       "      <td>38</td>\n",
       "      <td>0.506768</td>\n",
       "      <td>17.342826</td>\n",
       "      <td>49.407182</td>\n",
       "    </tr>\n",
       "    <tr>\n",
       "      <th>999996</th>\n",
       "      <td>19762ebc-736e-11ed-8bc2-52b6cb0f4fb4</td>\n",
       "      <td>1a83bba8-736e-11ed-8bc2-52b6cb0f4fb4</td>\n",
       "      <td>13</td>\n",
       "      <td>0.192751</td>\n",
       "      <td>9.623275</td>\n",
       "      <td>19.272035</td>\n",
       "    </tr>\n",
       "    <tr>\n",
       "      <th>999997</th>\n",
       "      <td>197361aa-736e-11ed-8bc2-52b6cb0f4fb4</td>\n",
       "      <td>1a83bbbc-736e-11ed-8bc2-52b6cb0f4fb4</td>\n",
       "      <td>22</td>\n",
       "      <td>0.165489</td>\n",
       "      <td>14.887194</td>\n",
       "      <td>148.718953</td>\n",
       "    </tr>\n",
       "    <tr>\n",
       "      <th>999998</th>\n",
       "      <td>1975131a-736e-11ed-8bc2-52b6cb0f4fb4</td>\n",
       "      <td>1a83bbc6-736e-11ed-8bc2-52b6cb0f4fb4</td>\n",
       "      <td>18</td>\n",
       "      <td>0.276742</td>\n",
       "      <td>1.711922</td>\n",
       "      <td>264.894832</td>\n",
       "    </tr>\n",
       "    <tr>\n",
       "      <th>999999</th>\n",
       "      <td>19733c0c-736e-11ed-8bc2-52b6cb0f4fb4</td>\n",
       "      <td>1a83bbda-736e-11ed-8bc2-52b6cb0f4fb4</td>\n",
       "      <td>9</td>\n",
       "      <td>0.523171</td>\n",
       "      <td>19.408388</td>\n",
       "      <td>140.304849</td>\n",
       "    </tr>\n",
       "  </tbody>\n",
       "</table>\n",
       "<p>944463 rows × 6 columns</p>\n",
       "</div>"
      ],
      "text/plain": [
       "                                        user  \\\n",
       "0       19749a2a-736e-11ed-8bc2-52b6cb0f4fb4   \n",
       "1       1972adfa-736e-11ed-8bc2-52b6cb0f4fb4   \n",
       "2       19769fb4-736e-11ed-8bc2-52b6cb0f4fb4   \n",
       "3       1973b042-736e-11ed-8bc2-52b6cb0f4fb4   \n",
       "4       1973cdc0-736e-11ed-8bc2-52b6cb0f4fb4   \n",
       "...                                      ...   \n",
       "999994  19745a7e-736e-11ed-8bc2-52b6cb0f4fb4   \n",
       "999996  19762ebc-736e-11ed-8bc2-52b6cb0f4fb4   \n",
       "999997  197361aa-736e-11ed-8bc2-52b6cb0f4fb4   \n",
       "999998  1975131a-736e-11ed-8bc2-52b6cb0f4fb4   \n",
       "999999  19733c0c-736e-11ed-8bc2-52b6cb0f4fb4   \n",
       "\n",
       "                                       event  category         a          b  \\\n",
       "0       1976c318-736e-11ed-8bc2-52b6cb0f4fb4        44  0.035054  16.955843   \n",
       "1       1976c35e-736e-11ed-8bc2-52b6cb0f4fb4        41  0.711236  24.833154   \n",
       "2       1976c37c-736e-11ed-8bc2-52b6cb0f4fb4        29  0.852316   2.986981   \n",
       "3       1976c390-736e-11ed-8bc2-52b6cb0f4fb4        20  0.746972  12.276788   \n",
       "4       1976c3a4-736e-11ed-8bc2-52b6cb0f4fb4        23  0.627817  23.423300   \n",
       "...                                      ...       ...       ...        ...   \n",
       "999994  1a83bb80-736e-11ed-8bc2-52b6cb0f4fb4        38  0.506768  17.342826   \n",
       "999996  1a83bba8-736e-11ed-8bc2-52b6cb0f4fb4        13  0.192751   9.623275   \n",
       "999997  1a83bbbc-736e-11ed-8bc2-52b6cb0f4fb4        22  0.165489  14.887194   \n",
       "999998  1a83bbc6-736e-11ed-8bc2-52b6cb0f4fb4        18  0.276742   1.711922   \n",
       "999999  1a83bbda-736e-11ed-8bc2-52b6cb0f4fb4         9  0.523171  19.408388   \n",
       "\n",
       "                 c  \n",
       "0       125.008293  \n",
       "1       103.631130  \n",
       "2        27.063842  \n",
       "3        30.127665  \n",
       "4        71.815659  \n",
       "...            ...  \n",
       "999994   49.407182  \n",
       "999996   19.272035  \n",
       "999997  148.718953  \n",
       "999998  264.894832  \n",
       "999999  140.304849  \n",
       "\n",
       "[944463 rows x 6 columns]"
      ]
     },
     "execution_count": 125,
     "metadata": {},
     "output_type": "execute_result"
    }
   ],
   "source": [
    "%%time\n",
    "\n",
    "df[df['category']>2]"
   ]
  },
  {
   "cell_type": "code",
   "execution_count": 127,
   "metadata": {},
   "outputs": [
    {
     "ename": "NameError",
     "evalue": "name 'test_list' is not defined",
     "output_type": "error",
     "traceback": [
      "\u001b[0;31m---------------------------------------------------------------------------\u001b[0m",
      "\u001b[0;31mNameError\u001b[0m                                 Traceback (most recent call last)",
      "\u001b[0;32m<timed eval>\u001b[0m in \u001b[0;36m<module>\u001b[0;34m\u001b[0m\n",
      "\u001b[0;32m/var/folders/hh/p7rw65qd6q1d4zrlxyvty5lh0000gn/T/ipykernel_61118/2213821941.py\u001b[0m in \u001b[0;36m__getitem__\u001b[0;34m(self, equation)\u001b[0m\n\u001b[1;32m    160\u001b[0m     \u001b[0;32mdef\u001b[0m \u001b[0m__getitem__\u001b[0m\u001b[0;34m(\u001b[0m\u001b[0mself\u001b[0m\u001b[0;34m,\u001b[0m \u001b[0mequation\u001b[0m\u001b[0;34m)\u001b[0m\u001b[0;34m:\u001b[0m\u001b[0;34m\u001b[0m\u001b[0;34m\u001b[0m\u001b[0m\n\u001b[1;32m    161\u001b[0m \u001b[0;34m\u001b[0m\u001b[0m\n\u001b[0;32m--> 162\u001b[0;31m         \u001b[0;32mreturn\u001b[0m \u001b[0mself\u001b[0m\u001b[0;34m.\u001b[0m\u001b[0msearch\u001b[0m\u001b[0;34m(\u001b[0m\u001b[0mequation\u001b[0m\u001b[0;34m)\u001b[0m\u001b[0;34m\u001b[0m\u001b[0;34m\u001b[0m\u001b[0m\n\u001b[0m",
      "\u001b[0;32m/var/folders/hh/p7rw65qd6q1d4zrlxyvty5lh0000gn/T/ipykernel_61118/2213821941.py\u001b[0m in \u001b[0;36msearch\u001b[0;34m(self, equation, index_only)\u001b[0m\n\u001b[1;32m    146\u001b[0m     \u001b[0;32mdef\u001b[0m \u001b[0msearch\u001b[0m\u001b[0;34m(\u001b[0m\u001b[0mself\u001b[0m\u001b[0;34m,\u001b[0m\u001b[0mequation\u001b[0m \u001b[0;34m=\u001b[0m \u001b[0;32mNone\u001b[0m\u001b[0;34m,\u001b[0m\u001b[0mindex_only\u001b[0m\u001b[0;34m=\u001b[0m\u001b[0;32mFalse\u001b[0m\u001b[0;34m)\u001b[0m\u001b[0;34m:\u001b[0m\u001b[0;34m\u001b[0m\u001b[0;34m\u001b[0m\u001b[0m\n\u001b[1;32m    147\u001b[0m         \u001b[0;32mtry\u001b[0m\u001b[0;34m:\u001b[0m\u001b[0;34m\u001b[0m\u001b[0;34m\u001b[0m\u001b[0m\n\u001b[0;32m--> 148\u001b[0;31m             \u001b[0mget_results\u001b[0m \u001b[0;34m=\u001b[0m \u001b[0mlist\u001b[0m\u001b[0;34m(\u001b[0m\u001b[0mself\u001b[0m\u001b[0;34m.\u001b[0m\u001b[0m__search_recursive\u001b[0m\u001b[0;34m(\u001b[0m\u001b[0mequation\u001b[0m\u001b[0;34m)\u001b[0m\u001b[0;34m)\u001b[0m\u001b[0;34m\u001b[0m\u001b[0;34m\u001b[0m\u001b[0m\n\u001b[0m\u001b[1;32m    149\u001b[0m             \u001b[0;32mif\u001b[0m \u001b[0mindex_only\u001b[0m\u001b[0;34m:\u001b[0m\u001b[0;34m\u001b[0m\u001b[0;34m\u001b[0m\u001b[0m\n\u001b[1;32m    150\u001b[0m                 \u001b[0;32mreturn\u001b[0m \u001b[0mget_results\u001b[0m\u001b[0;34m\u001b[0m\u001b[0;34m\u001b[0m\u001b[0m\n",
      "\u001b[0;32m/var/folders/hh/p7rw65qd6q1d4zrlxyvty5lh0000gn/T/ipykernel_61118/2213821941.py\u001b[0m in \u001b[0;36m__search_recursive\u001b[0;34m(self, equation)\u001b[0m\n\u001b[1;32m    142\u001b[0m             \u001b[0;32mreturn\u001b[0m \u001b[0mcurrent_set\u001b[0m\u001b[0;34m\u001b[0m\u001b[0;34m\u001b[0m\u001b[0m\n\u001b[1;32m    143\u001b[0m         \u001b[0;32melse\u001b[0m\u001b[0;34m:\u001b[0m\u001b[0;34m\u001b[0m\u001b[0;34m\u001b[0m\u001b[0m\n\u001b[0;32m--> 144\u001b[0;31m             \u001b[0;32mreturn\u001b[0m \u001b[0mset\u001b[0m\u001b[0;34m(\u001b[0m\u001b[0mself\u001b[0m\u001b[0;34m.\u001b[0m\u001b[0m__fetch\u001b[0m\u001b[0;34m(\u001b[0m\u001b[0mequation\u001b[0m\u001b[0;34m)\u001b[0m\u001b[0;34m)\u001b[0m\u001b[0;34m\u001b[0m\u001b[0;34m\u001b[0m\u001b[0m\n\u001b[0m\u001b[1;32m    145\u001b[0m \u001b[0;34m\u001b[0m\u001b[0m\n\u001b[1;32m    146\u001b[0m     \u001b[0;32mdef\u001b[0m \u001b[0msearch\u001b[0m\u001b[0;34m(\u001b[0m\u001b[0mself\u001b[0m\u001b[0;34m,\u001b[0m\u001b[0mequation\u001b[0m \u001b[0;34m=\u001b[0m \u001b[0;32mNone\u001b[0m\u001b[0;34m,\u001b[0m\u001b[0mindex_only\u001b[0m\u001b[0;34m=\u001b[0m\u001b[0;32mFalse\u001b[0m\u001b[0;34m)\u001b[0m\u001b[0;34m:\u001b[0m\u001b[0;34m\u001b[0m\u001b[0;34m\u001b[0m\u001b[0m\n",
      "\u001b[0;32m/var/folders/hh/p7rw65qd6q1d4zrlxyvty5lh0000gn/T/ipykernel_61118/2213821941.py\u001b[0m in \u001b[0;36m__fetch\u001b[0;34m(self, tup)\u001b[0m\n\u001b[1;32m     93\u001b[0m             \u001b[0mkey\u001b[0m \u001b[0;34m=\u001b[0m \u001b[0;34m[\u001b[0m\u001b[0;34m]\u001b[0m\u001b[0;34m\u001b[0m\u001b[0;34m\u001b[0m\u001b[0m\n\u001b[1;32m     94\u001b[0m \u001b[0;34m\u001b[0m\u001b[0m\n\u001b[0;32m---> 95\u001b[0;31m             \u001b[0mkey\u001b[0m \u001b[0;34m=\u001b[0m \u001b[0mtest_list\u001b[0m\u001b[0;34m\u001b[0m\u001b[0;34m\u001b[0m\u001b[0m\n\u001b[0m\u001b[1;32m     96\u001b[0m \u001b[0;34m\u001b[0m\u001b[0m\n\u001b[1;32m     97\u001b[0m             \u001b[0mkey\u001b[0m \u001b[0;34m=\u001b[0m \u001b[0;34m[\u001b[0m\u001b[0mi\u001b[0m \u001b[0;32mfor\u001b[0m \u001b[0mi\u001b[0m \u001b[0;32min\u001b[0m \u001b[0mkey\u001b[0m \u001b[0;32mif\u001b[0m \u001b[0mfunc\u001b[0m\u001b[0;34m(\u001b[0m\u001b[0mi\u001b[0m\u001b[0;34m)\u001b[0m\u001b[0;34m]\u001b[0m\u001b[0;34m\u001b[0m\u001b[0;34m\u001b[0m\u001b[0m\n",
      "\u001b[0;31mNameError\u001b[0m: name 'test_list' is not defined"
     ]
    }
   ],
   "source": [
    "%%time\n",
    "\n",
    "idf[('category',lambda a:a>10)]"
   ]
  },
  {
   "cell_type": "code",
   "execution_count": null,
   "metadata": {},
   "outputs": [],
   "source": []
  },
  {
   "cell_type": "code",
   "execution_count": null,
   "metadata": {},
   "outputs": [],
   "source": []
  },
  {
   "cell_type": "code",
   "execution_count": 5,
   "metadata": {},
   "outputs": [
    {
     "name": "stdout",
     "output_type": "stream",
     "text": [
      "CPU times: user 28 µs, sys: 2 µs, total: 30 µs\n",
      "Wall time: 37.2 µs\n"
     ]
    },
    {
     "data": {
      "text/plain": [
       "50"
      ]
     },
     "execution_count": 5,
     "metadata": {},
     "output_type": "execute_result"
    }
   ],
   "source": [
    "%%time\n",
    "\n",
    "df.index[50]"
   ]
  },
  {
   "cell_type": "code",
   "execution_count": 8,
   "metadata": {},
   "outputs": [
    {
     "name": "stdout",
     "output_type": "stream",
     "text": [
      "CPU times: user 561 µs, sys: 2 µs, total: 563 µs\n",
      "Wall time: 571 µs\n"
     ]
    },
    {
     "data": {
      "text/plain": [
       "user        e96171d8-736c-11ed-8bc2-52b6cb0f4fb4\n",
       "event       e9653296-736c-11ed-8bc2-52b6cb0f4fb4\n",
       "category                                      37\n",
       "a                                       0.118584\n",
       "b                                       2.845459\n",
       "c                                     138.352069\n",
       "Name: 50, dtype: object"
      ]
     },
     "execution_count": 8,
     "metadata": {},
     "output_type": "execute_result"
    }
   ],
   "source": [
    "%%time\n",
    "\n",
    "df.iloc[50]"
   ]
  },
  {
   "cell_type": "code",
   "execution_count": 9,
   "metadata": {},
   "outputs": [],
   "source": [
    "df.index = df.user"
   ]
  },
  {
   "cell_type": "code",
   "execution_count": 10,
   "metadata": {},
   "outputs": [],
   "source": [
    "test_user = df.user.sample(1).iloc[0]"
   ]
  },
  {
   "cell_type": "code",
   "execution_count": null,
   "metadata": {},
   "outputs": [],
   "source": []
  },
  {
   "cell_type": "code",
   "execution_count": 3,
   "metadata": {
    "id": "3ojliGBaxUIP"
   },
   "outputs": [],
   "source": [
    "sample_users = list(df['user'].sample(100))"
   ]
  },
  {
   "cell_type": "code",
   "execution_count": 4,
   "metadata": {},
   "outputs": [],
   "source": [
    "import pandas as pd"
   ]
  },
  {
   "cell_type": "code",
   "execution_count": 5,
   "metadata": {},
   "outputs": [],
   "source": [
    "import numpy as np"
   ]
  },
  {
   "cell_type": "code",
   "execution_count": 170,
   "metadata": {},
   "outputs": [],
   "source": [
    "if tqdm in sys.modules:\n",
    "    print(1)"
   ]
  },
  {
   "cell_type": "code",
   "execution_count": 219,
   "metadata": {
    "id": "o-Gv2MhqyC1S"
   },
   "outputs": [],
   "source": [
    "from collections import defaultdict\n",
    "import sys\n",
    "\n",
    "# @pd.api.extensions.register_dataframe_accessor(\"ps\")\n",
    "class PandaSearch:\n",
    "    def __init__(self,pandas_obj = None):\n",
    "        self.tqdm_flag=None\n",
    "        self.df = pandas_obj\n",
    "        self.index_dictionary = {}\n",
    "        self.bytes_dictionary = None\n",
    "        \n",
    "#         if index:\n",
    "#             self.__indexing()\n",
    "#             self.__estimating_memory()\n",
    "\n",
    "    def __estimating_memory(self):\n",
    "        \n",
    "        self.bytes_dictionary = {}\n",
    "\n",
    "        tot_size = 0\n",
    "        for col in self.index_dictionary.keys():\n",
    "            mem_size = sum([sys.getsizeof(i) for i in df[col].unique()]) + len(df)*28\n",
    "            self.bytes_dictionary[col] = mem_size\n",
    "            \n",
    "            tot_size += mem_size\n",
    "            \n",
    "        self.bytes_dictionary['total'] = tot_size\n",
    "\n",
    "        \n",
    "#         return self.bytes_dictionary\n",
    "\n",
    "\n",
    "    def list_index(self):\n",
    "        return self.index_dictionary.keys()\n",
    "    \n",
    "    def estimating_memory(self):\n",
    "        \n",
    "        if not self.bytes_dictionary:\n",
    "            self.__estimating_memory()\n",
    "            \n",
    "        return self.bytes_dictionary\n",
    "                \n",
    "    def indexing(self,*index_columns):        \n",
    "        index_columns = list(index_columns)\n",
    "        \n",
    "        for col in index_columns:\n",
    "            try:\n",
    "                self.__indexing(col)\n",
    "            except KeyError as e:\n",
    "                print(f\"Column {e} does not exist.\")\n",
    "\n",
    "        self.__estimating_memory()\n",
    "        \n",
    "    def delete_index(self,*index_columns):\n",
    "        index_columns = list(index_columns)\n",
    "        \n",
    "        for col in index_columns:\n",
    "            try:\n",
    "                del self.index_dictionary[col]\n",
    "            except KeyError as e:\n",
    "                print(f\"Column {e} not indexed\")\n",
    "        \n",
    "        self.__estimating_memory()\n",
    "        \n",
    "    def progress_bar(self,iterator,total):\n",
    "        try:\n",
    "            return tqdm(iterator,total=total)\n",
    "        except:\n",
    "            if not self.tqdm_flag:\n",
    "                self.tqdm_flag = True\n",
    "                print(\"Hint: Install and import tqdm for progress bar --> from tqdm.auto import tqdm\")\n",
    "            return iterator\n",
    "    \n",
    "    def __indexing(self,col):\n",
    "        print(f\"Indexing {col}\")\n",
    "        \n",
    "        col_iterator = zip(self.df.index,self.df[col])\n",
    "        \n",
    "        self.index_dictionary[col] = defaultdict(list)\n",
    "\n",
    "        for index,val in self.progress_bar(col_iterator,len(self.df)):\n",
    "            self.index_dictionary[col][val].append(index)\n",
    "        print(\"============\")\n",
    "\n",
    "    def __fetch(self,tup):\n",
    "        col,key = tup\n",
    "        \n",
    "        temp_ls = []\n",
    "        \n",
    "        if isinstance(key,list):\n",
    "            \n",
    "            temp_ls = []\n",
    "            \n",
    "            for k in key:\n",
    "                temp_ls.extend(self.index_dictionary[col][k])\n",
    "            return temp_ls\n",
    "        \n",
    "        else:\n",
    "            return self.index_dictionary[col][key]\n",
    "        \n",
    "    def __search_recursive(self,equation):\n",
    "        and_gate,or_gate = False,False\n",
    "\n",
    "\n",
    "        if isinstance(equation,list):\n",
    "            for tup in equation:\n",
    "\n",
    "                if tup in ['and','or']:\n",
    "                    if tup =='and':\n",
    "                        and_gate = True\n",
    "                    if tup == 'or':\n",
    "                        or_gate = True\n",
    "                    continue\n",
    "\n",
    "                current_set = self.__search_recursive(tup)\n",
    "\n",
    "                if and_gate:\n",
    "                    and_gate = False\n",
    "                    current_set = current_set.intersection(previous_set)\n",
    "\n",
    "                if or_gate:\n",
    "                    or_gate = False\n",
    "                    current_set = current_set.union(previous_set)\n",
    "\n",
    "                previous_set = current_set\n",
    "\n",
    "            return current_set\n",
    "        else:\n",
    "            return set(self.__fetch(equation))\n",
    "        \n",
    "    def search(self,equation = None,index_only=False):\n",
    "        try:\n",
    "            get_results = list(self.__search_recursive(equation))\n",
    "            if index_only:\n",
    "                return get_results\n",
    "        except KeyError as e:\n",
    "            if e.args[0] in self.df.columns:\n",
    "                print(f\"Column {e} is not indexed. Please run indexing() with provided column names.\")\n",
    "            else:\n",
    "                print(f\"Column {e} does not exist.\")\n",
    "        \n",
    "        else:\n",
    "            return self.df.iloc[get_results]\n",
    "    \n",
    "    def __getitem__(self, equation):\n",
    "        \n",
    "        return self.search(equation)"
   ]
  },
  {
   "cell_type": "code",
   "execution_count": 220,
   "metadata": {},
   "outputs": [],
   "source": [
    "idf = PandaSearch(df)"
   ]
  },
  {
   "cell_type": "code",
   "execution_count": 222,
   "metadata": {},
   "outputs": [],
   "source": [
    "from tqdm.auto import tqdm"
   ]
  },
  {
   "cell_type": "code",
   "execution_count": 223,
   "metadata": {},
   "outputs": [
    {
     "name": "stdout",
     "output_type": "stream",
     "text": [
      "Indexing user\n"
     ]
    },
    {
     "data": {
      "application/vnd.jupyter.widget-view+json": {
       "model_id": "5182f529f0614d2086886b4a8950d6e3",
       "version_major": 2,
       "version_minor": 0
      },
      "text/plain": [
       "  0%|          | 0/1000000 [00:00<?, ?it/s]"
      ]
     },
     "metadata": {},
     "output_type": "display_data"
    },
    {
     "name": "stdout",
     "output_type": "stream",
     "text": [
      "============\n",
      "Indexing category\n"
     ]
    },
    {
     "data": {
      "application/vnd.jupyter.widget-view+json": {
       "model_id": "bf404ac1060b41baafec4321187082ad",
       "version_major": 2,
       "version_minor": 0
      },
      "text/plain": [
       "  0%|          | 0/1000000 [00:00<?, ?it/s]"
      ]
     },
     "metadata": {},
     "output_type": "display_data"
    },
    {
     "name": "stdout",
     "output_type": "stream",
     "text": [
      "============\n"
     ]
    }
   ],
   "source": [
    "idf.indexing('user','category')"
   ]
  },
  {
   "cell_type": "code",
   "execution_count": 160,
   "metadata": {},
   "outputs": [
    {
     "data": {
      "text/plain": [
       "dict_keys(['user'])"
      ]
     },
     "execution_count": 160,
     "metadata": {},
     "output_type": "execute_result"
    }
   ],
   "source": [
    "idf.list_index()"
   ]
  },
  {
   "cell_type": "code",
   "execution_count": 129,
   "metadata": {},
   "outputs": [
    {
     "name": "stdout",
     "output_type": "stream",
     "text": [
      "Column 'category' is not indexed. Please run indexing() with provided column names.\n"
     ]
    }
   ],
   "source": [
    "idf[('category',5)]"
   ]
  },
  {
   "cell_type": "code",
   "execution_count": 7,
   "metadata": {},
   "outputs": [],
   "source": [
    "test_user = df.iloc[0]['user']\n",
    "test_user_2 = df.iloc[1]['user']"
   ]
  },
  {
   "cell_type": "code",
   "execution_count": 8,
   "metadata": {},
   "outputs": [],
   "source": [
    "equation = [[('user',test_user),'and',('category',2)],'or',[('user',test_user_2),'and',('category',[3,4])]]"
   ]
  },
  {
   "cell_type": "code",
   "execution_count": 25,
   "metadata": {},
   "outputs": [
    {
     "name": "stdout",
     "output_type": "stream",
     "text": [
      "False\n",
      "'user'\n",
      "Index(['user', 'event', 'category', 'a', 'b', 'c'], dtype='object')\n",
      "True\n"
     ]
    }
   ],
   "source": [
    "dc = {}\n",
    "tx= None\n",
    "try:\n",
    "    dc['user']\n",
    "except KeyError as e:\n",
    "    print(str(e) in df.columns)\n",
    "    print(e)\n",
    "    print(df.columns)\n",
    "    print(str(e)[1:-1] in df.columns)\n",
    "    tx=e"
   ]
  },
  {
   "cell_type": "code",
   "execution_count": 32,
   "metadata": {},
   "outputs": [
    {
     "data": {
      "text/plain": [
       "'user'"
      ]
     },
     "execution_count": 32,
     "metadata": {},
     "output_type": "execute_result"
    }
   ],
   "source": [
    "tx.args[0]"
   ]
  },
  {
   "cell_type": "code",
   "execution_count": 30,
   "metadata": {},
   "outputs": [
    {
     "data": {
      "text/plain": [
       "KeyError"
      ]
     },
     "execution_count": 30,
     "metadata": {},
     "output_type": "execute_result"
    }
   ],
   "source": [
    "type(tx)"
   ]
  },
  {
   "cell_type": "code",
   "execution_count": 21,
   "metadata": {},
   "outputs": [
    {
     "data": {
      "text/plain": [
       "True"
      ]
     },
     "execution_count": 21,
     "metadata": {},
     "output_type": "execute_result"
    }
   ],
   "source": [
    "'user' in df.columns"
   ]
  },
  {
   "cell_type": "code",
   "execution_count": 10,
   "metadata": {},
   "outputs": [
    {
     "name": "stdout",
     "output_type": "stream",
     "text": [
      "Indexing user\n"
     ]
    },
    {
     "data": {
      "application/vnd.jupyter.widget-view+json": {
       "model_id": "7c76a84def0e40049b2fdf2daacef6bc",
       "version_major": 2,
       "version_minor": 0
      },
      "text/plain": [
       "  0%|          | 0/1000000 [00:00<?, ?it/s]"
      ]
     },
     "metadata": {},
     "output_type": "display_data"
    },
    {
     "name": "stdout",
     "output_type": "stream",
     "text": [
      "Indexing category\n"
     ]
    },
    {
     "data": {
      "application/vnd.jupyter.widget-view+json": {
       "model_id": "324da119a2f848078e413556930aa225",
       "version_major": 2,
       "version_minor": 0
      },
      "text/plain": [
       "  0%|          | 0/1000000 [00:00<?, ?it/s]"
      ]
     },
     "metadata": {},
     "output_type": "display_data"
    },
    {
     "name": "stdout",
     "output_type": "stream",
     "text": [
      "Indexing event\n"
     ]
    },
    {
     "data": {
      "application/vnd.jupyter.widget-view+json": {
       "model_id": "305354978c2147cca4ced2a751e8fd44",
       "version_major": 2,
       "version_minor": 0
      },
      "text/plain": [
       "  0%|          | 0/1000000 [00:00<?, ?it/s]"
      ]
     },
     "metadata": {},
     "output_type": "display_data"
    }
   ],
   "source": [
    "df.ps.indexing(['user','category','event'])"
   ]
  },
  {
   "cell_type": "code",
   "execution_count": 14,
   "metadata": {},
   "outputs": [
    {
     "name": "stdout",
     "output_type": "stream",
     "text": [
      "Column 'x' is not indexed. Please run indexing() with provided column names.\n"
     ]
    }
   ],
   "source": [
    "df.ps.search(('x',2))"
   ]
  },
  {
   "cell_type": "code",
   "execution_count": 7,
   "metadata": {},
   "outputs": [
    {
     "name": "stdout",
     "output_type": "stream",
     "text": [
      "Column ''category'' is not indexed. Please run indexing() with provided column names.\n"
     ]
    },
    {
     "ename": "UnboundLocalError",
     "evalue": "local variable 'get_results' referenced before assignment",
     "output_type": "error",
     "traceback": [
      "\u001b[0;31m---------------------------------------------------------------------------\u001b[0m",
      "\u001b[0;31mUnboundLocalError\u001b[0m                         Traceback (most recent call last)",
      "\u001b[0;32m/var/folders/hh/p7rw65qd6q1d4zrlxyvty5lh0000gn/T/ipykernel_51250/1384473927.py\u001b[0m in \u001b[0;36m<module>\u001b[0;34m\u001b[0m\n\u001b[0;32m----> 1\u001b[0;31m \u001b[0mdf\u001b[0m\u001b[0;34m.\u001b[0m\u001b[0mps\u001b[0m\u001b[0;34m.\u001b[0m\u001b[0msearch\u001b[0m\u001b[0;34m(\u001b[0m\u001b[0;34m(\u001b[0m\u001b[0;34m'category'\u001b[0m\u001b[0;34m,\u001b[0m\u001b[0;36m2\u001b[0m\u001b[0;34m)\u001b[0m\u001b[0;34m)\u001b[0m\u001b[0;34m\u001b[0m\u001b[0;34m\u001b[0m\u001b[0m\n\u001b[0m",
      "\u001b[0;32m/var/folders/hh/p7rw65qd6q1d4zrlxyvty5lh0000gn/T/ipykernel_51250/3311438239.py\u001b[0m in \u001b[0;36msearch\u001b[0;34m(self, equation, index_only)\u001b[0m\n\u001b[1;32m    112\u001b[0m \u001b[0;34m\u001b[0m\u001b[0m\n\u001b[1;32m    113\u001b[0m         \u001b[0;32melse\u001b[0m\u001b[0;34m:\u001b[0m\u001b[0;34m\u001b[0m\u001b[0;34m\u001b[0m\u001b[0m\n\u001b[0;32m--> 114\u001b[0;31m             \u001b[0;32mreturn\u001b[0m \u001b[0mself\u001b[0m\u001b[0;34m.\u001b[0m\u001b[0mdf\u001b[0m\u001b[0;34m.\u001b[0m\u001b[0miloc\u001b[0m\u001b[0;34m[\u001b[0m\u001b[0mget_results\u001b[0m\u001b[0;34m]\u001b[0m\u001b[0;34m\u001b[0m\u001b[0;34m\u001b[0m\u001b[0m\n\u001b[0m\u001b[1;32m    115\u001b[0m \u001b[0;34m\u001b[0m\u001b[0m\n\u001b[1;32m    116\u001b[0m     \u001b[0;32mdef\u001b[0m \u001b[0m__getitem__\u001b[0m\u001b[0;34m(\u001b[0m\u001b[0mself\u001b[0m\u001b[0;34m,\u001b[0m \u001b[0mitems\u001b[0m\u001b[0;34m)\u001b[0m\u001b[0;34m:\u001b[0m\u001b[0;34m\u001b[0m\u001b[0;34m\u001b[0m\u001b[0m\n",
      "\u001b[0;31mUnboundLocalError\u001b[0m: local variable 'get_results' referenced before assignment"
     ]
    }
   ],
   "source": [
    "df.ps.search(('category',2))"
   ]
  },
  {
   "cell_type": "code",
   "execution_count": 12,
   "metadata": {},
   "outputs": [],
   "source": [
    "ts = {'a':2}"
   ]
  },
  {
   "cell_type": "code",
   "execution_count": 14,
   "metadata": {},
   "outputs": [
    {
     "name": "stdout",
     "output_type": "stream",
     "text": [
      "'b'\n"
     ]
    }
   ],
   "source": [
    "try:\n",
    "    ts['b']\n",
    "except KeyError as e:\n",
    "    print(e)"
   ]
  },
  {
   "cell_type": "code",
   "execution_count": 8,
   "metadata": {},
   "outputs": [
    {
     "data": {
      "text/plain": [
       "<__main__.PandaSearch at 0x17bba06d0>"
      ]
     },
     "execution_count": 8,
     "metadata": {},
     "output_type": "execute_result"
    }
   ],
   "source": [
    "df.ps.indexing(['user','category','event'])"
   ]
  },
  {
   "cell_type": "code",
   "execution_count": 10,
   "metadata": {},
   "outputs": [
    {
     "ename": "TypeError",
     "evalue": "'PandaSearch' object is not callable",
     "output_type": "error",
     "traceback": [
      "\u001b[0;31m---------------------------------------------------------------------------\u001b[0m",
      "\u001b[0;31mTypeError\u001b[0m                                 Traceback (most recent call last)",
      "\u001b[0;32m/var/folders/hh/p7rw65qd6q1d4zrlxyvty5lh0000gn/T/ipykernel_51022/2325793795.py\u001b[0m in \u001b[0;36m<module>\u001b[0;34m\u001b[0m\n\u001b[0;32m----> 1\u001b[0;31m \u001b[0mdf\u001b[0m\u001b[0;34m.\u001b[0m\u001b[0mps\u001b[0m\u001b[0;34m(\u001b[0m\u001b[0;34m[\u001b[0m\u001b[0;34m'user'\u001b[0m\u001b[0;34m,\u001b[0m\u001b[0;34m'event'\u001b[0m\u001b[0;34m]\u001b[0m\u001b[0;34m)\u001b[0m\u001b[0;34m\u001b[0m\u001b[0;34m\u001b[0m\u001b[0m\n\u001b[0m",
      "\u001b[0;31mTypeError\u001b[0m: 'PandaSearch' object is not callable"
     ]
    }
   ],
   "source": [
    "df.ps(['user','event'])"
   ]
  },
  {
   "cell_type": "code",
   "execution_count": 9,
   "metadata": {},
   "outputs": [
    {
     "ename": "KeyError",
     "evalue": "'user'",
     "output_type": "error",
     "traceback": [
      "\u001b[0;31m---------------------------------------------------------------------------\u001b[0m",
      "\u001b[0;31mKeyError\u001b[0m                                  Traceback (most recent call last)",
      "\u001b[0;32m/var/folders/hh/p7rw65qd6q1d4zrlxyvty5lh0000gn/T/ipykernel_51022/1931800635.py\u001b[0m in \u001b[0;36m<module>\u001b[0;34m\u001b[0m\n\u001b[0;32m----> 1\u001b[0;31m \u001b[0mdf\u001b[0m\u001b[0;34m.\u001b[0m\u001b[0mps\u001b[0m\u001b[0;34m.\u001b[0m\u001b[0msearch\u001b[0m\u001b[0;34m(\u001b[0m\u001b[0mequation\u001b[0m\u001b[0;34m)\u001b[0m\u001b[0;34m\u001b[0m\u001b[0;34m\u001b[0m\u001b[0m\n\u001b[0m",
      "\u001b[0;32m/var/folders/hh/p7rw65qd6q1d4zrlxyvty5lh0000gn/T/ipykernel_51022/3063420179.py\u001b[0m in \u001b[0;36msearch\u001b[0;34m(self, equation, index_only)\u001b[0m\n\u001b[1;32m     95\u001b[0m \u001b[0;34m\u001b[0m\u001b[0m\n\u001b[1;32m     96\u001b[0m     \u001b[0;32mdef\u001b[0m \u001b[0msearch\u001b[0m\u001b[0;34m(\u001b[0m\u001b[0mself\u001b[0m\u001b[0;34m,\u001b[0m\u001b[0mequation\u001b[0m \u001b[0;34m=\u001b[0m \u001b[0;32mNone\u001b[0m\u001b[0;34m,\u001b[0m\u001b[0mindex_only\u001b[0m\u001b[0;34m=\u001b[0m\u001b[0;32mFalse\u001b[0m\u001b[0;34m)\u001b[0m\u001b[0;34m:\u001b[0m\u001b[0;34m\u001b[0m\u001b[0;34m\u001b[0m\u001b[0m\n\u001b[0;32m---> 97\u001b[0;31m         \u001b[0mget_results\u001b[0m \u001b[0;34m=\u001b[0m \u001b[0mlist\u001b[0m\u001b[0;34m(\u001b[0m\u001b[0mself\u001b[0m\u001b[0;34m.\u001b[0m\u001b[0m__search_recursive\u001b[0m\u001b[0;34m(\u001b[0m\u001b[0mequation\u001b[0m\u001b[0;34m)\u001b[0m\u001b[0;34m)\u001b[0m\u001b[0;34m\u001b[0m\u001b[0;34m\u001b[0m\u001b[0m\n\u001b[0m\u001b[1;32m     98\u001b[0m \u001b[0;34m\u001b[0m\u001b[0m\n\u001b[1;32m     99\u001b[0m         \u001b[0;32mif\u001b[0m \u001b[0mindex_only\u001b[0m\u001b[0;34m:\u001b[0m\u001b[0;34m\u001b[0m\u001b[0;34m\u001b[0m\u001b[0m\n",
      "\u001b[0;32m/var/folders/hh/p7rw65qd6q1d4zrlxyvty5lh0000gn/T/ipykernel_51022/3063420179.py\u001b[0m in \u001b[0;36m__search_recursive\u001b[0;34m(self, equation)\u001b[0m\n\u001b[1;32m     78\u001b[0m                     \u001b[0;32mcontinue\u001b[0m\u001b[0;34m\u001b[0m\u001b[0;34m\u001b[0m\u001b[0m\n\u001b[1;32m     79\u001b[0m \u001b[0;34m\u001b[0m\u001b[0m\n\u001b[0;32m---> 80\u001b[0;31m                 \u001b[0mcurrent_set\u001b[0m \u001b[0;34m=\u001b[0m \u001b[0mself\u001b[0m\u001b[0;34m.\u001b[0m\u001b[0m__search_recursive\u001b[0m\u001b[0;34m(\u001b[0m\u001b[0mtup\u001b[0m\u001b[0;34m)\u001b[0m\u001b[0;34m\u001b[0m\u001b[0;34m\u001b[0m\u001b[0m\n\u001b[0m\u001b[1;32m     81\u001b[0m \u001b[0;34m\u001b[0m\u001b[0m\n\u001b[1;32m     82\u001b[0m                 \u001b[0;32mif\u001b[0m \u001b[0mand_gate\u001b[0m\u001b[0;34m:\u001b[0m\u001b[0;34m\u001b[0m\u001b[0;34m\u001b[0m\u001b[0m\n",
      "\u001b[0;32m/var/folders/hh/p7rw65qd6q1d4zrlxyvty5lh0000gn/T/ipykernel_51022/3063420179.py\u001b[0m in \u001b[0;36m__search_recursive\u001b[0;34m(self, equation)\u001b[0m\n\u001b[1;32m     78\u001b[0m                     \u001b[0;32mcontinue\u001b[0m\u001b[0;34m\u001b[0m\u001b[0;34m\u001b[0m\u001b[0m\n\u001b[1;32m     79\u001b[0m \u001b[0;34m\u001b[0m\u001b[0m\n\u001b[0;32m---> 80\u001b[0;31m                 \u001b[0mcurrent_set\u001b[0m \u001b[0;34m=\u001b[0m \u001b[0mself\u001b[0m\u001b[0;34m.\u001b[0m\u001b[0m__search_recursive\u001b[0m\u001b[0;34m(\u001b[0m\u001b[0mtup\u001b[0m\u001b[0;34m)\u001b[0m\u001b[0;34m\u001b[0m\u001b[0;34m\u001b[0m\u001b[0m\n\u001b[0m\u001b[1;32m     81\u001b[0m \u001b[0;34m\u001b[0m\u001b[0m\n\u001b[1;32m     82\u001b[0m                 \u001b[0;32mif\u001b[0m \u001b[0mand_gate\u001b[0m\u001b[0;34m:\u001b[0m\u001b[0;34m\u001b[0m\u001b[0;34m\u001b[0m\u001b[0m\n",
      "\u001b[0;32m/var/folders/hh/p7rw65qd6q1d4zrlxyvty5lh0000gn/T/ipykernel_51022/3063420179.py\u001b[0m in \u001b[0;36m__search_recursive\u001b[0;34m(self, equation)\u001b[0m\n\u001b[1;32m     92\u001b[0m             \u001b[0;32mreturn\u001b[0m \u001b[0mcurrent_set\u001b[0m\u001b[0;34m\u001b[0m\u001b[0;34m\u001b[0m\u001b[0m\n\u001b[1;32m     93\u001b[0m         \u001b[0;32melse\u001b[0m\u001b[0;34m:\u001b[0m\u001b[0;34m\u001b[0m\u001b[0;34m\u001b[0m\u001b[0m\n\u001b[0;32m---> 94\u001b[0;31m             \u001b[0;32mreturn\u001b[0m \u001b[0mset\u001b[0m\u001b[0;34m(\u001b[0m\u001b[0mself\u001b[0m\u001b[0;34m.\u001b[0m\u001b[0m__fetch\u001b[0m\u001b[0;34m(\u001b[0m\u001b[0mequation\u001b[0m\u001b[0;34m)\u001b[0m\u001b[0;34m)\u001b[0m\u001b[0;34m\u001b[0m\u001b[0;34m\u001b[0m\u001b[0m\n\u001b[0m\u001b[1;32m     95\u001b[0m \u001b[0;34m\u001b[0m\u001b[0m\n\u001b[1;32m     96\u001b[0m     \u001b[0;32mdef\u001b[0m \u001b[0msearch\u001b[0m\u001b[0;34m(\u001b[0m\u001b[0mself\u001b[0m\u001b[0;34m,\u001b[0m\u001b[0mequation\u001b[0m \u001b[0;34m=\u001b[0m \u001b[0;32mNone\u001b[0m\u001b[0;34m,\u001b[0m\u001b[0mindex_only\u001b[0m\u001b[0;34m=\u001b[0m\u001b[0;32mFalse\u001b[0m\u001b[0;34m)\u001b[0m\u001b[0;34m:\u001b[0m\u001b[0;34m\u001b[0m\u001b[0;34m\u001b[0m\u001b[0m\n",
      "\u001b[0;32m/var/folders/hh/p7rw65qd6q1d4zrlxyvty5lh0000gn/T/ipykernel_51022/3063420179.py\u001b[0m in \u001b[0;36m__fetch\u001b[0;34m(self, tup)\u001b[0m\n\u001b[1;32m     62\u001b[0m \u001b[0;34m\u001b[0m\u001b[0m\n\u001b[1;32m     63\u001b[0m         \u001b[0;32melse\u001b[0m\u001b[0;34m:\u001b[0m\u001b[0;34m\u001b[0m\u001b[0;34m\u001b[0m\u001b[0m\n\u001b[0;32m---> 64\u001b[0;31m             \u001b[0;32mreturn\u001b[0m \u001b[0mself\u001b[0m\u001b[0;34m.\u001b[0m\u001b[0mindex_dictionary\u001b[0m\u001b[0;34m[\u001b[0m\u001b[0mcol\u001b[0m\u001b[0;34m]\u001b[0m\u001b[0;34m[\u001b[0m\u001b[0mkey\u001b[0m\u001b[0;34m]\u001b[0m\u001b[0;34m\u001b[0m\u001b[0;34m\u001b[0m\u001b[0m\n\u001b[0m\u001b[1;32m     65\u001b[0m \u001b[0;34m\u001b[0m\u001b[0m\n\u001b[1;32m     66\u001b[0m     \u001b[0;32mdef\u001b[0m \u001b[0m__search_recursive\u001b[0m\u001b[0;34m(\u001b[0m\u001b[0mself\u001b[0m\u001b[0;34m,\u001b[0m\u001b[0mequation\u001b[0m\u001b[0;34m)\u001b[0m\u001b[0;34m:\u001b[0m\u001b[0;34m\u001b[0m\u001b[0;34m\u001b[0m\u001b[0m\n",
      "\u001b[0;31mKeyError\u001b[0m: 'user'"
     ]
    }
   ],
   "source": [
    "df.ps.search(equation)"
   ]
  },
  {
   "cell_type": "code",
   "execution_count": 273,
   "metadata": {
    "colab": {
     "base_uri": "https://localhost:8080/",
     "height": 66,
     "referenced_widgets": [
      "8b24abeec2974fe7aa3379f3f21a9714",
      "1624249bcf424b01b4dbae976c7614ee",
      "12e2e19bbc81497299c34ddec5b948f3",
      "ea38a1fffd0c465fb7fe2d3c803e5d12",
      "e518a06231504d65b1ecd68d3894fa69",
      "c439ed19457d419caa147ec621250286",
      "bfe246eb0b92423582e5cf39dfa515c2",
      "4f5cce1a09aa489fae6c372a459a3c38",
      "6e78fa26eb9a436eb506657b1070d040",
      "76518ed891ec49879f5d523ac2419dfb",
      "8cb0417b75d0413cbf2dcbdc23a5a6eb"
     ]
    },
    "id": "ekpSxWPJ0rKl",
    "outputId": "cbeae98d-ea2e-4854-d3ea-1304aff32564"
   },
   "outputs": [
    {
     "name": "stdout",
     "output_type": "stream",
     "text": [
      "Indexing user\n"
     ]
    },
    {
     "data": {
      "application/vnd.jupyter.widget-view+json": {
       "model_id": "f79cf968ae6e4a1e9ada76d60406e8ee",
       "version_major": 2,
       "version_minor": 0
      },
      "text/plain": [
       "  0%|          | 0/1000000 [00:00<?, ?it/s]"
      ]
     },
     "metadata": {},
     "output_type": "display_data"
    },
    {
     "name": "stdout",
     "output_type": "stream",
     "text": [
      "Indexing event\n"
     ]
    },
    {
     "data": {
      "application/vnd.jupyter.widget-view+json": {
       "model_id": "64e518b2744d4d759d05a6bf6d80cff9",
       "version_major": 2,
       "version_minor": 0
      },
      "text/plain": [
       "  0%|          | 0/1000000 [00:00<?, ?it/s]"
      ]
     },
     "metadata": {},
     "output_type": "display_data"
    },
    {
     "name": "stdout",
     "output_type": "stream",
     "text": [
      "Indexing category\n"
     ]
    },
    {
     "data": {
      "application/vnd.jupyter.widget-view+json": {
       "model_id": "501b9cc14bdc40438877f7f592bec3f6",
       "version_major": 2,
       "version_minor": 0
      },
      "text/plain": [
       "  0%|          | 0/1000000 [00:00<?, ?it/s]"
      ]
     },
     "metadata": {},
     "output_type": "display_data"
    }
   ],
   "source": [
    "idf = PandaSearch(df,['user','event','category'])"
   ]
  },
  {
   "cell_type": "code",
   "execution_count": 297,
   "metadata": {},
   "outputs": [],
   "source": [
    "equation = [[('user',test_user),'and',('category',2)],'or',[('user',test_user_2),'and',('category',[3,4])]]"
   ]
  },
  {
   "cell_type": "code",
   "execution_count": 298,
   "metadata": {},
   "outputs": [
    {
     "name": "stdout",
     "output_type": "stream",
     "text": [
      "CPU times: user 13.6 ms, sys: 1.41 ms, total: 15 ms\n",
      "Wall time: 14 ms\n"
     ]
    },
    {
     "data": {
      "text/html": [
       "<div>\n",
       "<style scoped>\n",
       "    .dataframe tbody tr th:only-of-type {\n",
       "        vertical-align: middle;\n",
       "    }\n",
       "\n",
       "    .dataframe tbody tr th {\n",
       "        vertical-align: top;\n",
       "    }\n",
       "\n",
       "    .dataframe thead th {\n",
       "        text-align: right;\n",
       "    }\n",
       "</style>\n",
       "<table border=\"1\" class=\"dataframe\">\n",
       "  <thead>\n",
       "    <tr style=\"text-align: right;\">\n",
       "      <th></th>\n",
       "      <th>user</th>\n",
       "      <th>event</th>\n",
       "      <th>category</th>\n",
       "      <th>a</th>\n",
       "      <th>b</th>\n",
       "      <th>c</th>\n",
       "    </tr>\n",
       "  </thead>\n",
       "  <tbody>\n",
       "    <tr>\n",
       "      <th>898242</th>\n",
       "      <td>bcaaa74c-7045-11ed-9457-52b6cb0f4fb4</td>\n",
       "      <td>bdb9bd76-7045-11ed-9457-52b6cb0f4fb4</td>\n",
       "      <td>3</td>\n",
       "      <td>0.636449</td>\n",
       "      <td>20.371123</td>\n",
       "      <td>172.313993</td>\n",
       "    </tr>\n",
       "    <tr>\n",
       "      <th>924578</th>\n",
       "      <td>bcaabac0-7045-11ed-9457-52b6cb0f4fb4</td>\n",
       "      <td>bdc1e37a-7045-11ed-9457-52b6cb0f4fb4</td>\n",
       "      <td>2</td>\n",
       "      <td>0.571787</td>\n",
       "      <td>14.918500</td>\n",
       "      <td>83.569477</td>\n",
       "    </tr>\n",
       "    <tr>\n",
       "      <th>845177</th>\n",
       "      <td>bcaabac0-7045-11ed-9457-52b6cb0f4fb4</td>\n",
       "      <td>bdaa9bb6-7045-11ed-9457-52b6cb0f4fb4</td>\n",
       "      <td>2</td>\n",
       "      <td>0.962929</td>\n",
       "      <td>21.943516</td>\n",
       "      <td>125.978688</td>\n",
       "    </tr>\n",
       "    <tr>\n",
       "      <th>654767</th>\n",
       "      <td>bcaaa74c-7045-11ed-9457-52b6cb0f4fb4</td>\n",
       "      <td>bd744caa-7045-11ed-9457-52b6cb0f4fb4</td>\n",
       "      <td>4</td>\n",
       "      <td>0.997634</td>\n",
       "      <td>20.740012</td>\n",
       "      <td>45.823418</td>\n",
       "    </tr>\n",
       "    <tr>\n",
       "      <th>373758</th>\n",
       "      <td>bcaaa74c-7045-11ed-9457-52b6cb0f4fb4</td>\n",
       "      <td>bd24513c-7045-11ed-9457-52b6cb0f4fb4</td>\n",
       "      <td>3</td>\n",
       "      <td>0.458971</td>\n",
       "      <td>23.679036</td>\n",
       "      <td>79.934753</td>\n",
       "    </tr>\n",
       "    <tr>\n",
       "      <th>249335</th>\n",
       "      <td>bcaaa74c-7045-11ed-9457-52b6cb0f4fb4</td>\n",
       "      <td>bd01027c-7045-11ed-9457-52b6cb0f4fb4</td>\n",
       "      <td>3</td>\n",
       "      <td>0.196909</td>\n",
       "      <td>23.190820</td>\n",
       "      <td>183.837328</td>\n",
       "    </tr>\n",
       "    <tr>\n",
       "      <th>251897</th>\n",
       "      <td>bcaaa74c-7045-11ed-9457-52b6cb0f4fb4</td>\n",
       "      <td>bd01c874-7045-11ed-9457-52b6cb0f4fb4</td>\n",
       "      <td>4</td>\n",
       "      <td>0.827446</td>\n",
       "      <td>12.394661</td>\n",
       "      <td>65.983221</td>\n",
       "    </tr>\n",
       "    <tr>\n",
       "      <th>788986</th>\n",
       "      <td>bcaaa74c-7045-11ed-9457-52b6cb0f4fb4</td>\n",
       "      <td>bd9a5594-7045-11ed-9457-52b6cb0f4fb4</td>\n",
       "      <td>3</td>\n",
       "      <td>0.637079</td>\n",
       "      <td>18.844295</td>\n",
       "      <td>200.424727</td>\n",
       "    </tr>\n",
       "    <tr>\n",
       "      <th>971934</th>\n",
       "      <td>bcaaa74c-7045-11ed-9457-52b6cb0f4fb4</td>\n",
       "      <td>bdcf5f28-7045-11ed-9457-52b6cb0f4fb4</td>\n",
       "      <td>4</td>\n",
       "      <td>0.013652</td>\n",
       "      <td>8.135587</td>\n",
       "      <td>115.007785</td>\n",
       "    </tr>\n",
       "  </tbody>\n",
       "</table>\n",
       "</div>"
      ],
      "text/plain": [
       "                                        user  \\\n",
       "898242  bcaaa74c-7045-11ed-9457-52b6cb0f4fb4   \n",
       "924578  bcaabac0-7045-11ed-9457-52b6cb0f4fb4   \n",
       "845177  bcaabac0-7045-11ed-9457-52b6cb0f4fb4   \n",
       "654767  bcaaa74c-7045-11ed-9457-52b6cb0f4fb4   \n",
       "373758  bcaaa74c-7045-11ed-9457-52b6cb0f4fb4   \n",
       "249335  bcaaa74c-7045-11ed-9457-52b6cb0f4fb4   \n",
       "251897  bcaaa74c-7045-11ed-9457-52b6cb0f4fb4   \n",
       "788986  bcaaa74c-7045-11ed-9457-52b6cb0f4fb4   \n",
       "971934  bcaaa74c-7045-11ed-9457-52b6cb0f4fb4   \n",
       "\n",
       "                                       event  category         a          b  \\\n",
       "898242  bdb9bd76-7045-11ed-9457-52b6cb0f4fb4         3  0.636449  20.371123   \n",
       "924578  bdc1e37a-7045-11ed-9457-52b6cb0f4fb4         2  0.571787  14.918500   \n",
       "845177  bdaa9bb6-7045-11ed-9457-52b6cb0f4fb4         2  0.962929  21.943516   \n",
       "654767  bd744caa-7045-11ed-9457-52b6cb0f4fb4         4  0.997634  20.740012   \n",
       "373758  bd24513c-7045-11ed-9457-52b6cb0f4fb4         3  0.458971  23.679036   \n",
       "249335  bd01027c-7045-11ed-9457-52b6cb0f4fb4         3  0.196909  23.190820   \n",
       "251897  bd01c874-7045-11ed-9457-52b6cb0f4fb4         4  0.827446  12.394661   \n",
       "788986  bd9a5594-7045-11ed-9457-52b6cb0f4fb4         3  0.637079  18.844295   \n",
       "971934  bdcf5f28-7045-11ed-9457-52b6cb0f4fb4         4  0.013652   8.135587   \n",
       "\n",
       "                 c  \n",
       "898242  172.313993  \n",
       "924578   83.569477  \n",
       "845177  125.978688  \n",
       "654767   45.823418  \n",
       "373758   79.934753  \n",
       "249335  183.837328  \n",
       "251897   65.983221  \n",
       "788986  200.424727  \n",
       "971934  115.007785  "
      ]
     },
     "execution_count": 298,
     "metadata": {},
     "output_type": "execute_result"
    }
   ],
   "source": [
    "%%time\n",
    "\n",
    "idf.search(equation)"
   ]
  },
  {
   "cell_type": "code",
   "execution_count": 265,
   "metadata": {},
   "outputs": [
    {
     "name": "stdout",
     "output_type": "stream",
     "text": [
      "CPU times: user 107 ms, sys: 2.02 ms, total: 109 ms\n",
      "Wall time: 108 ms\n"
     ]
    },
    {
     "data": {
      "text/html": [
       "<div>\n",
       "<style scoped>\n",
       "    .dataframe tbody tr th:only-of-type {\n",
       "        vertical-align: middle;\n",
       "    }\n",
       "\n",
       "    .dataframe tbody tr th {\n",
       "        vertical-align: top;\n",
       "    }\n",
       "\n",
       "    .dataframe thead th {\n",
       "        text-align: right;\n",
       "    }\n",
       "</style>\n",
       "<table border=\"1\" class=\"dataframe\">\n",
       "  <thead>\n",
       "    <tr style=\"text-align: right;\">\n",
       "      <th></th>\n",
       "      <th>user</th>\n",
       "      <th>event</th>\n",
       "      <th>category</th>\n",
       "      <th>a</th>\n",
       "      <th>b</th>\n",
       "      <th>c</th>\n",
       "    </tr>\n",
       "  </thead>\n",
       "  <tbody>\n",
       "    <tr>\n",
       "      <th>249335</th>\n",
       "      <td>bcaaa74c-7045-11ed-9457-52b6cb0f4fb4</td>\n",
       "      <td>bd01027c-7045-11ed-9457-52b6cb0f4fb4</td>\n",
       "      <td>3</td>\n",
       "      <td>0.196909</td>\n",
       "      <td>23.190820</td>\n",
       "      <td>183.837328</td>\n",
       "    </tr>\n",
       "    <tr>\n",
       "      <th>373758</th>\n",
       "      <td>bcaaa74c-7045-11ed-9457-52b6cb0f4fb4</td>\n",
       "      <td>bd24513c-7045-11ed-9457-52b6cb0f4fb4</td>\n",
       "      <td>3</td>\n",
       "      <td>0.458971</td>\n",
       "      <td>23.679036</td>\n",
       "      <td>79.934753</td>\n",
       "    </tr>\n",
       "    <tr>\n",
       "      <th>788986</th>\n",
       "      <td>bcaaa74c-7045-11ed-9457-52b6cb0f4fb4</td>\n",
       "      <td>bd9a5594-7045-11ed-9457-52b6cb0f4fb4</td>\n",
       "      <td>3</td>\n",
       "      <td>0.637079</td>\n",
       "      <td>18.844295</td>\n",
       "      <td>200.424727</td>\n",
       "    </tr>\n",
       "    <tr>\n",
       "      <th>845177</th>\n",
       "      <td>bcaabac0-7045-11ed-9457-52b6cb0f4fb4</td>\n",
       "      <td>bdaa9bb6-7045-11ed-9457-52b6cb0f4fb4</td>\n",
       "      <td>2</td>\n",
       "      <td>0.962929</td>\n",
       "      <td>21.943516</td>\n",
       "      <td>125.978688</td>\n",
       "    </tr>\n",
       "    <tr>\n",
       "      <th>898242</th>\n",
       "      <td>bcaaa74c-7045-11ed-9457-52b6cb0f4fb4</td>\n",
       "      <td>bdb9bd76-7045-11ed-9457-52b6cb0f4fb4</td>\n",
       "      <td>3</td>\n",
       "      <td>0.636449</td>\n",
       "      <td>20.371123</td>\n",
       "      <td>172.313993</td>\n",
       "    </tr>\n",
       "    <tr>\n",
       "      <th>924578</th>\n",
       "      <td>bcaabac0-7045-11ed-9457-52b6cb0f4fb4</td>\n",
       "      <td>bdc1e37a-7045-11ed-9457-52b6cb0f4fb4</td>\n",
       "      <td>2</td>\n",
       "      <td>0.571787</td>\n",
       "      <td>14.918500</td>\n",
       "      <td>83.569477</td>\n",
       "    </tr>\n",
       "  </tbody>\n",
       "</table>\n",
       "</div>"
      ],
      "text/plain": [
       "                                        user  \\\n",
       "249335  bcaaa74c-7045-11ed-9457-52b6cb0f4fb4   \n",
       "373758  bcaaa74c-7045-11ed-9457-52b6cb0f4fb4   \n",
       "788986  bcaaa74c-7045-11ed-9457-52b6cb0f4fb4   \n",
       "845177  bcaabac0-7045-11ed-9457-52b6cb0f4fb4   \n",
       "898242  bcaaa74c-7045-11ed-9457-52b6cb0f4fb4   \n",
       "924578  bcaabac0-7045-11ed-9457-52b6cb0f4fb4   \n",
       "\n",
       "                                       event  category         a          b  \\\n",
       "249335  bd01027c-7045-11ed-9457-52b6cb0f4fb4         3  0.196909  23.190820   \n",
       "373758  bd24513c-7045-11ed-9457-52b6cb0f4fb4         3  0.458971  23.679036   \n",
       "788986  bd9a5594-7045-11ed-9457-52b6cb0f4fb4         3  0.637079  18.844295   \n",
       "845177  bdaa9bb6-7045-11ed-9457-52b6cb0f4fb4         2  0.962929  21.943516   \n",
       "898242  bdb9bd76-7045-11ed-9457-52b6cb0f4fb4         3  0.636449  20.371123   \n",
       "924578  bdc1e37a-7045-11ed-9457-52b6cb0f4fb4         2  0.571787  14.918500   \n",
       "\n",
       "                 c  \n",
       "249335  183.837328  \n",
       "373758   79.934753  \n",
       "788986  200.424727  \n",
       "845177  125.978688  \n",
       "898242  172.313993  \n",
       "924578   83.569477  "
      ]
     },
     "execution_count": 265,
     "metadata": {},
     "output_type": "execute_result"
    }
   ],
   "source": [
    "%%time\n",
    "\n",
    "df[((df['user'] == test_user) & (df['category']==2)) | (df['user'] == test_user_2) & (df['category']==3)]"
   ]
  },
  {
   "cell_type": "code",
   "execution_count": 199,
   "metadata": {},
   "outputs": [],
   "source": []
  },
  {
   "cell_type": "code",
   "execution_count": 200,
   "metadata": {},
   "outputs": [],
   "source": [
    "ops = ['and','or']"
   ]
  },
  {
   "cell_type": "code",
   "execution_count": 212,
   "metadata": {},
   "outputs": [],
   "source": [
    "def solve(equation):\n",
    "    and_gate,or_gate = False,False\n",
    "    \n",
    "    \n",
    "    if isinstance(equation,list):\n",
    "        for tup in equation:\n",
    "\n",
    "            if tup in ops:\n",
    "                if tup =='and':\n",
    "                    and_gate = True\n",
    "                if tup == 'or':\n",
    "                    or_gate = True\n",
    "                continue\n",
    "\n",
    "            current_set = solve(tup)\n",
    "\n",
    "            if and_gate:\n",
    "                and_gate = False\n",
    "                current_set = current_set.intersection(previous_set)\n",
    "\n",
    "            if or_gate:\n",
    "                or_gate = False\n",
    "                current_set = current_set.union(previous_set)\n",
    "            \n",
    "            previous_set = current_set\n",
    "            \n",
    "        return current_set\n",
    "    else:\n",
    "        return set(idf.search(equation))"
   ]
  },
  {
   "cell_type": "code",
   "execution_count": 216,
   "metadata": {},
   "outputs": [
    {
     "name": "stdout",
     "output_type": "stream",
     "text": [
      "CPU times: user 10.7 ms, sys: 846 µs, total: 11.6 ms\n",
      "Wall time: 11.4 ms\n"
     ]
    },
    {
     "data": {
      "text/html": [
       "<div>\n",
       "<style scoped>\n",
       "    .dataframe tbody tr th:only-of-type {\n",
       "        vertical-align: middle;\n",
       "    }\n",
       "\n",
       "    .dataframe tbody tr th {\n",
       "        vertical-align: top;\n",
       "    }\n",
       "\n",
       "    .dataframe thead th {\n",
       "        text-align: right;\n",
       "    }\n",
       "</style>\n",
       "<table border=\"1\" class=\"dataframe\">\n",
       "  <thead>\n",
       "    <tr style=\"text-align: right;\">\n",
       "      <th></th>\n",
       "      <th>user</th>\n",
       "      <th>event</th>\n",
       "      <th>category</th>\n",
       "      <th>a</th>\n",
       "      <th>b</th>\n",
       "      <th>c</th>\n",
       "    </tr>\n",
       "  </thead>\n",
       "  <tbody>\n",
       "    <tr>\n",
       "      <th>898242</th>\n",
       "      <td>bcaaa74c-7045-11ed-9457-52b6cb0f4fb4</td>\n",
       "      <td>bdb9bd76-7045-11ed-9457-52b6cb0f4fb4</td>\n",
       "      <td>3</td>\n",
       "      <td>0.636449</td>\n",
       "      <td>20.371123</td>\n",
       "      <td>172.313993</td>\n",
       "    </tr>\n",
       "    <tr>\n",
       "      <th>924578</th>\n",
       "      <td>bcaabac0-7045-11ed-9457-52b6cb0f4fb4</td>\n",
       "      <td>bdc1e37a-7045-11ed-9457-52b6cb0f4fb4</td>\n",
       "      <td>2</td>\n",
       "      <td>0.571787</td>\n",
       "      <td>14.918500</td>\n",
       "      <td>83.569477</td>\n",
       "    </tr>\n",
       "    <tr>\n",
       "      <th>249335</th>\n",
       "      <td>bcaaa74c-7045-11ed-9457-52b6cb0f4fb4</td>\n",
       "      <td>bd01027c-7045-11ed-9457-52b6cb0f4fb4</td>\n",
       "      <td>3</td>\n",
       "      <td>0.196909</td>\n",
       "      <td>23.190820</td>\n",
       "      <td>183.837328</td>\n",
       "    </tr>\n",
       "    <tr>\n",
       "      <th>845177</th>\n",
       "      <td>bcaabac0-7045-11ed-9457-52b6cb0f4fb4</td>\n",
       "      <td>bdaa9bb6-7045-11ed-9457-52b6cb0f4fb4</td>\n",
       "      <td>2</td>\n",
       "      <td>0.962929</td>\n",
       "      <td>21.943516</td>\n",
       "      <td>125.978688</td>\n",
       "    </tr>\n",
       "    <tr>\n",
       "      <th>788986</th>\n",
       "      <td>bcaaa74c-7045-11ed-9457-52b6cb0f4fb4</td>\n",
       "      <td>bd9a5594-7045-11ed-9457-52b6cb0f4fb4</td>\n",
       "      <td>3</td>\n",
       "      <td>0.637079</td>\n",
       "      <td>18.844295</td>\n",
       "      <td>200.424727</td>\n",
       "    </tr>\n",
       "    <tr>\n",
       "      <th>373758</th>\n",
       "      <td>bcaaa74c-7045-11ed-9457-52b6cb0f4fb4</td>\n",
       "      <td>bd24513c-7045-11ed-9457-52b6cb0f4fb4</td>\n",
       "      <td>3</td>\n",
       "      <td>0.458971</td>\n",
       "      <td>23.679036</td>\n",
       "      <td>79.934753</td>\n",
       "    </tr>\n",
       "  </tbody>\n",
       "</table>\n",
       "</div>"
      ],
      "text/plain": [
       "                                        user  \\\n",
       "898242  bcaaa74c-7045-11ed-9457-52b6cb0f4fb4   \n",
       "924578  bcaabac0-7045-11ed-9457-52b6cb0f4fb4   \n",
       "249335  bcaaa74c-7045-11ed-9457-52b6cb0f4fb4   \n",
       "845177  bcaabac0-7045-11ed-9457-52b6cb0f4fb4   \n",
       "788986  bcaaa74c-7045-11ed-9457-52b6cb0f4fb4   \n",
       "373758  bcaaa74c-7045-11ed-9457-52b6cb0f4fb4   \n",
       "\n",
       "                                       event  category         a          b  \\\n",
       "898242  bdb9bd76-7045-11ed-9457-52b6cb0f4fb4         3  0.636449  20.371123   \n",
       "924578  bdc1e37a-7045-11ed-9457-52b6cb0f4fb4         2  0.571787  14.918500   \n",
       "249335  bd01027c-7045-11ed-9457-52b6cb0f4fb4         3  0.196909  23.190820   \n",
       "845177  bdaa9bb6-7045-11ed-9457-52b6cb0f4fb4         2  0.962929  21.943516   \n",
       "788986  bd9a5594-7045-11ed-9457-52b6cb0f4fb4         3  0.637079  18.844295   \n",
       "373758  bd24513c-7045-11ed-9457-52b6cb0f4fb4         3  0.458971  23.679036   \n",
       "\n",
       "                 c  \n",
       "898242  172.313993  \n",
       "924578   83.569477  \n",
       "249335  183.837328  \n",
       "845177  125.978688  \n",
       "788986  200.424727  \n",
       "373758   79.934753  "
      ]
     },
     "execution_count": 216,
     "metadata": {},
     "output_type": "execute_result"
    }
   ],
   "source": [
    "%%time\n",
    "\n",
    "df.iloc[list(solve(equation))]"
   ]
  },
  {
   "cell_type": "code",
   "execution_count": null,
   "metadata": {},
   "outputs": [],
   "source": []
  },
  {
   "cell_type": "code",
   "execution_count": null,
   "metadata": {},
   "outputs": [],
   "source": [
    "def solve(tup):\n",
    "    if isinstance(tup,tuple):\n",
    "        if len(tup)==2:\n",
    "            return idf.search(tup)\n",
    "        elif len(tup)==3 and tup[1] in ['and','or']:\n",
    "            if tup[1] == 'and':\n",
    "                set_1 = solve(tup[0])\n",
    "\n",
    "        else:\n",
    "            for tup in equation:\n",
    "                solve(tup)\n",
    "            \n",
    "        "
   ]
  },
  {
   "cell_type": "code",
   "execution_count": 55,
   "metadata": {},
   "outputs": [
    {
     "name": "stdout",
     "output_type": "stream",
     "text": [
      "('user', 2)\n",
      "and\n",
      "('event', 3)\n"
     ]
    }
   ],
   "source": []
  },
  {
   "cell_type": "code",
   "execution_count": 48,
   "metadata": {},
   "outputs": [
    {
     "data": {
      "text/plain": [
       "('user', 2)"
      ]
     },
     "execution_count": 48,
     "metadata": {},
     "output_type": "execute_result"
    }
   ],
   "source": [
    "for "
   ]
  },
  {
   "cell_type": "code",
   "execution_count": null,
   "metadata": {},
   "outputs": [],
   "source": []
  },
  {
   "cell_type": "code",
   "execution_count": 36,
   "metadata": {},
   "outputs": [
    {
     "name": "stdout",
     "output_type": "stream",
     "text": [
      "<class 'tuple'> (('user', 2), 'and', ('event', 3))\n"
     ]
    }
   ],
   "source": [
    "idf[(('user',2),'and',('event',3))]"
   ]
  },
  {
   "cell_type": "code",
   "execution_count": 32,
   "metadata": {},
   "outputs": [
    {
     "data": {
      "text/plain": [
       "True"
      ]
     },
     "execution_count": 32,
     "metadata": {},
     "output_type": "execute_result"
    }
   ],
   "source": [
    "isinstance(1,int)"
   ]
  },
  {
   "cell_type": "code",
   "execution_count": 86,
   "metadata": {},
   "outputs": [],
   "source": [
    "\n",
    "tot = 10000\n",
    "def intersection(lst1, lst2):\n",
    "    lst3 = [value for value in lst1 if value in lst2]\n",
    "    return lst3\n",
    " \n",
    "# Driver Code\n",
    "lst1 = list(set([round(random.random()*tot) for i in range(tot)]))\n",
    "lst2 = list(set([round(random.random()*tot) for i in range(tot)]))\n",
    "# test = intersection(lst1, lst2)"
   ]
  },
  {
   "cell_type": "code",
   "execution_count": 91,
   "metadata": {},
   "outputs": [
    {
     "name": "stdout",
     "output_type": "stream",
     "text": [
      "CPU times: user 235 ms, sys: 2.51 ms, total: 238 ms\n",
      "Wall time: 237 ms\n"
     ]
    }
   ],
   "source": [
    "%%time\n",
    "test = intersection(lst1, lst2)"
   ]
  },
  {
   "cell_type": "code",
   "execution_count": 97,
   "metadata": {},
   "outputs": [
    {
     "name": "stdout",
     "output_type": "stream",
     "text": [
      "CPU times: user 2.05 ms, sys: 93 µs, total: 2.14 ms\n",
      "Wall time: 2.15 ms\n"
     ]
    }
   ],
   "source": [
    "%%time\n",
    "test = set(lst1).intersection(set(lst2))"
   ]
  },
  {
   "cell_type": "code",
   "execution_count": 16,
   "metadata": {},
   "outputs": [],
   "source": [
    "test_user =  df.iloc[0]['user']"
   ]
  },
  {
   "cell_type": "code",
   "execution_count": 20,
   "metadata": {},
   "outputs": [
    {
     "name": "stdout",
     "output_type": "stream",
     "text": [
      "CPU times: user 70.3 ms, sys: 2.04 ms, total: 72.4 ms\n",
      "Wall time: 70.9 ms\n"
     ]
    },
    {
     "data": {
      "text/html": [
       "<div>\n",
       "<style scoped>\n",
       "    .dataframe tbody tr th:only-of-type {\n",
       "        vertical-align: middle;\n",
       "    }\n",
       "\n",
       "    .dataframe tbody tr th {\n",
       "        vertical-align: top;\n",
       "    }\n",
       "\n",
       "    .dataframe thead th {\n",
       "        text-align: right;\n",
       "    }\n",
       "</style>\n",
       "<table border=\"1\" class=\"dataframe\">\n",
       "  <thead>\n",
       "    <tr style=\"text-align: right;\">\n",
       "      <th></th>\n",
       "      <th>user</th>\n",
       "      <th>event</th>\n",
       "      <th>category</th>\n",
       "      <th>a</th>\n",
       "      <th>b</th>\n",
       "      <th>c</th>\n",
       "    </tr>\n",
       "  </thead>\n",
       "  <tbody>\n",
       "    <tr>\n",
       "      <th>845177</th>\n",
       "      <td>bcaabac0-7045-11ed-9457-52b6cb0f4fb4</td>\n",
       "      <td>bdaa9bb6-7045-11ed-9457-52b6cb0f4fb4</td>\n",
       "      <td>2</td>\n",
       "      <td>0.962929</td>\n",
       "      <td>21.943516</td>\n",
       "      <td>125.978688</td>\n",
       "    </tr>\n",
       "    <tr>\n",
       "      <th>924578</th>\n",
       "      <td>bcaabac0-7045-11ed-9457-52b6cb0f4fb4</td>\n",
       "      <td>bdc1e37a-7045-11ed-9457-52b6cb0f4fb4</td>\n",
       "      <td>2</td>\n",
       "      <td>0.571787</td>\n",
       "      <td>14.918500</td>\n",
       "      <td>83.569477</td>\n",
       "    </tr>\n",
       "  </tbody>\n",
       "</table>\n",
       "</div>"
      ],
      "text/plain": [
       "                                        user  \\\n",
       "845177  bcaabac0-7045-11ed-9457-52b6cb0f4fb4   \n",
       "924578  bcaabac0-7045-11ed-9457-52b6cb0f4fb4   \n",
       "\n",
       "                                       event  category         a          b  \\\n",
       "845177  bdaa9bb6-7045-11ed-9457-52b6cb0f4fb4         2  0.962929  21.943516   \n",
       "924578  bdc1e37a-7045-11ed-9457-52b6cb0f4fb4         2  0.571787  14.918500   \n",
       "\n",
       "                 c  \n",
       "845177  125.978688  \n",
       "924578   83.569477  "
      ]
     },
     "execution_count": 20,
     "metadata": {},
     "output_type": "execute_result"
    }
   ],
   "source": [
    "%%time\n",
    "\n",
    "df[(df['user'] == test_user) & (df['category']==2)]"
   ]
  },
  {
   "cell_type": "code",
   "execution_count": 26,
   "metadata": {},
   "outputs": [
    {
     "name": "stdout",
     "output_type": "stream",
     "text": [
      "CPU times: user 4.74 ms, sys: 306 µs, total: 5.05 ms\n",
      "Wall time: 4.89 ms\n"
     ]
    },
    {
     "data": {
      "text/html": [
       "<div>\n",
       "<style scoped>\n",
       "    .dataframe tbody tr th:only-of-type {\n",
       "        vertical-align: middle;\n",
       "    }\n",
       "\n",
       "    .dataframe tbody tr th {\n",
       "        vertical-align: top;\n",
       "    }\n",
       "\n",
       "    .dataframe thead th {\n",
       "        text-align: right;\n",
       "    }\n",
       "</style>\n",
       "<table border=\"1\" class=\"dataframe\">\n",
       "  <thead>\n",
       "    <tr style=\"text-align: right;\">\n",
       "      <th></th>\n",
       "      <th>user</th>\n",
       "      <th>event</th>\n",
       "      <th>category</th>\n",
       "      <th>a</th>\n",
       "      <th>b</th>\n",
       "      <th>c</th>\n",
       "    </tr>\n",
       "  </thead>\n",
       "  <tbody>\n",
       "    <tr>\n",
       "      <th>845177</th>\n",
       "      <td>bcaabac0-7045-11ed-9457-52b6cb0f4fb4</td>\n",
       "      <td>bdaa9bb6-7045-11ed-9457-52b6cb0f4fb4</td>\n",
       "      <td>2</td>\n",
       "      <td>0.962929</td>\n",
       "      <td>21.943516</td>\n",
       "      <td>125.978688</td>\n",
       "    </tr>\n",
       "    <tr>\n",
       "      <th>924578</th>\n",
       "      <td>bcaabac0-7045-11ed-9457-52b6cb0f4fb4</td>\n",
       "      <td>bdc1e37a-7045-11ed-9457-52b6cb0f4fb4</td>\n",
       "      <td>2</td>\n",
       "      <td>0.571787</td>\n",
       "      <td>14.918500</td>\n",
       "      <td>83.569477</td>\n",
       "    </tr>\n",
       "  </tbody>\n",
       "</table>\n",
       "</div>"
      ],
      "text/plain": [
       "                                        user  \\\n",
       "845177  bcaabac0-7045-11ed-9457-52b6cb0f4fb4   \n",
       "924578  bcaabac0-7045-11ed-9457-52b6cb0f4fb4   \n",
       "\n",
       "                                       event  category         a          b  \\\n",
       "845177  bdaa9bb6-7045-11ed-9457-52b6cb0f4fb4         2  0.962929  21.943516   \n",
       "924578  bdc1e37a-7045-11ed-9457-52b6cb0f4fb4         2  0.571787  14.918500   \n",
       "\n",
       "                 c  \n",
       "845177  125.978688  \n",
       "924578   83.569477  "
      ]
     },
     "execution_count": 26,
     "metadata": {},
     "output_type": "execute_result"
    }
   ],
   "source": [
    "%%time\n",
    "\n",
    "df.iloc[list(set(idf.index_dictionary['user'][test_user]).intersection(idf.index_dictionary['category'][2]))]\n"
   ]
  },
  {
   "cell_type": "code",
   "execution_count": 33,
   "metadata": {
    "colab": {
     "base_uri": "https://localhost:8080/"
    },
    "id": "ceE1uabQ6pE2",
    "outputId": "f9cd6624-c380-4708-ec9a-0d87b3d0b557"
   },
   "outputs": [
    {
     "data": {
      "text/plain": [
       "{'user': 28850000, 'event': 113000000, 'category': 28001472}"
      ]
     },
     "execution_count": 33,
     "metadata": {},
     "output_type": "execute_result"
    }
   ],
   "source": [
    "idf.estimating_memory()"
   ]
  },
  {
   "cell_type": "code",
   "execution_count": 39,
   "metadata": {},
   "outputs": [
    {
     "data": {
      "text/html": [
       "<div>\n",
       "<style scoped>\n",
       "    .dataframe tbody tr th:only-of-type {\n",
       "        vertical-align: middle;\n",
       "    }\n",
       "\n",
       "    .dataframe tbody tr th {\n",
       "        vertical-align: top;\n",
       "    }\n",
       "\n",
       "    .dataframe thead th {\n",
       "        text-align: right;\n",
       "    }\n",
       "</style>\n",
       "<table border=\"1\" class=\"dataframe\">\n",
       "  <thead>\n",
       "    <tr style=\"text-align: right;\">\n",
       "      <th></th>\n",
       "      <th>user</th>\n",
       "      <th>event</th>\n",
       "      <th>category</th>\n",
       "      <th>a</th>\n",
       "      <th>b</th>\n",
       "      <th>c</th>\n",
       "    </tr>\n",
       "  </thead>\n",
       "  <tbody>\n",
       "    <tr>\n",
       "      <th>129</th>\n",
       "      <td>cb0b8968-7041-11ed-93e0-52b6cb0f4fb4</td>\n",
       "      <td>cb355f22-7041-11ed-93e0-52b6cb0f4fb4</td>\n",
       "      <td>2</td>\n",
       "      <td>0.093395</td>\n",
       "      <td>6.719654</td>\n",
       "      <td>275.161682</td>\n",
       "    </tr>\n",
       "    <tr>\n",
       "      <th>158</th>\n",
       "      <td>cb09503a-7041-11ed-93e0-52b6cb0f4fb4</td>\n",
       "      <td>cb356562-7041-11ed-93e0-52b6cb0f4fb4</td>\n",
       "      <td>2</td>\n",
       "      <td>0.571416</td>\n",
       "      <td>2.517285</td>\n",
       "      <td>171.928671</td>\n",
       "    </tr>\n",
       "    <tr>\n",
       "      <th>238</th>\n",
       "      <td>cb084816-7041-11ed-93e0-52b6cb0f4fb4</td>\n",
       "      <td>cb35775a-7041-11ed-93e0-52b6cb0f4fb4</td>\n",
       "      <td>2</td>\n",
       "      <td>0.962951</td>\n",
       "      <td>10.272869</td>\n",
       "      <td>200.461367</td>\n",
       "    </tr>\n",
       "    <tr>\n",
       "      <th>260</th>\n",
       "      <td>cb0be296-7041-11ed-93e0-52b6cb0f4fb4</td>\n",
       "      <td>cb357cb4-7041-11ed-93e0-52b6cb0f4fb4</td>\n",
       "      <td>2</td>\n",
       "      <td>0.876204</td>\n",
       "      <td>11.855126</td>\n",
       "      <td>222.788382</td>\n",
       "    </tr>\n",
       "    <tr>\n",
       "      <th>266</th>\n",
       "      <td>cb09a36e-7041-11ed-93e0-52b6cb0f4fb4</td>\n",
       "      <td>cb357ff2-7041-11ed-93e0-52b6cb0f4fb4</td>\n",
       "      <td>2</td>\n",
       "      <td>0.151731</td>\n",
       "      <td>11.238681</td>\n",
       "      <td>186.073039</td>\n",
       "    </tr>\n",
       "    <tr>\n",
       "      <th>...</th>\n",
       "      <td>...</td>\n",
       "      <td>...</td>\n",
       "      <td>...</td>\n",
       "      <td>...</td>\n",
       "      <td>...</td>\n",
       "      <td>...</td>\n",
       "    </tr>\n",
       "    <tr>\n",
       "      <th>999555</th>\n",
       "      <td>cb0ab4b6-7041-11ed-93e0-52b6cb0f4fb4</td>\n",
       "      <td>cc4decd0-7041-11ed-93e0-52b6cb0f4fb4</td>\n",
       "      <td>2</td>\n",
       "      <td>0.222576</td>\n",
       "      <td>8.613921</td>\n",
       "      <td>187.877701</td>\n",
       "    </tr>\n",
       "    <tr>\n",
       "      <th>999563</th>\n",
       "      <td>cb0ae6b6-7041-11ed-93e0-52b6cb0f4fb4</td>\n",
       "      <td>cc4ded52-7041-11ed-93e0-52b6cb0f4fb4</td>\n",
       "      <td>2</td>\n",
       "      <td>0.935039</td>\n",
       "      <td>2.622838</td>\n",
       "      <td>47.001542</td>\n",
       "    </tr>\n",
       "    <tr>\n",
       "      <th>999799</th>\n",
       "      <td>cb09dc8a-7041-11ed-93e0-52b6cb0f4fb4</td>\n",
       "      <td>cc4dfd38-7041-11ed-93e0-52b6cb0f4fb4</td>\n",
       "      <td>2</td>\n",
       "      <td>0.836658</td>\n",
       "      <td>17.078942</td>\n",
       "      <td>287.005690</td>\n",
       "    </tr>\n",
       "    <tr>\n",
       "      <th>999800</th>\n",
       "      <td>cb0b1de8-7041-11ed-93e0-52b6cb0f4fb4</td>\n",
       "      <td>cc4dfd4c-7041-11ed-93e0-52b6cb0f4fb4</td>\n",
       "      <td>2</td>\n",
       "      <td>0.040945</td>\n",
       "      <td>2.096115</td>\n",
       "      <td>272.284251</td>\n",
       "    </tr>\n",
       "    <tr>\n",
       "      <th>999969</th>\n",
       "      <td>cb095df0-7041-11ed-93e0-52b6cb0f4fb4</td>\n",
       "      <td>cc4e08c8-7041-11ed-93e0-52b6cb0f4fb4</td>\n",
       "      <td>2</td>\n",
       "      <td>0.197822</td>\n",
       "      <td>0.913155</td>\n",
       "      <td>183.203823</td>\n",
       "    </tr>\n",
       "  </tbody>\n",
       "</table>\n",
       "<p>22521 rows × 6 columns</p>\n",
       "</div>"
      ],
      "text/plain": [
       "                                        user  \\\n",
       "129     cb0b8968-7041-11ed-93e0-52b6cb0f4fb4   \n",
       "158     cb09503a-7041-11ed-93e0-52b6cb0f4fb4   \n",
       "238     cb084816-7041-11ed-93e0-52b6cb0f4fb4   \n",
       "260     cb0be296-7041-11ed-93e0-52b6cb0f4fb4   \n",
       "266     cb09a36e-7041-11ed-93e0-52b6cb0f4fb4   \n",
       "...                                      ...   \n",
       "999555  cb0ab4b6-7041-11ed-93e0-52b6cb0f4fb4   \n",
       "999563  cb0ae6b6-7041-11ed-93e0-52b6cb0f4fb4   \n",
       "999799  cb09dc8a-7041-11ed-93e0-52b6cb0f4fb4   \n",
       "999800  cb0b1de8-7041-11ed-93e0-52b6cb0f4fb4   \n",
       "999969  cb095df0-7041-11ed-93e0-52b6cb0f4fb4   \n",
       "\n",
       "                                       event  category         a          b  \\\n",
       "129     cb355f22-7041-11ed-93e0-52b6cb0f4fb4         2  0.093395   6.719654   \n",
       "158     cb356562-7041-11ed-93e0-52b6cb0f4fb4         2  0.571416   2.517285   \n",
       "238     cb35775a-7041-11ed-93e0-52b6cb0f4fb4         2  0.962951  10.272869   \n",
       "260     cb357cb4-7041-11ed-93e0-52b6cb0f4fb4         2  0.876204  11.855126   \n",
       "266     cb357ff2-7041-11ed-93e0-52b6cb0f4fb4         2  0.151731  11.238681   \n",
       "...                                      ...       ...       ...        ...   \n",
       "999555  cc4decd0-7041-11ed-93e0-52b6cb0f4fb4         2  0.222576   8.613921   \n",
       "999563  cc4ded52-7041-11ed-93e0-52b6cb0f4fb4         2  0.935039   2.622838   \n",
       "999799  cc4dfd38-7041-11ed-93e0-52b6cb0f4fb4         2  0.836658  17.078942   \n",
       "999800  cc4dfd4c-7041-11ed-93e0-52b6cb0f4fb4         2  0.040945   2.096115   \n",
       "999969  cc4e08c8-7041-11ed-93e0-52b6cb0f4fb4         2  0.197822   0.913155   \n",
       "\n",
       "                 c  \n",
       "129     275.161682  \n",
       "158     171.928671  \n",
       "238     200.461367  \n",
       "260     222.788382  \n",
       "266     186.073039  \n",
       "...            ...  \n",
       "999555  187.877701  \n",
       "999563   47.001542  \n",
       "999799  287.005690  \n",
       "999800  272.284251  \n",
       "999969  183.203823  \n",
       "\n",
       "[22521 rows x 6 columns]"
      ]
     },
     "execution_count": 39,
     "metadata": {},
     "output_type": "execute_result"
    }
   ],
   "source": [
    "df[df['category']==2]"
   ]
  },
  {
   "cell_type": "code",
   "execution_count": 37,
   "metadata": {},
   "outputs": [
    {
     "name": "stdout",
     "output_type": "stream",
     "text": [
      "CPU times: user 17.8 ms, sys: 2.56 ms, total: 20.4 ms\n",
      "Wall time: 18.9 ms\n"
     ]
    },
    {
     "data": {
      "text/html": [
       "<div>\n",
       "<style scoped>\n",
       "    .dataframe tbody tr th:only-of-type {\n",
       "        vertical-align: middle;\n",
       "    }\n",
       "\n",
       "    .dataframe tbody tr th {\n",
       "        vertical-align: top;\n",
       "    }\n",
       "\n",
       "    .dataframe thead th {\n",
       "        text-align: right;\n",
       "    }\n",
       "</style>\n",
       "<table border=\"1\" class=\"dataframe\">\n",
       "  <thead>\n",
       "    <tr style=\"text-align: right;\">\n",
       "      <th></th>\n",
       "      <th>user</th>\n",
       "      <th>event</th>\n",
       "      <th>category</th>\n",
       "      <th>a</th>\n",
       "      <th>b</th>\n",
       "      <th>c</th>\n",
       "    </tr>\n",
       "  </thead>\n",
       "  <tbody>\n",
       "    <tr>\n",
       "      <th>129</th>\n",
       "      <td>cb0b8968-7041-11ed-93e0-52b6cb0f4fb4</td>\n",
       "      <td>cb355f22-7041-11ed-93e0-52b6cb0f4fb4</td>\n",
       "      <td>2</td>\n",
       "      <td>0.093395</td>\n",
       "      <td>6.719654</td>\n",
       "      <td>275.161682</td>\n",
       "    </tr>\n",
       "    <tr>\n",
       "      <th>158</th>\n",
       "      <td>cb09503a-7041-11ed-93e0-52b6cb0f4fb4</td>\n",
       "      <td>cb356562-7041-11ed-93e0-52b6cb0f4fb4</td>\n",
       "      <td>2</td>\n",
       "      <td>0.571416</td>\n",
       "      <td>2.517285</td>\n",
       "      <td>171.928671</td>\n",
       "    </tr>\n",
       "    <tr>\n",
       "      <th>238</th>\n",
       "      <td>cb084816-7041-11ed-93e0-52b6cb0f4fb4</td>\n",
       "      <td>cb35775a-7041-11ed-93e0-52b6cb0f4fb4</td>\n",
       "      <td>2</td>\n",
       "      <td>0.962951</td>\n",
       "      <td>10.272869</td>\n",
       "      <td>200.461367</td>\n",
       "    </tr>\n",
       "    <tr>\n",
       "      <th>260</th>\n",
       "      <td>cb0be296-7041-11ed-93e0-52b6cb0f4fb4</td>\n",
       "      <td>cb357cb4-7041-11ed-93e0-52b6cb0f4fb4</td>\n",
       "      <td>2</td>\n",
       "      <td>0.876204</td>\n",
       "      <td>11.855126</td>\n",
       "      <td>222.788382</td>\n",
       "    </tr>\n",
       "    <tr>\n",
       "      <th>266</th>\n",
       "      <td>cb09a36e-7041-11ed-93e0-52b6cb0f4fb4</td>\n",
       "      <td>cb357ff2-7041-11ed-93e0-52b6cb0f4fb4</td>\n",
       "      <td>2</td>\n",
       "      <td>0.151731</td>\n",
       "      <td>11.238681</td>\n",
       "      <td>186.073039</td>\n",
       "    </tr>\n",
       "    <tr>\n",
       "      <th>...</th>\n",
       "      <td>...</td>\n",
       "      <td>...</td>\n",
       "      <td>...</td>\n",
       "      <td>...</td>\n",
       "      <td>...</td>\n",
       "      <td>...</td>\n",
       "    </tr>\n",
       "    <tr>\n",
       "      <th>999555</th>\n",
       "      <td>cb0ab4b6-7041-11ed-93e0-52b6cb0f4fb4</td>\n",
       "      <td>cc4decd0-7041-11ed-93e0-52b6cb0f4fb4</td>\n",
       "      <td>2</td>\n",
       "      <td>0.222576</td>\n",
       "      <td>8.613921</td>\n",
       "      <td>187.877701</td>\n",
       "    </tr>\n",
       "    <tr>\n",
       "      <th>999563</th>\n",
       "      <td>cb0ae6b6-7041-11ed-93e0-52b6cb0f4fb4</td>\n",
       "      <td>cc4ded52-7041-11ed-93e0-52b6cb0f4fb4</td>\n",
       "      <td>2</td>\n",
       "      <td>0.935039</td>\n",
       "      <td>2.622838</td>\n",
       "      <td>47.001542</td>\n",
       "    </tr>\n",
       "    <tr>\n",
       "      <th>999799</th>\n",
       "      <td>cb09dc8a-7041-11ed-93e0-52b6cb0f4fb4</td>\n",
       "      <td>cc4dfd38-7041-11ed-93e0-52b6cb0f4fb4</td>\n",
       "      <td>2</td>\n",
       "      <td>0.836658</td>\n",
       "      <td>17.078942</td>\n",
       "      <td>287.005690</td>\n",
       "    </tr>\n",
       "    <tr>\n",
       "      <th>999800</th>\n",
       "      <td>cb0b1de8-7041-11ed-93e0-52b6cb0f4fb4</td>\n",
       "      <td>cc4dfd4c-7041-11ed-93e0-52b6cb0f4fb4</td>\n",
       "      <td>2</td>\n",
       "      <td>0.040945</td>\n",
       "      <td>2.096115</td>\n",
       "      <td>272.284251</td>\n",
       "    </tr>\n",
       "    <tr>\n",
       "      <th>999969</th>\n",
       "      <td>cb095df0-7041-11ed-93e0-52b6cb0f4fb4</td>\n",
       "      <td>cc4e08c8-7041-11ed-93e0-52b6cb0f4fb4</td>\n",
       "      <td>2</td>\n",
       "      <td>0.197822</td>\n",
       "      <td>0.913155</td>\n",
       "      <td>183.203823</td>\n",
       "    </tr>\n",
       "  </tbody>\n",
       "</table>\n",
       "<p>22521 rows × 6 columns</p>\n",
       "</div>"
      ],
      "text/plain": [
       "                                        user  \\\n",
       "129     cb0b8968-7041-11ed-93e0-52b6cb0f4fb4   \n",
       "158     cb09503a-7041-11ed-93e0-52b6cb0f4fb4   \n",
       "238     cb084816-7041-11ed-93e0-52b6cb0f4fb4   \n",
       "260     cb0be296-7041-11ed-93e0-52b6cb0f4fb4   \n",
       "266     cb09a36e-7041-11ed-93e0-52b6cb0f4fb4   \n",
       "...                                      ...   \n",
       "999555  cb0ab4b6-7041-11ed-93e0-52b6cb0f4fb4   \n",
       "999563  cb0ae6b6-7041-11ed-93e0-52b6cb0f4fb4   \n",
       "999799  cb09dc8a-7041-11ed-93e0-52b6cb0f4fb4   \n",
       "999800  cb0b1de8-7041-11ed-93e0-52b6cb0f4fb4   \n",
       "999969  cb095df0-7041-11ed-93e0-52b6cb0f4fb4   \n",
       "\n",
       "                                       event  category         a          b  \\\n",
       "129     cb355f22-7041-11ed-93e0-52b6cb0f4fb4         2  0.093395   6.719654   \n",
       "158     cb356562-7041-11ed-93e0-52b6cb0f4fb4         2  0.571416   2.517285   \n",
       "238     cb35775a-7041-11ed-93e0-52b6cb0f4fb4         2  0.962951  10.272869   \n",
       "260     cb357cb4-7041-11ed-93e0-52b6cb0f4fb4         2  0.876204  11.855126   \n",
       "266     cb357ff2-7041-11ed-93e0-52b6cb0f4fb4         2  0.151731  11.238681   \n",
       "...                                      ...       ...       ...        ...   \n",
       "999555  cc4decd0-7041-11ed-93e0-52b6cb0f4fb4         2  0.222576   8.613921   \n",
       "999563  cc4ded52-7041-11ed-93e0-52b6cb0f4fb4         2  0.935039   2.622838   \n",
       "999799  cc4dfd38-7041-11ed-93e0-52b6cb0f4fb4         2  0.836658  17.078942   \n",
       "999800  cc4dfd4c-7041-11ed-93e0-52b6cb0f4fb4         2  0.040945   2.096115   \n",
       "999969  cc4e08c8-7041-11ed-93e0-52b6cb0f4fb4         2  0.197822   0.913155   \n",
       "\n",
       "                 c  \n",
       "129     275.161682  \n",
       "158     171.928671  \n",
       "238     200.461367  \n",
       "260     222.788382  \n",
       "266     186.073039  \n",
       "...            ...  \n",
       "999555  187.877701  \n",
       "999563   47.001542  \n",
       "999799  287.005690  \n",
       "999800  272.284251  \n",
       "999969  183.203823  \n",
       "\n",
       "[22521 rows x 6 columns]"
      ]
     },
     "execution_count": 37,
     "metadata": {},
     "output_type": "execute_result"
    }
   ],
   "source": [
    "%%time\n",
    "\n",
    "idf.search('category',2)"
   ]
  },
  {
   "cell_type": "code",
   "execution_count": 18,
   "metadata": {
    "id": "JF-aq_T_nGM3"
   },
   "outputs": [],
   "source": [
    "val = df.iloc[0]['user']"
   ]
  },
  {
   "cell_type": "code",
   "execution_count": 29,
   "metadata": {
    "colab": {
     "base_uri": "https://localhost:8080/",
     "height": 458
    },
    "id": "p_QSM5oirV9u",
    "outputId": "f9bec487-7b33-4ee7-92c6-b140b880d980"
   },
   "outputs": [
    {
     "name": "stdout",
     "output_type": "stream",
     "text": [
      "CPU times: user 1.19 ms, sys: 0 ns, total: 1.19 ms\n",
      "Wall time: 1.47 ms\n"
     ]
    },
    {
     "data": {
      "text/html": [
       "\n",
       "  <div id=\"df-0cecca23-50bd-486e-975e-1d50a3ec47d2\">\n",
       "    <div class=\"colab-df-container\">\n",
       "      <div>\n",
       "<style scoped>\n",
       "    .dataframe tbody tr th:only-of-type {\n",
       "        vertical-align: middle;\n",
       "    }\n",
       "\n",
       "    .dataframe tbody tr th {\n",
       "        vertical-align: top;\n",
       "    }\n",
       "\n",
       "    .dataframe thead th {\n",
       "        text-align: right;\n",
       "    }\n",
       "</style>\n",
       "<table border=\"1\" class=\"dataframe\">\n",
       "  <thead>\n",
       "    <tr style=\"text-align: right;\">\n",
       "      <th></th>\n",
       "      <th>user</th>\n",
       "      <th>event</th>\n",
       "      <th>category</th>\n",
       "      <th>a</th>\n",
       "      <th>b</th>\n",
       "      <th>c</th>\n",
       "    </tr>\n",
       "  </thead>\n",
       "  <tbody>\n",
       "    <tr>\n",
       "      <th>0</th>\n",
       "      <td>4dabc378-7039-11ed-85f5-0242ac1c0002</td>\n",
       "      <td>4dd3e286-7039-11ed-85f5-0242ac1c0002</td>\n",
       "      <td>17</td>\n",
       "      <td>0.746382</td>\n",
       "      <td>16.496951</td>\n",
       "      <td>0.504608</td>\n",
       "    </tr>\n",
       "    <tr>\n",
       "      <th>20335</th>\n",
       "      <td>4dabc378-7039-11ed-85f5-0242ac1c0002</td>\n",
       "      <td>4e2fc20e-7039-11ed-85f5-0242ac1c0002</td>\n",
       "      <td>1</td>\n",
       "      <td>0.027844</td>\n",
       "      <td>12.145661</td>\n",
       "      <td>15.006690</td>\n",
       "    </tr>\n",
       "    <tr>\n",
       "      <th>32780</th>\n",
       "      <td>4dabc378-7039-11ed-85f5-0242ac1c0002</td>\n",
       "      <td>4e5e71d0-7039-11ed-85f5-0242ac1c0002</td>\n",
       "      <td>6</td>\n",
       "      <td>0.451507</td>\n",
       "      <td>13.026251</td>\n",
       "      <td>55.676603</td>\n",
       "    </tr>\n",
       "    <tr>\n",
       "      <th>33071</th>\n",
       "      <td>4dabc378-7039-11ed-85f5-0242ac1c0002</td>\n",
       "      <td>4e5f6680-7039-11ed-85f5-0242ac1c0002</td>\n",
       "      <td>2</td>\n",
       "      <td>0.216145</td>\n",
       "      <td>7.450520</td>\n",
       "      <td>218.976485</td>\n",
       "    </tr>\n",
       "    <tr>\n",
       "      <th>52644</th>\n",
       "      <td>4dabc378-7039-11ed-85f5-0242ac1c0002</td>\n",
       "      <td>4f1d98bc-7039-11ed-85f5-0242ac1c0002</td>\n",
       "      <td>33</td>\n",
       "      <td>0.816164</td>\n",
       "      <td>2.284729</td>\n",
       "      <td>94.113441</td>\n",
       "    </tr>\n",
       "    <tr>\n",
       "      <th>...</th>\n",
       "      <td>...</td>\n",
       "      <td>...</td>\n",
       "      <td>...</td>\n",
       "      <td>...</td>\n",
       "      <td>...</td>\n",
       "      <td>...</td>\n",
       "    </tr>\n",
       "    <tr>\n",
       "      <th>940205</th>\n",
       "      <td>4dabc378-7039-11ed-85f5-0242ac1c0002</td>\n",
       "      <td>5954f4d8-7039-11ed-85f5-0242ac1c0002</td>\n",
       "      <td>30</td>\n",
       "      <td>0.742516</td>\n",
       "      <td>8.710109</td>\n",
       "      <td>194.757732</td>\n",
       "    </tr>\n",
       "    <tr>\n",
       "      <th>941913</th>\n",
       "      <td>4dabc378-7039-11ed-85f5-0242ac1c0002</td>\n",
       "      <td>595896a6-7039-11ed-85f5-0242ac1c0002</td>\n",
       "      <td>5</td>\n",
       "      <td>0.007041</td>\n",
       "      <td>21.151961</td>\n",
       "      <td>147.612536</td>\n",
       "    </tr>\n",
       "    <tr>\n",
       "      <th>948476</th>\n",
       "      <td>4dabc378-7039-11ed-85f5-0242ac1c0002</td>\n",
       "      <td>5966d0cc-7039-11ed-85f5-0242ac1c0002</td>\n",
       "      <td>37</td>\n",
       "      <td>0.612135</td>\n",
       "      <td>20.015635</td>\n",
       "      <td>269.997572</td>\n",
       "    </tr>\n",
       "    <tr>\n",
       "      <th>952392</th>\n",
       "      <td>4dabc378-7039-11ed-85f5-0242ac1c0002</td>\n",
       "      <td>596fb55c-7039-11ed-85f5-0242ac1c0002</td>\n",
       "      <td>44</td>\n",
       "      <td>0.224163</td>\n",
       "      <td>13.220250</td>\n",
       "      <td>148.011409</td>\n",
       "    </tr>\n",
       "    <tr>\n",
       "      <th>956453</th>\n",
       "      <td>4dabc378-7039-11ed-85f5-0242ac1c0002</td>\n",
       "      <td>5978d74a-7039-11ed-85f5-0242ac1c0002</td>\n",
       "      <td>20</td>\n",
       "      <td>0.254090</td>\n",
       "      <td>11.810884</td>\n",
       "      <td>141.518677</td>\n",
       "    </tr>\n",
       "  </tbody>\n",
       "</table>\n",
       "<p>106 rows × 6 columns</p>\n",
       "</div>\n",
       "      <button class=\"colab-df-convert\" onclick=\"convertToInteractive('df-0cecca23-50bd-486e-975e-1d50a3ec47d2')\"\n",
       "              title=\"Convert this dataframe to an interactive table.\"\n",
       "              style=\"display:none;\">\n",
       "        \n",
       "  <svg xmlns=\"http://www.w3.org/2000/svg\" height=\"24px\"viewBox=\"0 0 24 24\"\n",
       "       width=\"24px\">\n",
       "    <path d=\"M0 0h24v24H0V0z\" fill=\"none\"/>\n",
       "    <path d=\"M18.56 5.44l.94 2.06.94-2.06 2.06-.94-2.06-.94-.94-2.06-.94 2.06-2.06.94zm-11 1L8.5 8.5l.94-2.06 2.06-.94-2.06-.94L8.5 2.5l-.94 2.06-2.06.94zm10 10l.94 2.06.94-2.06 2.06-.94-2.06-.94-.94-2.06-.94 2.06-2.06.94z\"/><path d=\"M17.41 7.96l-1.37-1.37c-.4-.4-.92-.59-1.43-.59-.52 0-1.04.2-1.43.59L10.3 9.45l-7.72 7.72c-.78.78-.78 2.05 0 2.83L4 21.41c.39.39.9.59 1.41.59.51 0 1.02-.2 1.41-.59l7.78-7.78 2.81-2.81c.8-.78.8-2.07 0-2.86zM5.41 20L4 18.59l7.72-7.72 1.47 1.35L5.41 20z\"/>\n",
       "  </svg>\n",
       "      </button>\n",
       "      \n",
       "  <style>\n",
       "    .colab-df-container {\n",
       "      display:flex;\n",
       "      flex-wrap:wrap;\n",
       "      gap: 12px;\n",
       "    }\n",
       "\n",
       "    .colab-df-convert {\n",
       "      background-color: #E8F0FE;\n",
       "      border: none;\n",
       "      border-radius: 50%;\n",
       "      cursor: pointer;\n",
       "      display: none;\n",
       "      fill: #1967D2;\n",
       "      height: 32px;\n",
       "      padding: 0 0 0 0;\n",
       "      width: 32px;\n",
       "    }\n",
       "\n",
       "    .colab-df-convert:hover {\n",
       "      background-color: #E2EBFA;\n",
       "      box-shadow: 0px 1px 2px rgba(60, 64, 67, 0.3), 0px 1px 3px 1px rgba(60, 64, 67, 0.15);\n",
       "      fill: #174EA6;\n",
       "    }\n",
       "\n",
       "    [theme=dark] .colab-df-convert {\n",
       "      background-color: #3B4455;\n",
       "      fill: #D2E3FC;\n",
       "    }\n",
       "\n",
       "    [theme=dark] .colab-df-convert:hover {\n",
       "      background-color: #434B5C;\n",
       "      box-shadow: 0px 1px 3px 1px rgba(0, 0, 0, 0.15);\n",
       "      filter: drop-shadow(0px 1px 2px rgba(0, 0, 0, 0.3));\n",
       "      fill: #FFFFFF;\n",
       "    }\n",
       "  </style>\n",
       "\n",
       "      <script>\n",
       "        const buttonEl =\n",
       "          document.querySelector('#df-0cecca23-50bd-486e-975e-1d50a3ec47d2 button.colab-df-convert');\n",
       "        buttonEl.style.display =\n",
       "          google.colab.kernel.accessAllowed ? 'block' : 'none';\n",
       "\n",
       "        async function convertToInteractive(key) {\n",
       "          const element = document.querySelector('#df-0cecca23-50bd-486e-975e-1d50a3ec47d2');\n",
       "          const dataTable =\n",
       "            await google.colab.kernel.invokeFunction('convertToInteractive',\n",
       "                                                     [key], {});\n",
       "          if (!dataTable) return;\n",
       "\n",
       "          const docLinkHtml = 'Like what you see? Visit the ' +\n",
       "            '<a target=\"_blank\" href=https://colab.research.google.com/notebooks/data_table.ipynb>data table notebook</a>'\n",
       "            + ' to learn more about interactive tables.';\n",
       "          element.innerHTML = '';\n",
       "          dataTable['output_type'] = 'display_data';\n",
       "          await google.colab.output.renderOutput(dataTable, element);\n",
       "          const docLink = document.createElement('div');\n",
       "          docLink.innerHTML = docLinkHtml;\n",
       "          element.appendChild(docLink);\n",
       "        }\n",
       "      </script>\n",
       "    </div>\n",
       "  </div>\n",
       "  "
      ],
      "text/plain": [
       "                                        user  \\\n",
       "0       4dabc378-7039-11ed-85f5-0242ac1c0002   \n",
       "20335   4dabc378-7039-11ed-85f5-0242ac1c0002   \n",
       "32780   4dabc378-7039-11ed-85f5-0242ac1c0002   \n",
       "33071   4dabc378-7039-11ed-85f5-0242ac1c0002   \n",
       "52644   4dabc378-7039-11ed-85f5-0242ac1c0002   \n",
       "...                                      ...   \n",
       "940205  4dabc378-7039-11ed-85f5-0242ac1c0002   \n",
       "941913  4dabc378-7039-11ed-85f5-0242ac1c0002   \n",
       "948476  4dabc378-7039-11ed-85f5-0242ac1c0002   \n",
       "952392  4dabc378-7039-11ed-85f5-0242ac1c0002   \n",
       "956453  4dabc378-7039-11ed-85f5-0242ac1c0002   \n",
       "\n",
       "                                       event  category         a          b  \\\n",
       "0       4dd3e286-7039-11ed-85f5-0242ac1c0002        17  0.746382  16.496951   \n",
       "20335   4e2fc20e-7039-11ed-85f5-0242ac1c0002         1  0.027844  12.145661   \n",
       "32780   4e5e71d0-7039-11ed-85f5-0242ac1c0002         6  0.451507  13.026251   \n",
       "33071   4e5f6680-7039-11ed-85f5-0242ac1c0002         2  0.216145   7.450520   \n",
       "52644   4f1d98bc-7039-11ed-85f5-0242ac1c0002        33  0.816164   2.284729   \n",
       "...                                      ...       ...       ...        ...   \n",
       "940205  5954f4d8-7039-11ed-85f5-0242ac1c0002        30  0.742516   8.710109   \n",
       "941913  595896a6-7039-11ed-85f5-0242ac1c0002         5  0.007041  21.151961   \n",
       "948476  5966d0cc-7039-11ed-85f5-0242ac1c0002        37  0.612135  20.015635   \n",
       "952392  596fb55c-7039-11ed-85f5-0242ac1c0002        44  0.224163  13.220250   \n",
       "956453  5978d74a-7039-11ed-85f5-0242ac1c0002        20  0.254090  11.810884   \n",
       "\n",
       "                 c  \n",
       "0         0.504608  \n",
       "20335    15.006690  \n",
       "32780    55.676603  \n",
       "33071   218.976485  \n",
       "52644    94.113441  \n",
       "...            ...  \n",
       "940205  194.757732  \n",
       "941913  147.612536  \n",
       "948476  269.997572  \n",
       "952392  148.011409  \n",
       "956453  141.518677  \n",
       "\n",
       "[106 rows x 6 columns]"
      ]
     },
     "execution_count": 29,
     "metadata": {},
     "output_type": "execute_result"
    }
   ],
   "source": [
    "%%time\n",
    "\n",
    "idf.search('user',val)"
   ]
  },
  {
   "cell_type": "code",
   "execution_count": 34,
   "metadata": {
    "colab": {
     "base_uri": "https://localhost:8080/",
     "height": 458
    },
    "id": "cyxZGeh6tDTw",
    "outputId": "f67e4e85-5be0-4694-f9d0-2da8d5f8a2d6"
   },
   "outputs": [
    {
     "name": "stdout",
     "output_type": "stream",
     "text": [
      "CPU times: user 73.6 ms, sys: 307 µs, total: 73.9 ms\n",
      "Wall time: 73.5 ms\n"
     ]
    },
    {
     "data": {
      "text/html": [
       "\n",
       "  <div id=\"df-74c30b5c-baef-4c71-9e32-529c1cc29fb3\">\n",
       "    <div class=\"colab-df-container\">\n",
       "      <div>\n",
       "<style scoped>\n",
       "    .dataframe tbody tr th:only-of-type {\n",
       "        vertical-align: middle;\n",
       "    }\n",
       "\n",
       "    .dataframe tbody tr th {\n",
       "        vertical-align: top;\n",
       "    }\n",
       "\n",
       "    .dataframe thead th {\n",
       "        text-align: right;\n",
       "    }\n",
       "</style>\n",
       "<table border=\"1\" class=\"dataframe\">\n",
       "  <thead>\n",
       "    <tr style=\"text-align: right;\">\n",
       "      <th></th>\n",
       "      <th>user</th>\n",
       "      <th>event</th>\n",
       "      <th>category</th>\n",
       "      <th>a</th>\n",
       "      <th>b</th>\n",
       "      <th>c</th>\n",
       "    </tr>\n",
       "  </thead>\n",
       "  <tbody>\n",
       "    <tr>\n",
       "      <th>0</th>\n",
       "      <td>4dabc378-7039-11ed-85f5-0242ac1c0002</td>\n",
       "      <td>4dd3e286-7039-11ed-85f5-0242ac1c0002</td>\n",
       "      <td>17</td>\n",
       "      <td>0.746382</td>\n",
       "      <td>16.496951</td>\n",
       "      <td>0.504608</td>\n",
       "    </tr>\n",
       "    <tr>\n",
       "      <th>20335</th>\n",
       "      <td>4dabc378-7039-11ed-85f5-0242ac1c0002</td>\n",
       "      <td>4e2fc20e-7039-11ed-85f5-0242ac1c0002</td>\n",
       "      <td>1</td>\n",
       "      <td>0.027844</td>\n",
       "      <td>12.145661</td>\n",
       "      <td>15.006690</td>\n",
       "    </tr>\n",
       "    <tr>\n",
       "      <th>32780</th>\n",
       "      <td>4dabc378-7039-11ed-85f5-0242ac1c0002</td>\n",
       "      <td>4e5e71d0-7039-11ed-85f5-0242ac1c0002</td>\n",
       "      <td>6</td>\n",
       "      <td>0.451507</td>\n",
       "      <td>13.026251</td>\n",
       "      <td>55.676603</td>\n",
       "    </tr>\n",
       "    <tr>\n",
       "      <th>33071</th>\n",
       "      <td>4dabc378-7039-11ed-85f5-0242ac1c0002</td>\n",
       "      <td>4e5f6680-7039-11ed-85f5-0242ac1c0002</td>\n",
       "      <td>2</td>\n",
       "      <td>0.216145</td>\n",
       "      <td>7.450520</td>\n",
       "      <td>218.976485</td>\n",
       "    </tr>\n",
       "    <tr>\n",
       "      <th>52644</th>\n",
       "      <td>4dabc378-7039-11ed-85f5-0242ac1c0002</td>\n",
       "      <td>4f1d98bc-7039-11ed-85f5-0242ac1c0002</td>\n",
       "      <td>33</td>\n",
       "      <td>0.816164</td>\n",
       "      <td>2.284729</td>\n",
       "      <td>94.113441</td>\n",
       "    </tr>\n",
       "    <tr>\n",
       "      <th>...</th>\n",
       "      <td>...</td>\n",
       "      <td>...</td>\n",
       "      <td>...</td>\n",
       "      <td>...</td>\n",
       "      <td>...</td>\n",
       "      <td>...</td>\n",
       "    </tr>\n",
       "    <tr>\n",
       "      <th>940205</th>\n",
       "      <td>4dabc378-7039-11ed-85f5-0242ac1c0002</td>\n",
       "      <td>5954f4d8-7039-11ed-85f5-0242ac1c0002</td>\n",
       "      <td>30</td>\n",
       "      <td>0.742516</td>\n",
       "      <td>8.710109</td>\n",
       "      <td>194.757732</td>\n",
       "    </tr>\n",
       "    <tr>\n",
       "      <th>941913</th>\n",
       "      <td>4dabc378-7039-11ed-85f5-0242ac1c0002</td>\n",
       "      <td>595896a6-7039-11ed-85f5-0242ac1c0002</td>\n",
       "      <td>5</td>\n",
       "      <td>0.007041</td>\n",
       "      <td>21.151961</td>\n",
       "      <td>147.612536</td>\n",
       "    </tr>\n",
       "    <tr>\n",
       "      <th>948476</th>\n",
       "      <td>4dabc378-7039-11ed-85f5-0242ac1c0002</td>\n",
       "      <td>5966d0cc-7039-11ed-85f5-0242ac1c0002</td>\n",
       "      <td>37</td>\n",
       "      <td>0.612135</td>\n",
       "      <td>20.015635</td>\n",
       "      <td>269.997572</td>\n",
       "    </tr>\n",
       "    <tr>\n",
       "      <th>952392</th>\n",
       "      <td>4dabc378-7039-11ed-85f5-0242ac1c0002</td>\n",
       "      <td>596fb55c-7039-11ed-85f5-0242ac1c0002</td>\n",
       "      <td>44</td>\n",
       "      <td>0.224163</td>\n",
       "      <td>13.220250</td>\n",
       "      <td>148.011409</td>\n",
       "    </tr>\n",
       "    <tr>\n",
       "      <th>956453</th>\n",
       "      <td>4dabc378-7039-11ed-85f5-0242ac1c0002</td>\n",
       "      <td>5978d74a-7039-11ed-85f5-0242ac1c0002</td>\n",
       "      <td>20</td>\n",
       "      <td>0.254090</td>\n",
       "      <td>11.810884</td>\n",
       "      <td>141.518677</td>\n",
       "    </tr>\n",
       "  </tbody>\n",
       "</table>\n",
       "<p>106 rows × 6 columns</p>\n",
       "</div>\n",
       "      <button class=\"colab-df-convert\" onclick=\"convertToInteractive('df-74c30b5c-baef-4c71-9e32-529c1cc29fb3')\"\n",
       "              title=\"Convert this dataframe to an interactive table.\"\n",
       "              style=\"display:none;\">\n",
       "        \n",
       "  <svg xmlns=\"http://www.w3.org/2000/svg\" height=\"24px\"viewBox=\"0 0 24 24\"\n",
       "       width=\"24px\">\n",
       "    <path d=\"M0 0h24v24H0V0z\" fill=\"none\"/>\n",
       "    <path d=\"M18.56 5.44l.94 2.06.94-2.06 2.06-.94-2.06-.94-.94-2.06-.94 2.06-2.06.94zm-11 1L8.5 8.5l.94-2.06 2.06-.94-2.06-.94L8.5 2.5l-.94 2.06-2.06.94zm10 10l.94 2.06.94-2.06 2.06-.94-2.06-.94-.94-2.06-.94 2.06-2.06.94z\"/><path d=\"M17.41 7.96l-1.37-1.37c-.4-.4-.92-.59-1.43-.59-.52 0-1.04.2-1.43.59L10.3 9.45l-7.72 7.72c-.78.78-.78 2.05 0 2.83L4 21.41c.39.39.9.59 1.41.59.51 0 1.02-.2 1.41-.59l7.78-7.78 2.81-2.81c.8-.78.8-2.07 0-2.86zM5.41 20L4 18.59l7.72-7.72 1.47 1.35L5.41 20z\"/>\n",
       "  </svg>\n",
       "      </button>\n",
       "      \n",
       "  <style>\n",
       "    .colab-df-container {\n",
       "      display:flex;\n",
       "      flex-wrap:wrap;\n",
       "      gap: 12px;\n",
       "    }\n",
       "\n",
       "    .colab-df-convert {\n",
       "      background-color: #E8F0FE;\n",
       "      border: none;\n",
       "      border-radius: 50%;\n",
       "      cursor: pointer;\n",
       "      display: none;\n",
       "      fill: #1967D2;\n",
       "      height: 32px;\n",
       "      padding: 0 0 0 0;\n",
       "      width: 32px;\n",
       "    }\n",
       "\n",
       "    .colab-df-convert:hover {\n",
       "      background-color: #E2EBFA;\n",
       "      box-shadow: 0px 1px 2px rgba(60, 64, 67, 0.3), 0px 1px 3px 1px rgba(60, 64, 67, 0.15);\n",
       "      fill: #174EA6;\n",
       "    }\n",
       "\n",
       "    [theme=dark] .colab-df-convert {\n",
       "      background-color: #3B4455;\n",
       "      fill: #D2E3FC;\n",
       "    }\n",
       "\n",
       "    [theme=dark] .colab-df-convert:hover {\n",
       "      background-color: #434B5C;\n",
       "      box-shadow: 0px 1px 3px 1px rgba(0, 0, 0, 0.15);\n",
       "      filter: drop-shadow(0px 1px 2px rgba(0, 0, 0, 0.3));\n",
       "      fill: #FFFFFF;\n",
       "    }\n",
       "  </style>\n",
       "\n",
       "      <script>\n",
       "        const buttonEl =\n",
       "          document.querySelector('#df-74c30b5c-baef-4c71-9e32-529c1cc29fb3 button.colab-df-convert');\n",
       "        buttonEl.style.display =\n",
       "          google.colab.kernel.accessAllowed ? 'block' : 'none';\n",
       "\n",
       "        async function convertToInteractive(key) {\n",
       "          const element = document.querySelector('#df-74c30b5c-baef-4c71-9e32-529c1cc29fb3');\n",
       "          const dataTable =\n",
       "            await google.colab.kernel.invokeFunction('convertToInteractive',\n",
       "                                                     [key], {});\n",
       "          if (!dataTable) return;\n",
       "\n",
       "          const docLinkHtml = 'Like what you see? Visit the ' +\n",
       "            '<a target=\"_blank\" href=https://colab.research.google.com/notebooks/data_table.ipynb>data table notebook</a>'\n",
       "            + ' to learn more about interactive tables.';\n",
       "          element.innerHTML = '';\n",
       "          dataTable['output_type'] = 'display_data';\n",
       "          await google.colab.output.renderOutput(dataTable, element);\n",
       "          const docLink = document.createElement('div');\n",
       "          docLink.innerHTML = docLinkHtml;\n",
       "          element.appendChild(docLink);\n",
       "        }\n",
       "      </script>\n",
       "    </div>\n",
       "  </div>\n",
       "  "
      ],
      "text/plain": [
       "                                        user  \\\n",
       "0       4dabc378-7039-11ed-85f5-0242ac1c0002   \n",
       "20335   4dabc378-7039-11ed-85f5-0242ac1c0002   \n",
       "32780   4dabc378-7039-11ed-85f5-0242ac1c0002   \n",
       "33071   4dabc378-7039-11ed-85f5-0242ac1c0002   \n",
       "52644   4dabc378-7039-11ed-85f5-0242ac1c0002   \n",
       "...                                      ...   \n",
       "940205  4dabc378-7039-11ed-85f5-0242ac1c0002   \n",
       "941913  4dabc378-7039-11ed-85f5-0242ac1c0002   \n",
       "948476  4dabc378-7039-11ed-85f5-0242ac1c0002   \n",
       "952392  4dabc378-7039-11ed-85f5-0242ac1c0002   \n",
       "956453  4dabc378-7039-11ed-85f5-0242ac1c0002   \n",
       "\n",
       "                                       event  category         a          b  \\\n",
       "0       4dd3e286-7039-11ed-85f5-0242ac1c0002        17  0.746382  16.496951   \n",
       "20335   4e2fc20e-7039-11ed-85f5-0242ac1c0002         1  0.027844  12.145661   \n",
       "32780   4e5e71d0-7039-11ed-85f5-0242ac1c0002         6  0.451507  13.026251   \n",
       "33071   4e5f6680-7039-11ed-85f5-0242ac1c0002         2  0.216145   7.450520   \n",
       "52644   4f1d98bc-7039-11ed-85f5-0242ac1c0002        33  0.816164   2.284729   \n",
       "...                                      ...       ...       ...        ...   \n",
       "940205  5954f4d8-7039-11ed-85f5-0242ac1c0002        30  0.742516   8.710109   \n",
       "941913  595896a6-7039-11ed-85f5-0242ac1c0002         5  0.007041  21.151961   \n",
       "948476  5966d0cc-7039-11ed-85f5-0242ac1c0002        37  0.612135  20.015635   \n",
       "952392  596fb55c-7039-11ed-85f5-0242ac1c0002        44  0.224163  13.220250   \n",
       "956453  5978d74a-7039-11ed-85f5-0242ac1c0002        20  0.254090  11.810884   \n",
       "\n",
       "                 c  \n",
       "0         0.504608  \n",
       "20335    15.006690  \n",
       "32780    55.676603  \n",
       "33071   218.976485  \n",
       "52644    94.113441  \n",
       "...            ...  \n",
       "940205  194.757732  \n",
       "941913  147.612536  \n",
       "948476  269.997572  \n",
       "952392  148.011409  \n",
       "956453  141.518677  \n",
       "\n",
       "[106 rows x 6 columns]"
      ]
     },
     "execution_count": 34,
     "metadata": {},
     "output_type": "execute_result"
    }
   ],
   "source": [
    "%%time\n",
    "\n",
    "df[df['user']==val]"
   ]
  },
  {
   "cell_type": "code",
   "execution_count": null,
   "metadata": {
    "colab": {
     "base_uri": "https://localhost:8080/",
     "height": 66,
     "referenced_widgets": [
      "633fcb970c1b4a70a1c640a8cc39a3da",
      "00cfc5c09ac24d4a89536c914b8a7298",
      "a1685d9ab8df490cbd14bbe551480882",
      "45a26c7cebba4ab681f67c1aae2c572e",
      "30d7527856264792bfdf8199c5876cef",
      "a964bd5c580f4801a1dbacbe9a89e030",
      "eec8da7587de4eb2b8b09214886cd24e",
      "1e742e7769b142b8a3dadf89e7d65db9",
      "e0a5c63b3ae14cb78adf7b017eac5d96",
      "2b738e0220d844988b68e536cacb3f41",
      "02ac3d3608fd4cc98fe8a704e4c90a2b"
     ]
    },
    "id": "tkxuU9TlsSpd",
    "outputId": "dab0290a-d471-4ecf-9e5e-ccca91c22cfd"
   },
   "outputs": [
    {
     "name": "stdout",
     "output_type": "stream",
     "text": [
      "Indexing user\n"
     ]
    },
    {
     "data": {
      "application/vnd.jupyter.widget-view+json": {
       "model_id": "633fcb970c1b4a70a1c640a8cc39a3da",
       "version_major": 2,
       "version_minor": 0
      },
      "text/plain": [
       "  0%|          | 0/1000000 [00:00<?, ?it/s]"
      ]
     },
     "metadata": {},
     "output_type": "display_data"
    }
   ],
   "source": [
    "idf.indexing_list()"
   ]
  },
  {
   "cell_type": "code",
   "execution_count": null,
   "metadata": {
    "colab": {
     "base_uri": "https://localhost:8080/",
     "height": 361,
     "referenced_widgets": [
      "f56a0a83f7c64d7595edb7b9ba682a5e",
      "86544d166b5146dab02a481533d4cc9c",
      "cd438123acb74973a01c1e2e605f0519",
      "8f2585d811294062a30399b01ee451d4",
      "afcfa9b0aa8e4dbfafe059dfda71ea07",
      "3f69f618a84b4d8cbe0d082a21fbe0f3",
      "c4f53aef332d4d45ac843a003bdceb0d",
      "8cee2399a37b47dab328ef8831f41e29",
      "53fb04f9ac924cea9ccd899c4af2dcc3",
      "2bf05148ed394f2fb8841e370ce9baab",
      "8052497df7de41aab4cbe77aed44eada"
     ]
    },
    "id": "LyPGpbzasRXU",
    "outputId": "cc803693-c198-401e-f750-7981721214b9"
   },
   "outputs": [
    {
     "data": {
      "application/vnd.jupyter.widget-view+json": {
       "model_id": "f56a0a83f7c64d7595edb7b9ba682a5e",
       "version_major": 2,
       "version_minor": 0
      },
      "text/plain": [
       "  0%|          | 0/1000000 [00:00<?, ?it/s]"
      ]
     },
     "metadata": {},
     "output_type": "display_data"
    },
    {
     "ename": "KeyboardInterrupt",
     "evalue": "ignored",
     "output_type": "error",
     "traceback": [
      "\u001b[0;31m---------------------------------------------------------------------------\u001b[0m",
      "\u001b[0;31mKeyboardInterrupt\u001b[0m                         Traceback (most recent call last)",
      "\u001b[0;32m<ipython-input-34-54f537ae61a7>\u001b[0m in \u001b[0;36m<module>\u001b[0;34m\u001b[0m\n\u001b[0;32m----> 1\u001b[0;31m \u001b[0;32mfor\u001b[0m \u001b[0mindex\u001b[0m\u001b[0;34m,\u001b[0m\u001b[0mrow\u001b[0m \u001b[0;32min\u001b[0m \u001b[0mtqdm\u001b[0m\u001b[0;34m(\u001b[0m\u001b[0mdf\u001b[0m\u001b[0;34m.\u001b[0m\u001b[0miterrows\u001b[0m\u001b[0;34m(\u001b[0m\u001b[0;34m)\u001b[0m\u001b[0;34m,\u001b[0m\u001b[0mtotal\u001b[0m \u001b[0;34m=\u001b[0m \u001b[0mlen\u001b[0m\u001b[0;34m(\u001b[0m\u001b[0mdf\u001b[0m\u001b[0;34m)\u001b[0m\u001b[0;34m)\u001b[0m\u001b[0;34m:\u001b[0m\u001b[0;34m\u001b[0m\u001b[0;34m\u001b[0m\u001b[0m\n\u001b[0m\u001b[1;32m      2\u001b[0m   \u001b[0;32mpass\u001b[0m\u001b[0;34m\u001b[0m\u001b[0;34m\u001b[0m\u001b[0m\n",
      "\u001b[0;32m/usr/local/lib/python3.7/dist-packages/tqdm/notebook.py\u001b[0m in \u001b[0;36m__iter__\u001b[0;34m(self)\u001b[0m\n\u001b[1;32m    257\u001b[0m         \u001b[0;32mtry\u001b[0m\u001b[0;34m:\u001b[0m\u001b[0;34m\u001b[0m\u001b[0;34m\u001b[0m\u001b[0m\n\u001b[1;32m    258\u001b[0m             \u001b[0mit\u001b[0m \u001b[0;34m=\u001b[0m \u001b[0msuper\u001b[0m\u001b[0;34m(\u001b[0m\u001b[0mtqdm_notebook\u001b[0m\u001b[0;34m,\u001b[0m \u001b[0mself\u001b[0m\u001b[0;34m)\u001b[0m\u001b[0;34m.\u001b[0m\u001b[0m__iter__\u001b[0m\u001b[0;34m(\u001b[0m\u001b[0;34m)\u001b[0m\u001b[0;34m\u001b[0m\u001b[0;34m\u001b[0m\u001b[0m\n\u001b[0;32m--> 259\u001b[0;31m             \u001b[0;32mfor\u001b[0m \u001b[0mobj\u001b[0m \u001b[0;32min\u001b[0m \u001b[0mit\u001b[0m\u001b[0;34m:\u001b[0m\u001b[0;34m\u001b[0m\u001b[0;34m\u001b[0m\u001b[0m\n\u001b[0m\u001b[1;32m    260\u001b[0m                 \u001b[0;31m# return super(tqdm...) will not catch exception\u001b[0m\u001b[0;34m\u001b[0m\u001b[0;34m\u001b[0m\u001b[0;34m\u001b[0m\u001b[0m\n\u001b[1;32m    261\u001b[0m                 \u001b[0;32myield\u001b[0m \u001b[0mobj\u001b[0m\u001b[0;34m\u001b[0m\u001b[0;34m\u001b[0m\u001b[0m\n",
      "\u001b[0;32m/usr/local/lib/python3.7/dist-packages/tqdm/std.py\u001b[0m in \u001b[0;36m__iter__\u001b[0;34m(self)\u001b[0m\n\u001b[1;32m   1193\u001b[0m \u001b[0;34m\u001b[0m\u001b[0m\n\u001b[1;32m   1194\u001b[0m         \u001b[0;32mtry\u001b[0m\u001b[0;34m:\u001b[0m\u001b[0;34m\u001b[0m\u001b[0;34m\u001b[0m\u001b[0m\n\u001b[0;32m-> 1195\u001b[0;31m             \u001b[0;32mfor\u001b[0m \u001b[0mobj\u001b[0m \u001b[0;32min\u001b[0m \u001b[0miterable\u001b[0m\u001b[0;34m:\u001b[0m\u001b[0;34m\u001b[0m\u001b[0;34m\u001b[0m\u001b[0m\n\u001b[0m\u001b[1;32m   1196\u001b[0m                 \u001b[0;32myield\u001b[0m \u001b[0mobj\u001b[0m\u001b[0;34m\u001b[0m\u001b[0;34m\u001b[0m\u001b[0m\n\u001b[1;32m   1197\u001b[0m                 \u001b[0;31m# Update and possibly print the progressbar.\u001b[0m\u001b[0;34m\u001b[0m\u001b[0;34m\u001b[0m\u001b[0;34m\u001b[0m\u001b[0m\n",
      "\u001b[0;32m/usr/local/lib/python3.7/dist-packages/pandas/core/frame.py\u001b[0m in \u001b[0;36miterrows\u001b[0;34m(self)\u001b[0m\n\u001b[1;32m   1261\u001b[0m         \u001b[0mklass\u001b[0m \u001b[0;34m=\u001b[0m \u001b[0mself\u001b[0m\u001b[0;34m.\u001b[0m\u001b[0m_constructor_sliced\u001b[0m\u001b[0;34m\u001b[0m\u001b[0;34m\u001b[0m\u001b[0m\n\u001b[1;32m   1262\u001b[0m         \u001b[0;32mfor\u001b[0m \u001b[0mk\u001b[0m\u001b[0;34m,\u001b[0m \u001b[0mv\u001b[0m \u001b[0;32min\u001b[0m \u001b[0mzip\u001b[0m\u001b[0;34m(\u001b[0m\u001b[0mself\u001b[0m\u001b[0;34m.\u001b[0m\u001b[0mindex\u001b[0m\u001b[0;34m,\u001b[0m \u001b[0mself\u001b[0m\u001b[0;34m.\u001b[0m\u001b[0mvalues\u001b[0m\u001b[0;34m)\u001b[0m\u001b[0;34m:\u001b[0m\u001b[0;34m\u001b[0m\u001b[0;34m\u001b[0m\u001b[0m\n\u001b[0;32m-> 1263\u001b[0;31m             \u001b[0ms\u001b[0m \u001b[0;34m=\u001b[0m \u001b[0mklass\u001b[0m\u001b[0;34m(\u001b[0m\u001b[0mv\u001b[0m\u001b[0;34m,\u001b[0m \u001b[0mindex\u001b[0m\u001b[0;34m=\u001b[0m\u001b[0mcolumns\u001b[0m\u001b[0;34m,\u001b[0m \u001b[0mname\u001b[0m\u001b[0;34m=\u001b[0m\u001b[0mk\u001b[0m\u001b[0;34m)\u001b[0m\u001b[0;34m\u001b[0m\u001b[0;34m\u001b[0m\u001b[0m\n\u001b[0m\u001b[1;32m   1264\u001b[0m             \u001b[0;32myield\u001b[0m \u001b[0mk\u001b[0m\u001b[0;34m,\u001b[0m \u001b[0ms\u001b[0m\u001b[0;34m\u001b[0m\u001b[0;34m\u001b[0m\u001b[0m\n\u001b[1;32m   1265\u001b[0m \u001b[0;34m\u001b[0m\u001b[0m\n",
      "\u001b[0;32m/usr/local/lib/python3.7/dist-packages/pandas/core/series.py\u001b[0m in \u001b[0;36m__init__\u001b[0;34m(self, data, index, dtype, name, copy, fastpath)\u001b[0m\n\u001b[1;32m    439\u001b[0m                 \u001b[0mdata\u001b[0m \u001b[0;34m=\u001b[0m \u001b[0msanitize_array\u001b[0m\u001b[0;34m(\u001b[0m\u001b[0mdata\u001b[0m\u001b[0;34m,\u001b[0m \u001b[0mindex\u001b[0m\u001b[0;34m,\u001b[0m \u001b[0mdtype\u001b[0m\u001b[0;34m,\u001b[0m \u001b[0mcopy\u001b[0m\u001b[0;34m)\u001b[0m\u001b[0;34m\u001b[0m\u001b[0;34m\u001b[0m\u001b[0m\n\u001b[1;32m    440\u001b[0m \u001b[0;34m\u001b[0m\u001b[0m\n\u001b[0;32m--> 441\u001b[0;31m                 \u001b[0mmanager\u001b[0m \u001b[0;34m=\u001b[0m \u001b[0mget_option\u001b[0m\u001b[0;34m(\u001b[0m\u001b[0;34m\"mode.data_manager\"\u001b[0m\u001b[0;34m)\u001b[0m\u001b[0;34m\u001b[0m\u001b[0;34m\u001b[0m\u001b[0m\n\u001b[0m\u001b[1;32m    442\u001b[0m                 \u001b[0;32mif\u001b[0m \u001b[0mmanager\u001b[0m \u001b[0;34m==\u001b[0m \u001b[0;34m\"block\"\u001b[0m\u001b[0;34m:\u001b[0m\u001b[0;34m\u001b[0m\u001b[0;34m\u001b[0m\u001b[0m\n\u001b[1;32m    443\u001b[0m                     \u001b[0mdata\u001b[0m \u001b[0;34m=\u001b[0m \u001b[0mSingleBlockManager\u001b[0m\u001b[0;34m.\u001b[0m\u001b[0mfrom_array\u001b[0m\u001b[0;34m(\u001b[0m\u001b[0mdata\u001b[0m\u001b[0;34m,\u001b[0m \u001b[0mindex\u001b[0m\u001b[0;34m)\u001b[0m\u001b[0;34m\u001b[0m\u001b[0;34m\u001b[0m\u001b[0m\n",
      "\u001b[0;32m/usr/local/lib/python3.7/dist-packages/pandas/_config/config.py\u001b[0m in \u001b[0;36m__call__\u001b[0;34m(self, *args, **kwds)\u001b[0m\n\u001b[1;32m    241\u001b[0m \u001b[0;34m\u001b[0m\u001b[0m\n\u001b[1;32m    242\u001b[0m     \u001b[0;32mdef\u001b[0m \u001b[0m__call__\u001b[0m\u001b[0;34m(\u001b[0m\u001b[0mself\u001b[0m\u001b[0;34m,\u001b[0m \u001b[0;34m*\u001b[0m\u001b[0margs\u001b[0m\u001b[0;34m,\u001b[0m \u001b[0;34m**\u001b[0m\u001b[0mkwds\u001b[0m\u001b[0;34m)\u001b[0m\u001b[0;34m:\u001b[0m\u001b[0;34m\u001b[0m\u001b[0;34m\u001b[0m\u001b[0m\n\u001b[0;32m--> 243\u001b[0;31m         \u001b[0;32mreturn\u001b[0m \u001b[0mself\u001b[0m\u001b[0;34m.\u001b[0m\u001b[0m__func__\u001b[0m\u001b[0;34m(\u001b[0m\u001b[0;34m*\u001b[0m\u001b[0margs\u001b[0m\u001b[0;34m,\u001b[0m \u001b[0;34m**\u001b[0m\u001b[0mkwds\u001b[0m\u001b[0;34m)\u001b[0m\u001b[0;34m\u001b[0m\u001b[0;34m\u001b[0m\u001b[0m\n\u001b[0m\u001b[1;32m    244\u001b[0m \u001b[0;34m\u001b[0m\u001b[0m\n\u001b[1;32m    245\u001b[0m     \u001b[0;34m@\u001b[0m\u001b[0mproperty\u001b[0m\u001b[0;34m\u001b[0m\u001b[0;34m\u001b[0m\u001b[0m\n",
      "\u001b[0;32m/usr/local/lib/python3.7/dist-packages/pandas/_config/config.py\u001b[0m in \u001b[0;36m_get_option\u001b[0;34m(pat, silent)\u001b[0m\n\u001b[1;32m    116\u001b[0m \u001b[0;34m\u001b[0m\u001b[0m\n\u001b[1;32m    117\u001b[0m     \u001b[0;31m# walk the nested dict\u001b[0m\u001b[0;34m\u001b[0m\u001b[0;34m\u001b[0m\u001b[0;34m\u001b[0m\u001b[0m\n\u001b[0;32m--> 118\u001b[0;31m     \u001b[0mroot\u001b[0m\u001b[0;34m,\u001b[0m \u001b[0mk\u001b[0m \u001b[0;34m=\u001b[0m \u001b[0m_get_root\u001b[0m\u001b[0;34m(\u001b[0m\u001b[0mkey\u001b[0m\u001b[0;34m)\u001b[0m\u001b[0;34m\u001b[0m\u001b[0;34m\u001b[0m\u001b[0m\n\u001b[0m\u001b[1;32m    119\u001b[0m     \u001b[0;32mreturn\u001b[0m \u001b[0mroot\u001b[0m\u001b[0;34m[\u001b[0m\u001b[0mk\u001b[0m\u001b[0;34m]\u001b[0m\u001b[0;34m\u001b[0m\u001b[0;34m\u001b[0m\u001b[0m\n\u001b[1;32m    120\u001b[0m \u001b[0;34m\u001b[0m\u001b[0m\n",
      "\u001b[0;32m/usr/local/lib/python3.7/dist-packages/pandas/_config/config.py\u001b[0m in \u001b[0;36m_get_root\u001b[0;34m(key)\u001b[0m\n\u001b[1;32m    566\u001b[0m     \u001b[0mpath\u001b[0m \u001b[0;34m=\u001b[0m \u001b[0mkey\u001b[0m\u001b[0;34m.\u001b[0m\u001b[0msplit\u001b[0m\u001b[0;34m(\u001b[0m\u001b[0;34m\".\"\u001b[0m\u001b[0;34m)\u001b[0m\u001b[0;34m\u001b[0m\u001b[0;34m\u001b[0m\u001b[0m\n\u001b[1;32m    567\u001b[0m     \u001b[0mcursor\u001b[0m \u001b[0;34m=\u001b[0m \u001b[0m_global_config\u001b[0m\u001b[0;34m\u001b[0m\u001b[0;34m\u001b[0m\u001b[0m\n\u001b[0;32m--> 568\u001b[0;31m     \u001b[0;32mfor\u001b[0m \u001b[0mp\u001b[0m \u001b[0;32min\u001b[0m \u001b[0mpath\u001b[0m\u001b[0;34m[\u001b[0m\u001b[0;34m:\u001b[0m\u001b[0;34m-\u001b[0m\u001b[0;36m1\u001b[0m\u001b[0;34m]\u001b[0m\u001b[0;34m:\u001b[0m\u001b[0;34m\u001b[0m\u001b[0;34m\u001b[0m\u001b[0m\n\u001b[0m\u001b[1;32m    569\u001b[0m         \u001b[0mcursor\u001b[0m \u001b[0;34m=\u001b[0m \u001b[0mcursor\u001b[0m\u001b[0;34m[\u001b[0m\u001b[0mp\u001b[0m\u001b[0;34m]\u001b[0m\u001b[0;34m\u001b[0m\u001b[0;34m\u001b[0m\u001b[0m\n\u001b[1;32m    570\u001b[0m     \u001b[0;32mreturn\u001b[0m \u001b[0mcursor\u001b[0m\u001b[0;34m,\u001b[0m \u001b[0mpath\u001b[0m\u001b[0;34m[\u001b[0m\u001b[0;34m-\u001b[0m\u001b[0;36m1\u001b[0m\u001b[0;34m]\u001b[0m\u001b[0;34m\u001b[0m\u001b[0;34m\u001b[0m\u001b[0m\n",
      "\u001b[0;31mKeyboardInterrupt\u001b[0m: "
     ]
    }
   ],
   "source": []
  },
  {
   "cell_type": "code",
   "execution_count": null,
   "metadata": {
    "colab": {
     "base_uri": "https://localhost:8080/"
    },
    "id": "uN0KN-CNscl6",
    "outputId": "a1cc9149-b590-48e6-a547-6c1b788db3f0"
   },
   "outputs": [
    {
     "data": {
      "text/plain": [
       "10000"
      ]
     },
     "execution_count": 37,
     "metadata": {},
     "output_type": "execute_result"
    }
   ],
   "source": []
  },
  {
   "cell_type": "code",
   "execution_count": null,
   "metadata": {
    "id": "8ESwtAmlsmsk"
   },
   "outputs": [],
   "source": []
  },
  {
   "cell_type": "code",
   "execution_count": null,
   "metadata": {
    "id": "44JUKcQ5sPzI"
   },
   "outputs": [],
   "source": []
  },
  {
   "cell_type": "code",
   "execution_count": null,
   "metadata": {
    "colab": {
     "base_uri": "https://localhost:8080/",
     "height": 165,
     "referenced_widgets": [
      "8858e77de47e453d84fe410db3a3b262",
      "ac545af1e1264a458ee9a45792a60a9e",
      "ba4069a0476b409db779a451aac752a3",
      "d8ac4f0261974af8b364181fdebc0606",
      "b9d7a5667a6844ef86c663cbac6d98eb",
      "682ea352e39143fb951275083fed0af8",
      "9f437d08ce334497b14614e443ad073c",
      "c5555eece655442a9e4929fe4194dcf3",
      "80a6d683d7fc43819fbc0a5613c62d22",
      "99e74bc355b242d78fed70120a4ffd50",
      "5699c07e79aa414aabe8effe3eb54e9e",
      "9cc7f0b89cce4882b128d78892f9ab54",
      "5e11b1b795764561b14f43b31237c66a",
      "9e36433f045f4929a0b6ba69f70d8c16",
      "d4c59ce56b604b03a82dd7d3aa5f56b4",
      "268dde64d03846eb968d7d9739e174c5",
      "2a5649ae8c424399be2743792924389e",
      "72e25720ca66470491a96dba6b9806e2",
      "a2947245ac8244f4990621c56bfcf2a0",
      "b9451892772e4367971fc69d02ca409e",
      "89b3efc006974b61a62272e2c9f4bbb2",
      "aa830a7913954c7db52d5d13f95a97f6",
      "25b82e48637d44959958798a4f6d5413",
      "e61061a9dfe2498fb19b081076f9fc56",
      "ec05203d605840c1b6d9c7a1f5292353",
      "4ec4855ad9ce47bf83d971f6cfae1754",
      "84d579d430d0431491eb7fb0dad9f5aa",
      "841df8f62a8c4af9b5216b73bf23ec34",
      "2fcd0c922f09441897e30b8d1f03940b",
      "568ba77181cf49e18dd089f54c2937af",
      "c275a8e3aaa84b8ca6c9a6776ead06f1",
      "76697c0058444ecf8fb5e4181cf55e79",
      "f3fcc0b87863471295f904e1d79fc8e4"
     ]
    },
    "id": "G7KGkjqX66ze",
    "outputId": "70944e45-2496-425a-ab17-a24ec013d3da"
   },
   "outputs": [
    {
     "name": "stdout",
     "output_type": "stream",
     "text": [
      "Indexing user\n"
     ]
    },
    {
     "data": {
      "application/vnd.jupyter.widget-view+json": {
       "model_id": "8858e77de47e453d84fe410db3a3b262",
       "version_major": 2,
       "version_minor": 0
      },
      "text/plain": [
       "  0%|          | 0/1000000 [00:00<?, ?it/s]"
      ]
     },
     "metadata": {},
     "output_type": "display_data"
    },
    {
     "name": "stdout",
     "output_type": "stream",
     "text": [
      "Indexing category\n"
     ]
    },
    {
     "data": {
      "application/vnd.jupyter.widget-view+json": {
       "model_id": "9cc7f0b89cce4882b128d78892f9ab54",
       "version_major": 2,
       "version_minor": 0
      },
      "text/plain": [
       "  0%|          | 0/1000000 [00:00<?, ?it/s]"
      ]
     },
     "metadata": {},
     "output_type": "display_data"
    },
    {
     "name": "stdout",
     "output_type": "stream",
     "text": [
      "Indexing event\n"
     ]
    },
    {
     "data": {
      "application/vnd.jupyter.widget-view+json": {
       "model_id": "25b82e48637d44959958798a4f6d5413",
       "version_major": 2,
       "version_minor": 0
      },
      "text/plain": [
       "  0%|          | 0/1000000 [00:00<?, ?it/s]"
      ]
     },
     "metadata": {},
     "output_type": "display_data"
    }
   ],
   "source": [
    "idf.indexing()"
   ]
  },
  {
   "cell_type": "code",
   "execution_count": null,
   "metadata": {
    "colab": {
     "base_uri": "https://localhost:8080/"
    },
    "id": "uy6CL_Ou674E",
    "outputId": "39cb4fff-cdb8-4320-d38e-e5f2cef0337a"
   },
   "outputs": [
    {
     "name": "stdout",
     "output_type": "stream",
     "text": [
      "total 71M\n",
      "4.0K drwxr-xr-x 1 root root 4.0K Nov 14 14:32 sample_data\n",
      "5.2M -rw-r--r-- 1 root root 5.2M Nov 16 00:31 test.pkl\n",
      "5.2M -rw-r--r-- 1 root root 5.2M Nov 16 00:54 user.pkl\n",
      " 56M -rw-r--r-- 1 root root  56M Nov 16 00:54 event.pkl\n",
      "4.7M -rw-r--r-- 1 root root 4.7M Nov 16 00:54 category.pkl\n"
     ]
    }
   ],
   "source": [
    "!ls -lstrh"
   ]
  },
  {
   "cell_type": "code",
   "execution_count": null,
   "metadata": {
    "colab": {
     "base_uri": "https://localhost:8080/"
    },
    "id": "f9c02B407vpg",
    "outputId": "c8e0e808-3054-487b-9589-67b0d8ccadc6"
   },
   "outputs": [
    {
     "name": "stdout",
     "output_type": "stream",
     "text": [
      "85.0\n",
      "user : 14425000.0\n",
      "27.988\n",
      "category : 14000643.724\n",
      "85.0\n",
      "event : 56500000.0\n"
     ]
    }
   ],
   "source": [
    "for col in ['user','category','event']:\n",
    "\n",
    "  mean_size = df[col].sample(1000).apply(sys.getsizeof).mean()\n",
    "  print(mean_size)\n",
    "\n",
    "  print(f'{col} : {((mean_size*len(df[col].unique()))+(len(df)*28))/2}')"
   ]
  },
  {
   "cell_type": "code",
   "execution_count": null,
   "metadata": {
    "id": "5h24_cD-8AM0"
   },
   "outputs": [],
   "source": []
  },
  {
   "cell_type": "code",
   "execution_count": null,
   "metadata": {
    "id": "rPaLfoe92QBb"
   },
   "outputs": [],
   "source": [
    "import pickle"
   ]
  },
  {
   "cell_type": "code",
   "execution_count": null,
   "metadata": {
    "id": "rCFu6cRW2RAI"
   },
   "outputs": [],
   "source": [
    "pickle.dump(idf.index_dictionary['user'],open('user.pkl','wb+'))\n",
    "pickle.dump(idf.index_dictionary['event'],open('event.pkl','wb+'))\n",
    "pickle.dump(idf.index_dictionary['category'],open('category.pkl','wb+'))"
   ]
  },
  {
   "cell_type": "code",
   "execution_count": null,
   "metadata": {
    "id": "jVoTMZ8V7aW9"
   },
   "outputs": [],
   "source": []
  },
  {
   "cell_type": "code",
   "execution_count": null,
   "metadata": {
    "id": "bfGs61hl2tCf"
   },
   "outputs": [],
   "source": [
    "import sys"
   ]
  },
  {
   "cell_type": "code",
   "execution_count": null,
   "metadata": {
    "colab": {
     "base_uri": "https://localhost:8080/",
     "height": 49,
     "referenced_widgets": [
      "89b4623c5ebb4ab28da39dabe3fd4f5a",
      "c010a96bd05a4c98af812dc62b79b362",
      "34529005e89945cc83adc9ca7c5da711",
      "8cfcd245a2c1433182d58ce8b7ce78fc",
      "82d1856e72854cb88f8510cc65284d4b",
      "783e69627e5741edab01af7de57e4b41",
      "4570d563664c41e38e2ab369d972642b",
      "24b44d807b7c4721af7e78e35fe13b07",
      "d2d7499792ce4e58b9d6f6871b9edbd3",
      "14886a66023b406c9a5968a04f396c63",
      "8133f69c81864a189d0740a62906eed0"
     ]
    },
    "id": "xjxxaGPc2nZ6",
    "outputId": "df6d260c-ad6b-4c91-e480-eff1a0938edc"
   },
   "outputs": [
    {
     "data": {
      "application/vnd.jupyter.widget-view+json": {
       "model_id": "89b4623c5ebb4ab28da39dabe3fd4f5a",
       "version_major": 2,
       "version_minor": 0
      },
      "text/plain": [
       "  0%|          | 0/10000 [00:00<?, ?it/s]"
      ]
     },
     "metadata": {},
     "output_type": "display_data"
    }
   ],
   "source": [
    "sizes = []\n",
    "for user in tqdm(user_uuid):\n",
    "  sizes.append(sys.getsizeof(idf.index_dictionary['user'][user]))\n"
   ]
  },
  {
   "cell_type": "code",
   "execution_count": null,
   "metadata": {
    "colab": {
     "base_uri": "https://localhost:8080/"
    },
    "id": "6sSbtO0Z3l5N",
    "outputId": "94c8a2f0-21d8-41b3-8acf-cfa03506656e"
   },
   "outputs": [
    {
     "data": {
      "text/plain": [
       "9439008"
      ]
     },
     "execution_count": 112,
     "metadata": {},
     "output_type": "execute_result"
    }
   ],
   "source": [
    "sum(sizes)"
   ]
  },
  {
   "cell_type": "code",
   "execution_count": null,
   "metadata": {
    "colab": {
     "base_uri": "https://localhost:8080/"
    },
    "id": "pRb0OAo63gKI",
    "outputId": "d558e844-71ad-408e-c8a9-dcae3f2f57f3"
   },
   "outputs": [
    {
     "data": {
      "text/plain": [
       "10.952380952380953"
      ]
     },
     "execution_count": 111,
     "metadata": {},
     "output_type": "execute_result"
    }
   ],
   "source": [
    "920/len(idf.index_dictionary['user'][user])"
   ]
  },
  {
   "cell_type": "code",
   "execution_count": null,
   "metadata": {
    "colab": {
     "base_uri": "https://localhost:8080/"
    },
    "id": "qRKh9l9d3KSn",
    "outputId": "3318d78a-5892-4601-c109-0ac0d603c26f"
   },
   "outputs": [
    {
     "data": {
      "text/plain": [
       "5925000.0"
      ]
     },
     "execution_count": 124,
     "metadata": {},
     "output_type": "execute_result"
    }
   ],
   "source": []
  },
  {
   "cell_type": "code",
   "execution_count": null,
   "metadata": {
    "id": "FVUxFq3x2_Vj"
   },
   "outputs": [],
   "source": [
    "sys.getsizoef()"
   ]
  },
  {
   "cell_type": "code",
   "execution_count": null,
   "metadata": {
    "colab": {
     "base_uri": "https://localhost:8080/"
    },
    "id": "Fj-4oFJz2Vdx",
    "outputId": "d379c6aa-424e-4435-d6b7-93deca9ce12a"
   },
   "outputs": [
    {
     "name": "stdout",
     "output_type": "stream",
     "text": [
      "total 5.2M\n",
      "4.0K drwxr-xr-x 1 root root 4.0K Nov 14 14:32 sample_data\n",
      "5.2M -rw-r--r-- 1 root root 5.2M Nov 16 00:31 test.pkl\n"
     ]
    }
   ],
   "source": []
  },
  {
   "cell_type": "code",
   "execution_count": null,
   "metadata": {
    "colab": {
     "base_uri": "https://localhost:8080/"
    },
    "id": "7t-euBEX0yHl",
    "outputId": "0838bb8c-5961-4d89-92d5-f8485aa1616b"
   },
   "outputs": [
    {
     "name": "stdout",
     "output_type": "stream",
     "text": [
      "CPU times: user 7.28 s, sys: 43.7 ms, total: 7.33 s\n",
      "Wall time: 7.65 s\n"
     ]
    }
   ],
   "source": [
    "%%time\n",
    "\n",
    "for user in sample_users: \n",
    "  df[df['user']==user]"
   ]
  },
  {
   "cell_type": "code",
   "execution_count": null,
   "metadata": {
    "colab": {
     "base_uri": "https://localhost:8080/"
    },
    "id": "FljqUXfu1MIX",
    "outputId": "4437cc4b-f466-4b1d-949d-71fb4bf515b0"
   },
   "outputs": [
    {
     "name": "stdout",
     "output_type": "stream",
     "text": [
      "CPU times: user 31.2 ms, sys: 0 ns, total: 31.2 ms\n",
      "Wall time: 37.3 ms\n"
     ]
    }
   ],
   "source": [
    "%%time\n",
    "\n",
    "for user in sample_users: \n",
    "  idf.search('user',user)"
   ]
  },
  {
   "cell_type": "code",
   "execution_count": null,
   "metadata": {},
   "outputs": [],
   "source": []
  },
  {
   "cell_type": "code",
   "execution_count": null,
   "metadata": {},
   "outputs": [],
   "source": []
  },
  {
   "cell_type": "code",
   "execution_count": null,
   "metadata": {},
   "outputs": [],
   "source": []
  },
  {
   "cell_type": "code",
   "execution_count": 227,
   "metadata": {},
   "outputs": [],
   "source": [
    "from panda_search import PandaSearch"
   ]
  },
  {
   "cell_type": "code",
   "execution_count": 232,
   "metadata": {},
   "outputs": [
    {
     "data": {
      "text/plain": [
       "<bound method PandaSearch.indexing of <panda_search.PandaSearch object at 0x2a19a35e0>>"
      ]
     },
     "execution_count": 232,
     "metadata": {},
     "output_type": "execute_result"
    }
   ],
   "source": [
    "test.indexing"
   ]
  }
 ],
 "metadata": {
  "colab": {
   "provenance": []
  },
  "kernelspec": {
   "display_name": "Python 3 (ipykernel)",
   "language": "python",
   "name": "python3"
  },
  "language_info": {
   "codemirror_mode": {
    "name": "ipython",
    "version": 3
   },
   "file_extension": ".py",
   "mimetype": "text/x-python",
   "name": "python",
   "nbconvert_exporter": "python",
   "pygments_lexer": "ipython3",
   "version": "3.8.6"
  },
  "widgets": {
   "application/vnd.jupyter.widget-state+json": {
    "006dbaa961d848e9adcbc61dba95f204": {
     "model_module": "@jupyter-widgets/base",
     "model_module_version": "1.2.0",
     "model_name": "LayoutModel",
     "state": {
      "_model_module": "@jupyter-widgets/base",
      "_model_module_version": "1.2.0",
      "_model_name": "LayoutModel",
      "_view_count": null,
      "_view_module": "@jupyter-widgets/base",
      "_view_module_version": "1.2.0",
      "_view_name": "LayoutView",
      "align_content": null,
      "align_items": null,
      "align_self": null,
      "border": null,
      "bottom": null,
      "display": null,
      "flex": null,
      "flex_flow": null,
      "grid_area": null,
      "grid_auto_columns": null,
      "grid_auto_flow": null,
      "grid_auto_rows": null,
      "grid_column": null,
      "grid_gap": null,
      "grid_row": null,
      "grid_template_areas": null,
      "grid_template_columns": null,
      "grid_template_rows": null,
      "height": null,
      "justify_content": null,
      "justify_items": null,
      "left": null,
      "margin": null,
      "max_height": null,
      "max_width": null,
      "min_height": null,
      "min_width": null,
      "object_fit": null,
      "object_position": null,
      "order": null,
      "overflow": null,
      "overflow_x": null,
      "overflow_y": null,
      "padding": null,
      "right": null,
      "top": null,
      "visibility": null,
      "width": null
     }
    },
    "00cfc5c09ac24d4a89536c914b8a7298": {
     "model_module": "@jupyter-widgets/controls",
     "model_module_version": "1.5.0",
     "model_name": "HTMLModel",
     "state": {
      "_dom_classes": [],
      "_model_module": "@jupyter-widgets/controls",
      "_model_module_version": "1.5.0",
      "_model_name": "HTMLModel",
      "_view_count": null,
      "_view_module": "@jupyter-widgets/controls",
      "_view_module_version": "1.5.0",
      "_view_name": "HTMLView",
      "description": "",
      "description_tooltip": null,
      "layout": "IPY_MODEL_a964bd5c580f4801a1dbacbe9a89e030",
      "placeholder": "​",
      "style": "IPY_MODEL_eec8da7587de4eb2b8b09214886cd24e",
      "value": "100%"
     }
    },
    "02ac3d3608fd4cc98fe8a704e4c90a2b": {
     "model_module": "@jupyter-widgets/controls",
     "model_module_version": "1.5.0",
     "model_name": "DescriptionStyleModel",
     "state": {
      "_model_module": "@jupyter-widgets/controls",
      "_model_module_version": "1.5.0",
      "_model_name": "DescriptionStyleModel",
      "_view_count": null,
      "_view_module": "@jupyter-widgets/base",
      "_view_module_version": "1.2.0",
      "_view_name": "StyleView",
      "description_width": ""
     }
    },
    "119e2fbd10dd4a938c519fe1be55eea3": {
     "model_module": "@jupyter-widgets/controls",
     "model_module_version": "1.5.0",
     "model_name": "ProgressStyleModel",
     "state": {
      "_model_module": "@jupyter-widgets/controls",
      "_model_module_version": "1.5.0",
      "_model_name": "ProgressStyleModel",
      "_view_count": null,
      "_view_module": "@jupyter-widgets/base",
      "_view_module_version": "1.2.0",
      "_view_name": "StyleView",
      "bar_color": null,
      "description_width": ""
     }
    },
    "12e2e19bbc81497299c34ddec5b948f3": {
     "model_module": "@jupyter-widgets/controls",
     "model_module_version": "1.5.0",
     "model_name": "FloatProgressModel",
     "state": {
      "_dom_classes": [],
      "_model_module": "@jupyter-widgets/controls",
      "_model_module_version": "1.5.0",
      "_model_name": "FloatProgressModel",
      "_view_count": null,
      "_view_module": "@jupyter-widgets/controls",
      "_view_module_version": "1.5.0",
      "_view_name": "ProgressView",
      "bar_style": "success",
      "description": "",
      "description_tooltip": null,
      "layout": "IPY_MODEL_4f5cce1a09aa489fae6c372a459a3c38",
      "max": 1000000,
      "min": 0,
      "orientation": "horizontal",
      "style": "IPY_MODEL_6e78fa26eb9a436eb506657b1070d040",
      "value": 1000000
     }
    },
    "14886a66023b406c9a5968a04f396c63": {
     "model_module": "@jupyter-widgets/base",
     "model_module_version": "1.2.0",
     "model_name": "LayoutModel",
     "state": {
      "_model_module": "@jupyter-widgets/base",
      "_model_module_version": "1.2.0",
      "_model_name": "LayoutModel",
      "_view_count": null,
      "_view_module": "@jupyter-widgets/base",
      "_view_module_version": "1.2.0",
      "_view_name": "LayoutView",
      "align_content": null,
      "align_items": null,
      "align_self": null,
      "border": null,
      "bottom": null,
      "display": null,
      "flex": null,
      "flex_flow": null,
      "grid_area": null,
      "grid_auto_columns": null,
      "grid_auto_flow": null,
      "grid_auto_rows": null,
      "grid_column": null,
      "grid_gap": null,
      "grid_row": null,
      "grid_template_areas": null,
      "grid_template_columns": null,
      "grid_template_rows": null,
      "height": null,
      "justify_content": null,
      "justify_items": null,
      "left": null,
      "margin": null,
      "max_height": null,
      "max_width": null,
      "min_height": null,
      "min_width": null,
      "object_fit": null,
      "object_position": null,
      "order": null,
      "overflow": null,
      "overflow_x": null,
      "overflow_y": null,
      "padding": null,
      "right": null,
      "top": null,
      "visibility": null,
      "width": null
     }
    },
    "1624249bcf424b01b4dbae976c7614ee": {
     "model_module": "@jupyter-widgets/controls",
     "model_module_version": "1.5.0",
     "model_name": "HTMLModel",
     "state": {
      "_dom_classes": [],
      "_model_module": "@jupyter-widgets/controls",
      "_model_module_version": "1.5.0",
      "_model_name": "HTMLModel",
      "_view_count": null,
      "_view_module": "@jupyter-widgets/controls",
      "_view_module_version": "1.5.0",
      "_view_name": "HTMLView",
      "description": "",
      "description_tooltip": null,
      "layout": "IPY_MODEL_c439ed19457d419caa147ec621250286",
      "placeholder": "​",
      "style": "IPY_MODEL_bfe246eb0b92423582e5cf39dfa515c2",
      "value": "100%"
     }
    },
    "1e742e7769b142b8a3dadf89e7d65db9": {
     "model_module": "@jupyter-widgets/base",
     "model_module_version": "1.2.0",
     "model_name": "LayoutModel",
     "state": {
      "_model_module": "@jupyter-widgets/base",
      "_model_module_version": "1.2.0",
      "_model_name": "LayoutModel",
      "_view_count": null,
      "_view_module": "@jupyter-widgets/base",
      "_view_module_version": "1.2.0",
      "_view_name": "LayoutView",
      "align_content": null,
      "align_items": null,
      "align_self": null,
      "border": null,
      "bottom": null,
      "display": null,
      "flex": null,
      "flex_flow": null,
      "grid_area": null,
      "grid_auto_columns": null,
      "grid_auto_flow": null,
      "grid_auto_rows": null,
      "grid_column": null,
      "grid_gap": null,
      "grid_row": null,
      "grid_template_areas": null,
      "grid_template_columns": null,
      "grid_template_rows": null,
      "height": null,
      "justify_content": null,
      "justify_items": null,
      "left": null,
      "margin": null,
      "max_height": null,
      "max_width": null,
      "min_height": null,
      "min_width": null,
      "object_fit": null,
      "object_position": null,
      "order": null,
      "overflow": null,
      "overflow_x": null,
      "overflow_y": null,
      "padding": null,
      "right": null,
      "top": null,
      "visibility": null,
      "width": null
     }
    },
    "224203327388427c84fd6e8020cb36d1": {
     "model_module": "@jupyter-widgets/base",
     "model_module_version": "1.2.0",
     "model_name": "LayoutModel",
     "state": {
      "_model_module": "@jupyter-widgets/base",
      "_model_module_version": "1.2.0",
      "_model_name": "LayoutModel",
      "_view_count": null,
      "_view_module": "@jupyter-widgets/base",
      "_view_module_version": "1.2.0",
      "_view_name": "LayoutView",
      "align_content": null,
      "align_items": null,
      "align_self": null,
      "border": null,
      "bottom": null,
      "display": null,
      "flex": null,
      "flex_flow": null,
      "grid_area": null,
      "grid_auto_columns": null,
      "grid_auto_flow": null,
      "grid_auto_rows": null,
      "grid_column": null,
      "grid_gap": null,
      "grid_row": null,
      "grid_template_areas": null,
      "grid_template_columns": null,
      "grid_template_rows": null,
      "height": null,
      "justify_content": null,
      "justify_items": null,
      "left": null,
      "margin": null,
      "max_height": null,
      "max_width": null,
      "min_height": null,
      "min_width": null,
      "object_fit": null,
      "object_position": null,
      "order": null,
      "overflow": null,
      "overflow_x": null,
      "overflow_y": null,
      "padding": null,
      "right": null,
      "top": null,
      "visibility": null,
      "width": null
     }
    },
    "24b44d807b7c4721af7e78e35fe13b07": {
     "model_module": "@jupyter-widgets/base",
     "model_module_version": "1.2.0",
     "model_name": "LayoutModel",
     "state": {
      "_model_module": "@jupyter-widgets/base",
      "_model_module_version": "1.2.0",
      "_model_name": "LayoutModel",
      "_view_count": null,
      "_view_module": "@jupyter-widgets/base",
      "_view_module_version": "1.2.0",
      "_view_name": "LayoutView",
      "align_content": null,
      "align_items": null,
      "align_self": null,
      "border": null,
      "bottom": null,
      "display": null,
      "flex": null,
      "flex_flow": null,
      "grid_area": null,
      "grid_auto_columns": null,
      "grid_auto_flow": null,
      "grid_auto_rows": null,
      "grid_column": null,
      "grid_gap": null,
      "grid_row": null,
      "grid_template_areas": null,
      "grid_template_columns": null,
      "grid_template_rows": null,
      "height": null,
      "justify_content": null,
      "justify_items": null,
      "left": null,
      "margin": null,
      "max_height": null,
      "max_width": null,
      "min_height": null,
      "min_width": null,
      "object_fit": null,
      "object_position": null,
      "order": null,
      "overflow": null,
      "overflow_x": null,
      "overflow_y": null,
      "padding": null,
      "right": null,
      "top": null,
      "visibility": null,
      "width": null
     }
    },
    "25b82e48637d44959958798a4f6d5413": {
     "model_module": "@jupyter-widgets/controls",
     "model_module_version": "1.5.0",
     "model_name": "HBoxModel",
     "state": {
      "_dom_classes": [],
      "_model_module": "@jupyter-widgets/controls",
      "_model_module_version": "1.5.0",
      "_model_name": "HBoxModel",
      "_view_count": null,
      "_view_module": "@jupyter-widgets/controls",
      "_view_module_version": "1.5.0",
      "_view_name": "HBoxView",
      "box_style": "",
      "children": [
       "IPY_MODEL_e61061a9dfe2498fb19b081076f9fc56",
       "IPY_MODEL_ec05203d605840c1b6d9c7a1f5292353",
       "IPY_MODEL_4ec4855ad9ce47bf83d971f6cfae1754"
      ],
      "layout": "IPY_MODEL_84d579d430d0431491eb7fb0dad9f5aa"
     }
    },
    "268dde64d03846eb968d7d9739e174c5": {
     "model_module": "@jupyter-widgets/base",
     "model_module_version": "1.2.0",
     "model_name": "LayoutModel",
     "state": {
      "_model_module": "@jupyter-widgets/base",
      "_model_module_version": "1.2.0",
      "_model_name": "LayoutModel",
      "_view_count": null,
      "_view_module": "@jupyter-widgets/base",
      "_view_module_version": "1.2.0",
      "_view_name": "LayoutView",
      "align_content": null,
      "align_items": null,
      "align_self": null,
      "border": null,
      "bottom": null,
      "display": null,
      "flex": null,
      "flex_flow": null,
      "grid_area": null,
      "grid_auto_columns": null,
      "grid_auto_flow": null,
      "grid_auto_rows": null,
      "grid_column": null,
      "grid_gap": null,
      "grid_row": null,
      "grid_template_areas": null,
      "grid_template_columns": null,
      "grid_template_rows": null,
      "height": null,
      "justify_content": null,
      "justify_items": null,
      "left": null,
      "margin": null,
      "max_height": null,
      "max_width": null,
      "min_height": null,
      "min_width": null,
      "object_fit": null,
      "object_position": null,
      "order": null,
      "overflow": null,
      "overflow_x": null,
      "overflow_y": null,
      "padding": null,
      "right": null,
      "top": null,
      "visibility": null,
      "width": null
     }
    },
    "2a5649ae8c424399be2743792924389e": {
     "model_module": "@jupyter-widgets/base",
     "model_module_version": "1.2.0",
     "model_name": "LayoutModel",
     "state": {
      "_model_module": "@jupyter-widgets/base",
      "_model_module_version": "1.2.0",
      "_model_name": "LayoutModel",
      "_view_count": null,
      "_view_module": "@jupyter-widgets/base",
      "_view_module_version": "1.2.0",
      "_view_name": "LayoutView",
      "align_content": null,
      "align_items": null,
      "align_self": null,
      "border": null,
      "bottom": null,
      "display": null,
      "flex": null,
      "flex_flow": null,
      "grid_area": null,
      "grid_auto_columns": null,
      "grid_auto_flow": null,
      "grid_auto_rows": null,
      "grid_column": null,
      "grid_gap": null,
      "grid_row": null,
      "grid_template_areas": null,
      "grid_template_columns": null,
      "grid_template_rows": null,
      "height": null,
      "justify_content": null,
      "justify_items": null,
      "left": null,
      "margin": null,
      "max_height": null,
      "max_width": null,
      "min_height": null,
      "min_width": null,
      "object_fit": null,
      "object_position": null,
      "order": null,
      "overflow": null,
      "overflow_x": null,
      "overflow_y": null,
      "padding": null,
      "right": null,
      "top": null,
      "visibility": null,
      "width": null
     }
    },
    "2b738e0220d844988b68e536cacb3f41": {
     "model_module": "@jupyter-widgets/base",
     "model_module_version": "1.2.0",
     "model_name": "LayoutModel",
     "state": {
      "_model_module": "@jupyter-widgets/base",
      "_model_module_version": "1.2.0",
      "_model_name": "LayoutModel",
      "_view_count": null,
      "_view_module": "@jupyter-widgets/base",
      "_view_module_version": "1.2.0",
      "_view_name": "LayoutView",
      "align_content": null,
      "align_items": null,
      "align_self": null,
      "border": null,
      "bottom": null,
      "display": null,
      "flex": null,
      "flex_flow": null,
      "grid_area": null,
      "grid_auto_columns": null,
      "grid_auto_flow": null,
      "grid_auto_rows": null,
      "grid_column": null,
      "grid_gap": null,
      "grid_row": null,
      "grid_template_areas": null,
      "grid_template_columns": null,
      "grid_template_rows": null,
      "height": null,
      "justify_content": null,
      "justify_items": null,
      "left": null,
      "margin": null,
      "max_height": null,
      "max_width": null,
      "min_height": null,
      "min_width": null,
      "object_fit": null,
      "object_position": null,
      "order": null,
      "overflow": null,
      "overflow_x": null,
      "overflow_y": null,
      "padding": null,
      "right": null,
      "top": null,
      "visibility": null,
      "width": null
     }
    },
    "2bf05148ed394f2fb8841e370ce9baab": {
     "model_module": "@jupyter-widgets/base",
     "model_module_version": "1.2.0",
     "model_name": "LayoutModel",
     "state": {
      "_model_module": "@jupyter-widgets/base",
      "_model_module_version": "1.2.0",
      "_model_name": "LayoutModel",
      "_view_count": null,
      "_view_module": "@jupyter-widgets/base",
      "_view_module_version": "1.2.0",
      "_view_name": "LayoutView",
      "align_content": null,
      "align_items": null,
      "align_self": null,
      "border": null,
      "bottom": null,
      "display": null,
      "flex": null,
      "flex_flow": null,
      "grid_area": null,
      "grid_auto_columns": null,
      "grid_auto_flow": null,
      "grid_auto_rows": null,
      "grid_column": null,
      "grid_gap": null,
      "grid_row": null,
      "grid_template_areas": null,
      "grid_template_columns": null,
      "grid_template_rows": null,
      "height": null,
      "justify_content": null,
      "justify_items": null,
      "left": null,
      "margin": null,
      "max_height": null,
      "max_width": null,
      "min_height": null,
      "min_width": null,
      "object_fit": null,
      "object_position": null,
      "order": null,
      "overflow": null,
      "overflow_x": null,
      "overflow_y": null,
      "padding": null,
      "right": null,
      "top": null,
      "visibility": null,
      "width": null
     }
    },
    "2fcd0c922f09441897e30b8d1f03940b": {
     "model_module": "@jupyter-widgets/controls",
     "model_module_version": "1.5.0",
     "model_name": "DescriptionStyleModel",
     "state": {
      "_model_module": "@jupyter-widgets/controls",
      "_model_module_version": "1.5.0",
      "_model_name": "DescriptionStyleModel",
      "_view_count": null,
      "_view_module": "@jupyter-widgets/base",
      "_view_module_version": "1.2.0",
      "_view_name": "StyleView",
      "description_width": ""
     }
    },
    "30d7527856264792bfdf8199c5876cef": {
     "model_module": "@jupyter-widgets/base",
     "model_module_version": "1.2.0",
     "model_name": "LayoutModel",
     "state": {
      "_model_module": "@jupyter-widgets/base",
      "_model_module_version": "1.2.0",
      "_model_name": "LayoutModel",
      "_view_count": null,
      "_view_module": "@jupyter-widgets/base",
      "_view_module_version": "1.2.0",
      "_view_name": "LayoutView",
      "align_content": null,
      "align_items": null,
      "align_self": null,
      "border": null,
      "bottom": null,
      "display": null,
      "flex": null,
      "flex_flow": null,
      "grid_area": null,
      "grid_auto_columns": null,
      "grid_auto_flow": null,
      "grid_auto_rows": null,
      "grid_column": null,
      "grid_gap": null,
      "grid_row": null,
      "grid_template_areas": null,
      "grid_template_columns": null,
      "grid_template_rows": null,
      "height": null,
      "justify_content": null,
      "justify_items": null,
      "left": null,
      "margin": null,
      "max_height": null,
      "max_width": null,
      "min_height": null,
      "min_width": null,
      "object_fit": null,
      "object_position": null,
      "order": null,
      "overflow": null,
      "overflow_x": null,
      "overflow_y": null,
      "padding": null,
      "right": null,
      "top": null,
      "visibility": null,
      "width": null
     }
    },
    "340e8177876548fa93d411232562fee0": {
     "model_module": "@jupyter-widgets/controls",
     "model_module_version": "1.5.0",
     "model_name": "HBoxModel",
     "state": {
      "_dom_classes": [],
      "_model_module": "@jupyter-widgets/controls",
      "_model_module_version": "1.5.0",
      "_model_name": "HBoxModel",
      "_view_count": null,
      "_view_module": "@jupyter-widgets/controls",
      "_view_module_version": "1.5.0",
      "_view_name": "HBoxView",
      "box_style": "",
      "children": [
       "IPY_MODEL_b485704fc98a4947a9583a8319ebc951",
       "IPY_MODEL_fc3575b8c8394348a5561917941503ba",
       "IPY_MODEL_bd74ec0fb1c141a38cc6163d80d9a88e"
      ],
      "layout": "IPY_MODEL_3bc9adfebef544daa3bbc0cd10f8757d"
     }
    },
    "34529005e89945cc83adc9ca7c5da711": {
     "model_module": "@jupyter-widgets/controls",
     "model_module_version": "1.5.0",
     "model_name": "FloatProgressModel",
     "state": {
      "_dom_classes": [],
      "_model_module": "@jupyter-widgets/controls",
      "_model_module_version": "1.5.0",
      "_model_name": "FloatProgressModel",
      "_view_count": null,
      "_view_module": "@jupyter-widgets/controls",
      "_view_module_version": "1.5.0",
      "_view_name": "ProgressView",
      "bar_style": "success",
      "description": "",
      "description_tooltip": null,
      "layout": "IPY_MODEL_24b44d807b7c4721af7e78e35fe13b07",
      "max": 10000,
      "min": 0,
      "orientation": "horizontal",
      "style": "IPY_MODEL_d2d7499792ce4e58b9d6f6871b9edbd3",
      "value": 10000
     }
    },
    "3878e58c33ce44a2a2379610095670b5": {
     "model_module": "@jupyter-widgets/base",
     "model_module_version": "1.2.0",
     "model_name": "LayoutModel",
     "state": {
      "_model_module": "@jupyter-widgets/base",
      "_model_module_version": "1.2.0",
      "_model_name": "LayoutModel",
      "_view_count": null,
      "_view_module": "@jupyter-widgets/base",
      "_view_module_version": "1.2.0",
      "_view_name": "LayoutView",
      "align_content": null,
      "align_items": null,
      "align_self": null,
      "border": null,
      "bottom": null,
      "display": null,
      "flex": null,
      "flex_flow": null,
      "grid_area": null,
      "grid_auto_columns": null,
      "grid_auto_flow": null,
      "grid_auto_rows": null,
      "grid_column": null,
      "grid_gap": null,
      "grid_row": null,
      "grid_template_areas": null,
      "grid_template_columns": null,
      "grid_template_rows": null,
      "height": null,
      "justify_content": null,
      "justify_items": null,
      "left": null,
      "margin": null,
      "max_height": null,
      "max_width": null,
      "min_height": null,
      "min_width": null,
      "object_fit": null,
      "object_position": null,
      "order": null,
      "overflow": null,
      "overflow_x": null,
      "overflow_y": null,
      "padding": null,
      "right": null,
      "top": null,
      "visibility": null,
      "width": null
     }
    },
    "3bc9adfebef544daa3bbc0cd10f8757d": {
     "model_module": "@jupyter-widgets/base",
     "model_module_version": "1.2.0",
     "model_name": "LayoutModel",
     "state": {
      "_model_module": "@jupyter-widgets/base",
      "_model_module_version": "1.2.0",
      "_model_name": "LayoutModel",
      "_view_count": null,
      "_view_module": "@jupyter-widgets/base",
      "_view_module_version": "1.2.0",
      "_view_name": "LayoutView",
      "align_content": null,
      "align_items": null,
      "align_self": null,
      "border": null,
      "bottom": null,
      "display": null,
      "flex": null,
      "flex_flow": null,
      "grid_area": null,
      "grid_auto_columns": null,
      "grid_auto_flow": null,
      "grid_auto_rows": null,
      "grid_column": null,
      "grid_gap": null,
      "grid_row": null,
      "grid_template_areas": null,
      "grid_template_columns": null,
      "grid_template_rows": null,
      "height": null,
      "justify_content": null,
      "justify_items": null,
      "left": null,
      "margin": null,
      "max_height": null,
      "max_width": null,
      "min_height": null,
      "min_width": null,
      "object_fit": null,
      "object_position": null,
      "order": null,
      "overflow": null,
      "overflow_x": null,
      "overflow_y": null,
      "padding": null,
      "right": null,
      "top": null,
      "visibility": null,
      "width": null
     }
    },
    "3ee91b2fc14f41c0bb841bc810c2890f": {
     "model_module": "@jupyter-widgets/controls",
     "model_module_version": "1.5.0",
     "model_name": "DescriptionStyleModel",
     "state": {
      "_model_module": "@jupyter-widgets/controls",
      "_model_module_version": "1.5.0",
      "_model_name": "DescriptionStyleModel",
      "_view_count": null,
      "_view_module": "@jupyter-widgets/base",
      "_view_module_version": "1.2.0",
      "_view_name": "StyleView",
      "description_width": ""
     }
    },
    "3f69f618a84b4d8cbe0d082a21fbe0f3": {
     "model_module": "@jupyter-widgets/base",
     "model_module_version": "1.2.0",
     "model_name": "LayoutModel",
     "state": {
      "_model_module": "@jupyter-widgets/base",
      "_model_module_version": "1.2.0",
      "_model_name": "LayoutModel",
      "_view_count": null,
      "_view_module": "@jupyter-widgets/base",
      "_view_module_version": "1.2.0",
      "_view_name": "LayoutView",
      "align_content": null,
      "align_items": null,
      "align_self": null,
      "border": null,
      "bottom": null,
      "display": null,
      "flex": null,
      "flex_flow": null,
      "grid_area": null,
      "grid_auto_columns": null,
      "grid_auto_flow": null,
      "grid_auto_rows": null,
      "grid_column": null,
      "grid_gap": null,
      "grid_row": null,
      "grid_template_areas": null,
      "grid_template_columns": null,
      "grid_template_rows": null,
      "height": null,
      "justify_content": null,
      "justify_items": null,
      "left": null,
      "margin": null,
      "max_height": null,
      "max_width": null,
      "min_height": null,
      "min_width": null,
      "object_fit": null,
      "object_position": null,
      "order": null,
      "overflow": null,
      "overflow_x": null,
      "overflow_y": null,
      "padding": null,
      "right": null,
      "top": null,
      "visibility": null,
      "width": null
     }
    },
    "4570d563664c41e38e2ab369d972642b": {
     "model_module": "@jupyter-widgets/controls",
     "model_module_version": "1.5.0",
     "model_name": "DescriptionStyleModel",
     "state": {
      "_model_module": "@jupyter-widgets/controls",
      "_model_module_version": "1.5.0",
      "_model_name": "DescriptionStyleModel",
      "_view_count": null,
      "_view_module": "@jupyter-widgets/base",
      "_view_module_version": "1.2.0",
      "_view_name": "StyleView",
      "description_width": ""
     }
    },
    "45a26c7cebba4ab681f67c1aae2c572e": {
     "model_module": "@jupyter-widgets/controls",
     "model_module_version": "1.5.0",
     "model_name": "HTMLModel",
     "state": {
      "_dom_classes": [],
      "_model_module": "@jupyter-widgets/controls",
      "_model_module_version": "1.5.0",
      "_model_name": "HTMLModel",
      "_view_count": null,
      "_view_module": "@jupyter-widgets/controls",
      "_view_module_version": "1.5.0",
      "_view_name": "HTMLView",
      "description": "",
      "description_tooltip": null,
      "layout": "IPY_MODEL_2b738e0220d844988b68e536cacb3f41",
      "placeholder": "​",
      "style": "IPY_MODEL_02ac3d3608fd4cc98fe8a704e4c90a2b",
      "value": " 1000000/1000000 [00:00&lt;00:00, 1089351.16it/s]"
     }
    },
    "4a5748a4c8e644b18c6c4c280d93a7f3": {
     "model_module": "@jupyter-widgets/controls",
     "model_module_version": "1.5.0",
     "model_name": "DescriptionStyleModel",
     "state": {
      "_model_module": "@jupyter-widgets/controls",
      "_model_module_version": "1.5.0",
      "_model_name": "DescriptionStyleModel",
      "_view_count": null,
      "_view_module": "@jupyter-widgets/base",
      "_view_module_version": "1.2.0",
      "_view_name": "StyleView",
      "description_width": ""
     }
    },
    "4de0c99ef4e14a88ba5ad6840fca3b56": {
     "model_module": "@jupyter-widgets/base",
     "model_module_version": "1.2.0",
     "model_name": "LayoutModel",
     "state": {
      "_model_module": "@jupyter-widgets/base",
      "_model_module_version": "1.2.0",
      "_model_name": "LayoutModel",
      "_view_count": null,
      "_view_module": "@jupyter-widgets/base",
      "_view_module_version": "1.2.0",
      "_view_name": "LayoutView",
      "align_content": null,
      "align_items": null,
      "align_self": null,
      "border": null,
      "bottom": null,
      "display": null,
      "flex": null,
      "flex_flow": null,
      "grid_area": null,
      "grid_auto_columns": null,
      "grid_auto_flow": null,
      "grid_auto_rows": null,
      "grid_column": null,
      "grid_gap": null,
      "grid_row": null,
      "grid_template_areas": null,
      "grid_template_columns": null,
      "grid_template_rows": null,
      "height": null,
      "justify_content": null,
      "justify_items": null,
      "left": null,
      "margin": null,
      "max_height": null,
      "max_width": null,
      "min_height": null,
      "min_width": null,
      "object_fit": null,
      "object_position": null,
      "order": null,
      "overflow": null,
      "overflow_x": null,
      "overflow_y": null,
      "padding": null,
      "right": null,
      "top": null,
      "visibility": null,
      "width": null
     }
    },
    "4ec4855ad9ce47bf83d971f6cfae1754": {
     "model_module": "@jupyter-widgets/controls",
     "model_module_version": "1.5.0",
     "model_name": "HTMLModel",
     "state": {
      "_dom_classes": [],
      "_model_module": "@jupyter-widgets/controls",
      "_model_module_version": "1.5.0",
      "_model_name": "HTMLModel",
      "_view_count": null,
      "_view_module": "@jupyter-widgets/controls",
      "_view_module_version": "1.5.0",
      "_view_name": "HTMLView",
      "description": "",
      "description_tooltip": null,
      "layout": "IPY_MODEL_76697c0058444ecf8fb5e4181cf55e79",
      "placeholder": "​",
      "style": "IPY_MODEL_f3fcc0b87863471295f904e1d79fc8e4",
      "value": " 1000000/1000000 [00:58&lt;00:00, 8208.72it/s]"
     }
    },
    "4f5cce1a09aa489fae6c372a459a3c38": {
     "model_module": "@jupyter-widgets/base",
     "model_module_version": "1.2.0",
     "model_name": "LayoutModel",
     "state": {
      "_model_module": "@jupyter-widgets/base",
      "_model_module_version": "1.2.0",
      "_model_name": "LayoutModel",
      "_view_count": null,
      "_view_module": "@jupyter-widgets/base",
      "_view_module_version": "1.2.0",
      "_view_name": "LayoutView",
      "align_content": null,
      "align_items": null,
      "align_self": null,
      "border": null,
      "bottom": null,
      "display": null,
      "flex": null,
      "flex_flow": null,
      "grid_area": null,
      "grid_auto_columns": null,
      "grid_auto_flow": null,
      "grid_auto_rows": null,
      "grid_column": null,
      "grid_gap": null,
      "grid_row": null,
      "grid_template_areas": null,
      "grid_template_columns": null,
      "grid_template_rows": null,
      "height": null,
      "justify_content": null,
      "justify_items": null,
      "left": null,
      "margin": null,
      "max_height": null,
      "max_width": null,
      "min_height": null,
      "min_width": null,
      "object_fit": null,
      "object_position": null,
      "order": null,
      "overflow": null,
      "overflow_x": null,
      "overflow_y": null,
      "padding": null,
      "right": null,
      "top": null,
      "visibility": null,
      "width": null
     }
    },
    "53fb04f9ac924cea9ccd899c4af2dcc3": {
     "model_module": "@jupyter-widgets/controls",
     "model_module_version": "1.5.0",
     "model_name": "ProgressStyleModel",
     "state": {
      "_model_module": "@jupyter-widgets/controls",
      "_model_module_version": "1.5.0",
      "_model_name": "ProgressStyleModel",
      "_view_count": null,
      "_view_module": "@jupyter-widgets/base",
      "_view_module_version": "1.2.0",
      "_view_name": "StyleView",
      "bar_color": null,
      "description_width": ""
     }
    },
    "568ba77181cf49e18dd089f54c2937af": {
     "model_module": "@jupyter-widgets/base",
     "model_module_version": "1.2.0",
     "model_name": "LayoutModel",
     "state": {
      "_model_module": "@jupyter-widgets/base",
      "_model_module_version": "1.2.0",
      "_model_name": "LayoutModel",
      "_view_count": null,
      "_view_module": "@jupyter-widgets/base",
      "_view_module_version": "1.2.0",
      "_view_name": "LayoutView",
      "align_content": null,
      "align_items": null,
      "align_self": null,
      "border": null,
      "bottom": null,
      "display": null,
      "flex": null,
      "flex_flow": null,
      "grid_area": null,
      "grid_auto_columns": null,
      "grid_auto_flow": null,
      "grid_auto_rows": null,
      "grid_column": null,
      "grid_gap": null,
      "grid_row": null,
      "grid_template_areas": null,
      "grid_template_columns": null,
      "grid_template_rows": null,
      "height": null,
      "justify_content": null,
      "justify_items": null,
      "left": null,
      "margin": null,
      "max_height": null,
      "max_width": null,
      "min_height": null,
      "min_width": null,
      "object_fit": null,
      "object_position": null,
      "order": null,
      "overflow": null,
      "overflow_x": null,
      "overflow_y": null,
      "padding": null,
      "right": null,
      "top": null,
      "visibility": null,
      "width": null
     }
    },
    "5699c07e79aa414aabe8effe3eb54e9e": {
     "model_module": "@jupyter-widgets/controls",
     "model_module_version": "1.5.0",
     "model_name": "DescriptionStyleModel",
     "state": {
      "_model_module": "@jupyter-widgets/controls",
      "_model_module_version": "1.5.0",
      "_model_name": "DescriptionStyleModel",
      "_view_count": null,
      "_view_module": "@jupyter-widgets/base",
      "_view_module_version": "1.2.0",
      "_view_name": "StyleView",
      "description_width": ""
     }
    },
    "5e11b1b795764561b14f43b31237c66a": {
     "model_module": "@jupyter-widgets/controls",
     "model_module_version": "1.5.0",
     "model_name": "HTMLModel",
     "state": {
      "_dom_classes": [],
      "_model_module": "@jupyter-widgets/controls",
      "_model_module_version": "1.5.0",
      "_model_name": "HTMLModel",
      "_view_count": null,
      "_view_module": "@jupyter-widgets/controls",
      "_view_module_version": "1.5.0",
      "_view_name": "HTMLView",
      "description": "",
      "description_tooltip": null,
      "layout": "IPY_MODEL_2a5649ae8c424399be2743792924389e",
      "placeholder": "​",
      "style": "IPY_MODEL_72e25720ca66470491a96dba6b9806e2",
      "value": "100%"
     }
    },
    "633fcb970c1b4a70a1c640a8cc39a3da": {
     "model_module": "@jupyter-widgets/controls",
     "model_module_version": "1.5.0",
     "model_name": "HBoxModel",
     "state": {
      "_dom_classes": [],
      "_model_module": "@jupyter-widgets/controls",
      "_model_module_version": "1.5.0",
      "_model_name": "HBoxModel",
      "_view_count": null,
      "_view_module": "@jupyter-widgets/controls",
      "_view_module_version": "1.5.0",
      "_view_name": "HBoxView",
      "box_style": "",
      "children": [
       "IPY_MODEL_00cfc5c09ac24d4a89536c914b8a7298",
       "IPY_MODEL_a1685d9ab8df490cbd14bbe551480882",
       "IPY_MODEL_45a26c7cebba4ab681f67c1aae2c572e"
      ],
      "layout": "IPY_MODEL_30d7527856264792bfdf8199c5876cef"
     }
    },
    "682ea352e39143fb951275083fed0af8": {
     "model_module": "@jupyter-widgets/base",
     "model_module_version": "1.2.0",
     "model_name": "LayoutModel",
     "state": {
      "_model_module": "@jupyter-widgets/base",
      "_model_module_version": "1.2.0",
      "_model_name": "LayoutModel",
      "_view_count": null,
      "_view_module": "@jupyter-widgets/base",
      "_view_module_version": "1.2.0",
      "_view_name": "LayoutView",
      "align_content": null,
      "align_items": null,
      "align_self": null,
      "border": null,
      "bottom": null,
      "display": null,
      "flex": null,
      "flex_flow": null,
      "grid_area": null,
      "grid_auto_columns": null,
      "grid_auto_flow": null,
      "grid_auto_rows": null,
      "grid_column": null,
      "grid_gap": null,
      "grid_row": null,
      "grid_template_areas": null,
      "grid_template_columns": null,
      "grid_template_rows": null,
      "height": null,
      "justify_content": null,
      "justify_items": null,
      "left": null,
      "margin": null,
      "max_height": null,
      "max_width": null,
      "min_height": null,
      "min_width": null,
      "object_fit": null,
      "object_position": null,
      "order": null,
      "overflow": null,
      "overflow_x": null,
      "overflow_y": null,
      "padding": null,
      "right": null,
      "top": null,
      "visibility": null,
      "width": null
     }
    },
    "6e29e2f0b57e4fc5aa7b8a494815a47a": {
     "model_module": "@jupyter-widgets/base",
     "model_module_version": "1.2.0",
     "model_name": "LayoutModel",
     "state": {
      "_model_module": "@jupyter-widgets/base",
      "_model_module_version": "1.2.0",
      "_model_name": "LayoutModel",
      "_view_count": null,
      "_view_module": "@jupyter-widgets/base",
      "_view_module_version": "1.2.0",
      "_view_name": "LayoutView",
      "align_content": null,
      "align_items": null,
      "align_self": null,
      "border": null,
      "bottom": null,
      "display": null,
      "flex": null,
      "flex_flow": null,
      "grid_area": null,
      "grid_auto_columns": null,
      "grid_auto_flow": null,
      "grid_auto_rows": null,
      "grid_column": null,
      "grid_gap": null,
      "grid_row": null,
      "grid_template_areas": null,
      "grid_template_columns": null,
      "grid_template_rows": null,
      "height": null,
      "justify_content": null,
      "justify_items": null,
      "left": null,
      "margin": null,
      "max_height": null,
      "max_width": null,
      "min_height": null,
      "min_width": null,
      "object_fit": null,
      "object_position": null,
      "order": null,
      "overflow": null,
      "overflow_x": null,
      "overflow_y": null,
      "padding": null,
      "right": null,
      "top": null,
      "visibility": null,
      "width": null
     }
    },
    "6e4b74bb05054270950a0a84bd72a0fd": {
     "model_module": "@jupyter-widgets/controls",
     "model_module_version": "1.5.0",
     "model_name": "FloatProgressModel",
     "state": {
      "_dom_classes": [],
      "_model_module": "@jupyter-widgets/controls",
      "_model_module_version": "1.5.0",
      "_model_name": "FloatProgressModel",
      "_view_count": null,
      "_view_module": "@jupyter-widgets/controls",
      "_view_module_version": "1.5.0",
      "_view_name": "ProgressView",
      "bar_style": "success",
      "description": "",
      "description_tooltip": null,
      "layout": "IPY_MODEL_4de0c99ef4e14a88ba5ad6840fca3b56",
      "max": 100,
      "min": 0,
      "orientation": "horizontal",
      "style": "IPY_MODEL_bea9032ceddf4fb991479673cfe37fdb",
      "value": 100
     }
    },
    "6e78fa26eb9a436eb506657b1070d040": {
     "model_module": "@jupyter-widgets/controls",
     "model_module_version": "1.5.0",
     "model_name": "ProgressStyleModel",
     "state": {
      "_model_module": "@jupyter-widgets/controls",
      "_model_module_version": "1.5.0",
      "_model_name": "ProgressStyleModel",
      "_view_count": null,
      "_view_module": "@jupyter-widgets/base",
      "_view_module_version": "1.2.0",
      "_view_name": "StyleView",
      "bar_color": null,
      "description_width": ""
     }
    },
    "72e25720ca66470491a96dba6b9806e2": {
     "model_module": "@jupyter-widgets/controls",
     "model_module_version": "1.5.0",
     "model_name": "DescriptionStyleModel",
     "state": {
      "_model_module": "@jupyter-widgets/controls",
      "_model_module_version": "1.5.0",
      "_model_name": "DescriptionStyleModel",
      "_view_count": null,
      "_view_module": "@jupyter-widgets/base",
      "_view_module_version": "1.2.0",
      "_view_name": "StyleView",
      "description_width": ""
     }
    },
    "76518ed891ec49879f5d523ac2419dfb": {
     "model_module": "@jupyter-widgets/base",
     "model_module_version": "1.2.0",
     "model_name": "LayoutModel",
     "state": {
      "_model_module": "@jupyter-widgets/base",
      "_model_module_version": "1.2.0",
      "_model_name": "LayoutModel",
      "_view_count": null,
      "_view_module": "@jupyter-widgets/base",
      "_view_module_version": "1.2.0",
      "_view_name": "LayoutView",
      "align_content": null,
      "align_items": null,
      "align_self": null,
      "border": null,
      "bottom": null,
      "display": null,
      "flex": null,
      "flex_flow": null,
      "grid_area": null,
      "grid_auto_columns": null,
      "grid_auto_flow": null,
      "grid_auto_rows": null,
      "grid_column": null,
      "grid_gap": null,
      "grid_row": null,
      "grid_template_areas": null,
      "grid_template_columns": null,
      "grid_template_rows": null,
      "height": null,
      "justify_content": null,
      "justify_items": null,
      "left": null,
      "margin": null,
      "max_height": null,
      "max_width": null,
      "min_height": null,
      "min_width": null,
      "object_fit": null,
      "object_position": null,
      "order": null,
      "overflow": null,
      "overflow_x": null,
      "overflow_y": null,
      "padding": null,
      "right": null,
      "top": null,
      "visibility": null,
      "width": null
     }
    },
    "76697c0058444ecf8fb5e4181cf55e79": {
     "model_module": "@jupyter-widgets/base",
     "model_module_version": "1.2.0",
     "model_name": "LayoutModel",
     "state": {
      "_model_module": "@jupyter-widgets/base",
      "_model_module_version": "1.2.0",
      "_model_name": "LayoutModel",
      "_view_count": null,
      "_view_module": "@jupyter-widgets/base",
      "_view_module_version": "1.2.0",
      "_view_name": "LayoutView",
      "align_content": null,
      "align_items": null,
      "align_self": null,
      "border": null,
      "bottom": null,
      "display": null,
      "flex": null,
      "flex_flow": null,
      "grid_area": null,
      "grid_auto_columns": null,
      "grid_auto_flow": null,
      "grid_auto_rows": null,
      "grid_column": null,
      "grid_gap": null,
      "grid_row": null,
      "grid_template_areas": null,
      "grid_template_columns": null,
      "grid_template_rows": null,
      "height": null,
      "justify_content": null,
      "justify_items": null,
      "left": null,
      "margin": null,
      "max_height": null,
      "max_width": null,
      "min_height": null,
      "min_width": null,
      "object_fit": null,
      "object_position": null,
      "order": null,
      "overflow": null,
      "overflow_x": null,
      "overflow_y": null,
      "padding": null,
      "right": null,
      "top": null,
      "visibility": null,
      "width": null
     }
    },
    "783e69627e5741edab01af7de57e4b41": {
     "model_module": "@jupyter-widgets/base",
     "model_module_version": "1.2.0",
     "model_name": "LayoutModel",
     "state": {
      "_model_module": "@jupyter-widgets/base",
      "_model_module_version": "1.2.0",
      "_model_name": "LayoutModel",
      "_view_count": null,
      "_view_module": "@jupyter-widgets/base",
      "_view_module_version": "1.2.0",
      "_view_name": "LayoutView",
      "align_content": null,
      "align_items": null,
      "align_self": null,
      "border": null,
      "bottom": null,
      "display": null,
      "flex": null,
      "flex_flow": null,
      "grid_area": null,
      "grid_auto_columns": null,
      "grid_auto_flow": null,
      "grid_auto_rows": null,
      "grid_column": null,
      "grid_gap": null,
      "grid_row": null,
      "grid_template_areas": null,
      "grid_template_columns": null,
      "grid_template_rows": null,
      "height": null,
      "justify_content": null,
      "justify_items": null,
      "left": null,
      "margin": null,
      "max_height": null,
      "max_width": null,
      "min_height": null,
      "min_width": null,
      "object_fit": null,
      "object_position": null,
      "order": null,
      "overflow": null,
      "overflow_x": null,
      "overflow_y": null,
      "padding": null,
      "right": null,
      "top": null,
      "visibility": null,
      "width": null
     }
    },
    "8052497df7de41aab4cbe77aed44eada": {
     "model_module": "@jupyter-widgets/controls",
     "model_module_version": "1.5.0",
     "model_name": "DescriptionStyleModel",
     "state": {
      "_model_module": "@jupyter-widgets/controls",
      "_model_module_version": "1.5.0",
      "_model_name": "DescriptionStyleModel",
      "_view_count": null,
      "_view_module": "@jupyter-widgets/base",
      "_view_module_version": "1.2.0",
      "_view_name": "StyleView",
      "description_width": ""
     }
    },
    "80a6d683d7fc43819fbc0a5613c62d22": {
     "model_module": "@jupyter-widgets/controls",
     "model_module_version": "1.5.0",
     "model_name": "ProgressStyleModel",
     "state": {
      "_model_module": "@jupyter-widgets/controls",
      "_model_module_version": "1.5.0",
      "_model_name": "ProgressStyleModel",
      "_view_count": null,
      "_view_module": "@jupyter-widgets/base",
      "_view_module_version": "1.2.0",
      "_view_name": "StyleView",
      "bar_color": null,
      "description_width": ""
     }
    },
    "8133f69c81864a189d0740a62906eed0": {
     "model_module": "@jupyter-widgets/controls",
     "model_module_version": "1.5.0",
     "model_name": "DescriptionStyleModel",
     "state": {
      "_model_module": "@jupyter-widgets/controls",
      "_model_module_version": "1.5.0",
      "_model_name": "DescriptionStyleModel",
      "_view_count": null,
      "_view_module": "@jupyter-widgets/base",
      "_view_module_version": "1.2.0",
      "_view_name": "StyleView",
      "description_width": ""
     }
    },
    "82d1856e72854cb88f8510cc65284d4b": {
     "model_module": "@jupyter-widgets/base",
     "model_module_version": "1.2.0",
     "model_name": "LayoutModel",
     "state": {
      "_model_module": "@jupyter-widgets/base",
      "_model_module_version": "1.2.0",
      "_model_name": "LayoutModel",
      "_view_count": null,
      "_view_module": "@jupyter-widgets/base",
      "_view_module_version": "1.2.0",
      "_view_name": "LayoutView",
      "align_content": null,
      "align_items": null,
      "align_self": null,
      "border": null,
      "bottom": null,
      "display": null,
      "flex": null,
      "flex_flow": null,
      "grid_area": null,
      "grid_auto_columns": null,
      "grid_auto_flow": null,
      "grid_auto_rows": null,
      "grid_column": null,
      "grid_gap": null,
      "grid_row": null,
      "grid_template_areas": null,
      "grid_template_columns": null,
      "grid_template_rows": null,
      "height": null,
      "justify_content": null,
      "justify_items": null,
      "left": null,
      "margin": null,
      "max_height": null,
      "max_width": null,
      "min_height": null,
      "min_width": null,
      "object_fit": null,
      "object_position": null,
      "order": null,
      "overflow": null,
      "overflow_x": null,
      "overflow_y": null,
      "padding": null,
      "right": null,
      "top": null,
      "visibility": null,
      "width": null
     }
    },
    "82feca1764814b06acf66c6df874b057": {
     "model_module": "@jupyter-widgets/controls",
     "model_module_version": "1.5.0",
     "model_name": "HTMLModel",
     "state": {
      "_dom_classes": [],
      "_model_module": "@jupyter-widgets/controls",
      "_model_module_version": "1.5.0",
      "_model_name": "HTMLModel",
      "_view_count": null,
      "_view_module": "@jupyter-widgets/controls",
      "_view_module_version": "1.5.0",
      "_view_name": "HTMLView",
      "description": "",
      "description_tooltip": null,
      "layout": "IPY_MODEL_224203327388427c84fd6e8020cb36d1",
      "placeholder": "​",
      "style": "IPY_MODEL_cb2b10aae8044d9c8222921253ee175e",
      "value": "100%"
     }
    },
    "841df8f62a8c4af9b5216b73bf23ec34": {
     "model_module": "@jupyter-widgets/base",
     "model_module_version": "1.2.0",
     "model_name": "LayoutModel",
     "state": {
      "_model_module": "@jupyter-widgets/base",
      "_model_module_version": "1.2.0",
      "_model_name": "LayoutModel",
      "_view_count": null,
      "_view_module": "@jupyter-widgets/base",
      "_view_module_version": "1.2.0",
      "_view_name": "LayoutView",
      "align_content": null,
      "align_items": null,
      "align_self": null,
      "border": null,
      "bottom": null,
      "display": null,
      "flex": null,
      "flex_flow": null,
      "grid_area": null,
      "grid_auto_columns": null,
      "grid_auto_flow": null,
      "grid_auto_rows": null,
      "grid_column": null,
      "grid_gap": null,
      "grid_row": null,
      "grid_template_areas": null,
      "grid_template_columns": null,
      "grid_template_rows": null,
      "height": null,
      "justify_content": null,
      "justify_items": null,
      "left": null,
      "margin": null,
      "max_height": null,
      "max_width": null,
      "min_height": null,
      "min_width": null,
      "object_fit": null,
      "object_position": null,
      "order": null,
      "overflow": null,
      "overflow_x": null,
      "overflow_y": null,
      "padding": null,
      "right": null,
      "top": null,
      "visibility": null,
      "width": null
     }
    },
    "84d579d430d0431491eb7fb0dad9f5aa": {
     "model_module": "@jupyter-widgets/base",
     "model_module_version": "1.2.0",
     "model_name": "LayoutModel",
     "state": {
      "_model_module": "@jupyter-widgets/base",
      "_model_module_version": "1.2.0",
      "_model_name": "LayoutModel",
      "_view_count": null,
      "_view_module": "@jupyter-widgets/base",
      "_view_module_version": "1.2.0",
      "_view_name": "LayoutView",
      "align_content": null,
      "align_items": null,
      "align_self": null,
      "border": null,
      "bottom": null,
      "display": null,
      "flex": null,
      "flex_flow": null,
      "grid_area": null,
      "grid_auto_columns": null,
      "grid_auto_flow": null,
      "grid_auto_rows": null,
      "grid_column": null,
      "grid_gap": null,
      "grid_row": null,
      "grid_template_areas": null,
      "grid_template_columns": null,
      "grid_template_rows": null,
      "height": null,
      "justify_content": null,
      "justify_items": null,
      "left": null,
      "margin": null,
      "max_height": null,
      "max_width": null,
      "min_height": null,
      "min_width": null,
      "object_fit": null,
      "object_position": null,
      "order": null,
      "overflow": null,
      "overflow_x": null,
      "overflow_y": null,
      "padding": null,
      "right": null,
      "top": null,
      "visibility": null,
      "width": null
     }
    },
    "86544d166b5146dab02a481533d4cc9c": {
     "model_module": "@jupyter-widgets/controls",
     "model_module_version": "1.5.0",
     "model_name": "HTMLModel",
     "state": {
      "_dom_classes": [],
      "_model_module": "@jupyter-widgets/controls",
      "_model_module_version": "1.5.0",
      "_model_name": "HTMLModel",
      "_view_count": null,
      "_view_module": "@jupyter-widgets/controls",
      "_view_module_version": "1.5.0",
      "_view_name": "HTMLView",
      "description": "",
      "description_tooltip": null,
      "layout": "IPY_MODEL_3f69f618a84b4d8cbe0d082a21fbe0f3",
      "placeholder": "​",
      "style": "IPY_MODEL_c4f53aef332d4d45ac843a003bdceb0d",
      "value": " 46%"
     }
    },
    "8858e77de47e453d84fe410db3a3b262": {
     "model_module": "@jupyter-widgets/controls",
     "model_module_version": "1.5.0",
     "model_name": "HBoxModel",
     "state": {
      "_dom_classes": [],
      "_model_module": "@jupyter-widgets/controls",
      "_model_module_version": "1.5.0",
      "_model_name": "HBoxModel",
      "_view_count": null,
      "_view_module": "@jupyter-widgets/controls",
      "_view_module_version": "1.5.0",
      "_view_name": "HBoxView",
      "box_style": "",
      "children": [
       "IPY_MODEL_ac545af1e1264a458ee9a45792a60a9e",
       "IPY_MODEL_ba4069a0476b409db779a451aac752a3",
       "IPY_MODEL_d8ac4f0261974af8b364181fdebc0606"
      ],
      "layout": "IPY_MODEL_b9d7a5667a6844ef86c663cbac6d98eb"
     }
    },
    "88bde1a1b8f543d78dd19b5b5f9321f0": {
     "model_module": "@jupyter-widgets/base",
     "model_module_version": "1.2.0",
     "model_name": "LayoutModel",
     "state": {
      "_model_module": "@jupyter-widgets/base",
      "_model_module_version": "1.2.0",
      "_model_name": "LayoutModel",
      "_view_count": null,
      "_view_module": "@jupyter-widgets/base",
      "_view_module_version": "1.2.0",
      "_view_name": "LayoutView",
      "align_content": null,
      "align_items": null,
      "align_self": null,
      "border": null,
      "bottom": null,
      "display": null,
      "flex": null,
      "flex_flow": null,
      "grid_area": null,
      "grid_auto_columns": null,
      "grid_auto_flow": null,
      "grid_auto_rows": null,
      "grid_column": null,
      "grid_gap": null,
      "grid_row": null,
      "grid_template_areas": null,
      "grid_template_columns": null,
      "grid_template_rows": null,
      "height": null,
      "justify_content": null,
      "justify_items": null,
      "left": null,
      "margin": null,
      "max_height": null,
      "max_width": null,
      "min_height": null,
      "min_width": null,
      "object_fit": null,
      "object_position": null,
      "order": null,
      "overflow": null,
      "overflow_x": null,
      "overflow_y": null,
      "padding": null,
      "right": null,
      "top": null,
      "visibility": null,
      "width": null
     }
    },
    "8973949fd5ed4ccf9feda69a422328a7": {
     "model_module": "@jupyter-widgets/controls",
     "model_module_version": "1.5.0",
     "model_name": "DescriptionStyleModel",
     "state": {
      "_model_module": "@jupyter-widgets/controls",
      "_model_module_version": "1.5.0",
      "_model_name": "DescriptionStyleModel",
      "_view_count": null,
      "_view_module": "@jupyter-widgets/base",
      "_view_module_version": "1.2.0",
      "_view_name": "StyleView",
      "description_width": ""
     }
    },
    "89b3efc006974b61a62272e2c9f4bbb2": {
     "model_module": "@jupyter-widgets/base",
     "model_module_version": "1.2.0",
     "model_name": "LayoutModel",
     "state": {
      "_model_module": "@jupyter-widgets/base",
      "_model_module_version": "1.2.0",
      "_model_name": "LayoutModel",
      "_view_count": null,
      "_view_module": "@jupyter-widgets/base",
      "_view_module_version": "1.2.0",
      "_view_name": "LayoutView",
      "align_content": null,
      "align_items": null,
      "align_self": null,
      "border": null,
      "bottom": null,
      "display": null,
      "flex": null,
      "flex_flow": null,
      "grid_area": null,
      "grid_auto_columns": null,
      "grid_auto_flow": null,
      "grid_auto_rows": null,
      "grid_column": null,
      "grid_gap": null,
      "grid_row": null,
      "grid_template_areas": null,
      "grid_template_columns": null,
      "grid_template_rows": null,
      "height": null,
      "justify_content": null,
      "justify_items": null,
      "left": null,
      "margin": null,
      "max_height": null,
      "max_width": null,
      "min_height": null,
      "min_width": null,
      "object_fit": null,
      "object_position": null,
      "order": null,
      "overflow": null,
      "overflow_x": null,
      "overflow_y": null,
      "padding": null,
      "right": null,
      "top": null,
      "visibility": null,
      "width": null
     }
    },
    "89b4623c5ebb4ab28da39dabe3fd4f5a": {
     "model_module": "@jupyter-widgets/controls",
     "model_module_version": "1.5.0",
     "model_name": "HBoxModel",
     "state": {
      "_dom_classes": [],
      "_model_module": "@jupyter-widgets/controls",
      "_model_module_version": "1.5.0",
      "_model_name": "HBoxModel",
      "_view_count": null,
      "_view_module": "@jupyter-widgets/controls",
      "_view_module_version": "1.5.0",
      "_view_name": "HBoxView",
      "box_style": "",
      "children": [
       "IPY_MODEL_c010a96bd05a4c98af812dc62b79b362",
       "IPY_MODEL_34529005e89945cc83adc9ca7c5da711",
       "IPY_MODEL_8cfcd245a2c1433182d58ce8b7ce78fc"
      ],
      "layout": "IPY_MODEL_82d1856e72854cb88f8510cc65284d4b"
     }
    },
    "8b24abeec2974fe7aa3379f3f21a9714": {
     "model_module": "@jupyter-widgets/controls",
     "model_module_version": "1.5.0",
     "model_name": "HBoxModel",
     "state": {
      "_dom_classes": [],
      "_model_module": "@jupyter-widgets/controls",
      "_model_module_version": "1.5.0",
      "_model_name": "HBoxModel",
      "_view_count": null,
      "_view_module": "@jupyter-widgets/controls",
      "_view_module_version": "1.5.0",
      "_view_name": "HBoxView",
      "box_style": "",
      "children": [
       "IPY_MODEL_1624249bcf424b01b4dbae976c7614ee",
       "IPY_MODEL_12e2e19bbc81497299c34ddec5b948f3",
       "IPY_MODEL_ea38a1fffd0c465fb7fe2d3c803e5d12"
      ],
      "layout": "IPY_MODEL_e518a06231504d65b1ecd68d3894fa69"
     }
    },
    "8cb0417b75d0413cbf2dcbdc23a5a6eb": {
     "model_module": "@jupyter-widgets/controls",
     "model_module_version": "1.5.0",
     "model_name": "DescriptionStyleModel",
     "state": {
      "_model_module": "@jupyter-widgets/controls",
      "_model_module_version": "1.5.0",
      "_model_name": "DescriptionStyleModel",
      "_view_count": null,
      "_view_module": "@jupyter-widgets/base",
      "_view_module_version": "1.2.0",
      "_view_name": "StyleView",
      "description_width": ""
     }
    },
    "8cee2399a37b47dab328ef8831f41e29": {
     "model_module": "@jupyter-widgets/base",
     "model_module_version": "1.2.0",
     "model_name": "LayoutModel",
     "state": {
      "_model_module": "@jupyter-widgets/base",
      "_model_module_version": "1.2.0",
      "_model_name": "LayoutModel",
      "_view_count": null,
      "_view_module": "@jupyter-widgets/base",
      "_view_module_version": "1.2.0",
      "_view_name": "LayoutView",
      "align_content": null,
      "align_items": null,
      "align_self": null,
      "border": null,
      "bottom": null,
      "display": null,
      "flex": null,
      "flex_flow": null,
      "grid_area": null,
      "grid_auto_columns": null,
      "grid_auto_flow": null,
      "grid_auto_rows": null,
      "grid_column": null,
      "grid_gap": null,
      "grid_row": null,
      "grid_template_areas": null,
      "grid_template_columns": null,
      "grid_template_rows": null,
      "height": null,
      "justify_content": null,
      "justify_items": null,
      "left": null,
      "margin": null,
      "max_height": null,
      "max_width": null,
      "min_height": null,
      "min_width": null,
      "object_fit": null,
      "object_position": null,
      "order": null,
      "overflow": null,
      "overflow_x": null,
      "overflow_y": null,
      "padding": null,
      "right": null,
      "top": null,
      "visibility": null,
      "width": null
     }
    },
    "8cfcd245a2c1433182d58ce8b7ce78fc": {
     "model_module": "@jupyter-widgets/controls",
     "model_module_version": "1.5.0",
     "model_name": "HTMLModel",
     "state": {
      "_dom_classes": [],
      "_model_module": "@jupyter-widgets/controls",
      "_model_module_version": "1.5.0",
      "_model_name": "HTMLModel",
      "_view_count": null,
      "_view_module": "@jupyter-widgets/controls",
      "_view_module_version": "1.5.0",
      "_view_name": "HTMLView",
      "description": "",
      "description_tooltip": null,
      "layout": "IPY_MODEL_14886a66023b406c9a5968a04f396c63",
      "placeholder": "​",
      "style": "IPY_MODEL_8133f69c81864a189d0740a62906eed0",
      "value": " 10000/10000 [00:00&lt;00:00, 129017.79it/s]"
     }
    },
    "8f2585d811294062a30399b01ee451d4": {
     "model_module": "@jupyter-widgets/controls",
     "model_module_version": "1.5.0",
     "model_name": "HTMLModel",
     "state": {
      "_dom_classes": [],
      "_model_module": "@jupyter-widgets/controls",
      "_model_module_version": "1.5.0",
      "_model_name": "HTMLModel",
      "_view_count": null,
      "_view_module": "@jupyter-widgets/controls",
      "_view_module_version": "1.5.0",
      "_view_name": "HTMLView",
      "description": "",
      "description_tooltip": null,
      "layout": "IPY_MODEL_2bf05148ed394f2fb8841e370ce9baab",
      "placeholder": "​",
      "style": "IPY_MODEL_8052497df7de41aab4cbe77aed44eada",
      "value": " 455447/1000000 [00:19&lt;00:22, 23939.28it/s]"
     }
    },
    "91aa6b770a5c4d128642d1ee287ad858": {
     "model_module": "@jupyter-widgets/controls",
     "model_module_version": "1.5.0",
     "model_name": "HTMLModel",
     "state": {
      "_dom_classes": [],
      "_model_module": "@jupyter-widgets/controls",
      "_model_module_version": "1.5.0",
      "_model_name": "HTMLModel",
      "_view_count": null,
      "_view_module": "@jupyter-widgets/controls",
      "_view_module_version": "1.5.0",
      "_view_name": "HTMLView",
      "description": "",
      "description_tooltip": null,
      "layout": "IPY_MODEL_6e29e2f0b57e4fc5aa7b8a494815a47a",
      "placeholder": "​",
      "style": "IPY_MODEL_4a5748a4c8e644b18c6c4c280d93a7f3",
      "value": " 100/100 [00:00&lt;00:00, 1089.83it/s]"
     }
    },
    "99e74bc355b242d78fed70120a4ffd50": {
     "model_module": "@jupyter-widgets/base",
     "model_module_version": "1.2.0",
     "model_name": "LayoutModel",
     "state": {
      "_model_module": "@jupyter-widgets/base",
      "_model_module_version": "1.2.0",
      "_model_name": "LayoutModel",
      "_view_count": null,
      "_view_module": "@jupyter-widgets/base",
      "_view_module_version": "1.2.0",
      "_view_name": "LayoutView",
      "align_content": null,
      "align_items": null,
      "align_self": null,
      "border": null,
      "bottom": null,
      "display": null,
      "flex": null,
      "flex_flow": null,
      "grid_area": null,
      "grid_auto_columns": null,
      "grid_auto_flow": null,
      "grid_auto_rows": null,
      "grid_column": null,
      "grid_gap": null,
      "grid_row": null,
      "grid_template_areas": null,
      "grid_template_columns": null,
      "grid_template_rows": null,
      "height": null,
      "justify_content": null,
      "justify_items": null,
      "left": null,
      "margin": null,
      "max_height": null,
      "max_width": null,
      "min_height": null,
      "min_width": null,
      "object_fit": null,
      "object_position": null,
      "order": null,
      "overflow": null,
      "overflow_x": null,
      "overflow_y": null,
      "padding": null,
      "right": null,
      "top": null,
      "visibility": null,
      "width": null
     }
    },
    "9cc7f0b89cce4882b128d78892f9ab54": {
     "model_module": "@jupyter-widgets/controls",
     "model_module_version": "1.5.0",
     "model_name": "HBoxModel",
     "state": {
      "_dom_classes": [],
      "_model_module": "@jupyter-widgets/controls",
      "_model_module_version": "1.5.0",
      "_model_name": "HBoxModel",
      "_view_count": null,
      "_view_module": "@jupyter-widgets/controls",
      "_view_module_version": "1.5.0",
      "_view_name": "HBoxView",
      "box_style": "",
      "children": [
       "IPY_MODEL_5e11b1b795764561b14f43b31237c66a",
       "IPY_MODEL_9e36433f045f4929a0b6ba69f70d8c16",
       "IPY_MODEL_d4c59ce56b604b03a82dd7d3aa5f56b4"
      ],
      "layout": "IPY_MODEL_268dde64d03846eb968d7d9739e174c5"
     }
    },
    "9e36433f045f4929a0b6ba69f70d8c16": {
     "model_module": "@jupyter-widgets/controls",
     "model_module_version": "1.5.0",
     "model_name": "FloatProgressModel",
     "state": {
      "_dom_classes": [],
      "_model_module": "@jupyter-widgets/controls",
      "_model_module_version": "1.5.0",
      "_model_name": "FloatProgressModel",
      "_view_count": null,
      "_view_module": "@jupyter-widgets/controls",
      "_view_module_version": "1.5.0",
      "_view_name": "ProgressView",
      "bar_style": "success",
      "description": "",
      "description_tooltip": null,
      "layout": "IPY_MODEL_a2947245ac8244f4990621c56bfcf2a0",
      "max": 1000000,
      "min": 0,
      "orientation": "horizontal",
      "style": "IPY_MODEL_b9451892772e4367971fc69d02ca409e",
      "value": 1000000
     }
    },
    "9f437d08ce334497b14614e443ad073c": {
     "model_module": "@jupyter-widgets/controls",
     "model_module_version": "1.5.0",
     "model_name": "DescriptionStyleModel",
     "state": {
      "_model_module": "@jupyter-widgets/controls",
      "_model_module_version": "1.5.0",
      "_model_name": "DescriptionStyleModel",
      "_view_count": null,
      "_view_module": "@jupyter-widgets/base",
      "_view_module_version": "1.2.0",
      "_view_name": "StyleView",
      "description_width": ""
     }
    },
    "a1685d9ab8df490cbd14bbe551480882": {
     "model_module": "@jupyter-widgets/controls",
     "model_module_version": "1.5.0",
     "model_name": "FloatProgressModel",
     "state": {
      "_dom_classes": [],
      "_model_module": "@jupyter-widgets/controls",
      "_model_module_version": "1.5.0",
      "_model_name": "FloatProgressModel",
      "_view_count": null,
      "_view_module": "@jupyter-widgets/controls",
      "_view_module_version": "1.5.0",
      "_view_name": "ProgressView",
      "bar_style": "success",
      "description": "",
      "description_tooltip": null,
      "layout": "IPY_MODEL_1e742e7769b142b8a3dadf89e7d65db9",
      "max": 1000000,
      "min": 0,
      "orientation": "horizontal",
      "style": "IPY_MODEL_e0a5c63b3ae14cb78adf7b017eac5d96",
      "value": 1000000
     }
    },
    "a2947245ac8244f4990621c56bfcf2a0": {
     "model_module": "@jupyter-widgets/base",
     "model_module_version": "1.2.0",
     "model_name": "LayoutModel",
     "state": {
      "_model_module": "@jupyter-widgets/base",
      "_model_module_version": "1.2.0",
      "_model_name": "LayoutModel",
      "_view_count": null,
      "_view_module": "@jupyter-widgets/base",
      "_view_module_version": "1.2.0",
      "_view_name": "LayoutView",
      "align_content": null,
      "align_items": null,
      "align_self": null,
      "border": null,
      "bottom": null,
      "display": null,
      "flex": null,
      "flex_flow": null,
      "grid_area": null,
      "grid_auto_columns": null,
      "grid_auto_flow": null,
      "grid_auto_rows": null,
      "grid_column": null,
      "grid_gap": null,
      "grid_row": null,
      "grid_template_areas": null,
      "grid_template_columns": null,
      "grid_template_rows": null,
      "height": null,
      "justify_content": null,
      "justify_items": null,
      "left": null,
      "margin": null,
      "max_height": null,
      "max_width": null,
      "min_height": null,
      "min_width": null,
      "object_fit": null,
      "object_position": null,
      "order": null,
      "overflow": null,
      "overflow_x": null,
      "overflow_y": null,
      "padding": null,
      "right": null,
      "top": null,
      "visibility": null,
      "width": null
     }
    },
    "a79079e92e8f4e92ab0d951d1e5a7549": {
     "model_module": "@jupyter-widgets/controls",
     "model_module_version": "1.5.0",
     "model_name": "HBoxModel",
     "state": {
      "_dom_classes": [],
      "_model_module": "@jupyter-widgets/controls",
      "_model_module_version": "1.5.0",
      "_model_name": "HBoxModel",
      "_view_count": null,
      "_view_module": "@jupyter-widgets/controls",
      "_view_module_version": "1.5.0",
      "_view_name": "HBoxView",
      "box_style": "",
      "children": [
       "IPY_MODEL_82feca1764814b06acf66c6df874b057",
       "IPY_MODEL_6e4b74bb05054270950a0a84bd72a0fd",
       "IPY_MODEL_91aa6b770a5c4d128642d1ee287ad858"
      ],
      "layout": "IPY_MODEL_c96e91782f374476800004de356d8bb4"
     }
    },
    "a964bd5c580f4801a1dbacbe9a89e030": {
     "model_module": "@jupyter-widgets/base",
     "model_module_version": "1.2.0",
     "model_name": "LayoutModel",
     "state": {
      "_model_module": "@jupyter-widgets/base",
      "_model_module_version": "1.2.0",
      "_model_name": "LayoutModel",
      "_view_count": null,
      "_view_module": "@jupyter-widgets/base",
      "_view_module_version": "1.2.0",
      "_view_name": "LayoutView",
      "align_content": null,
      "align_items": null,
      "align_self": null,
      "border": null,
      "bottom": null,
      "display": null,
      "flex": null,
      "flex_flow": null,
      "grid_area": null,
      "grid_auto_columns": null,
      "grid_auto_flow": null,
      "grid_auto_rows": null,
      "grid_column": null,
      "grid_gap": null,
      "grid_row": null,
      "grid_template_areas": null,
      "grid_template_columns": null,
      "grid_template_rows": null,
      "height": null,
      "justify_content": null,
      "justify_items": null,
      "left": null,
      "margin": null,
      "max_height": null,
      "max_width": null,
      "min_height": null,
      "min_width": null,
      "object_fit": null,
      "object_position": null,
      "order": null,
      "overflow": null,
      "overflow_x": null,
      "overflow_y": null,
      "padding": null,
      "right": null,
      "top": null,
      "visibility": null,
      "width": null
     }
    },
    "aa830a7913954c7db52d5d13f95a97f6": {
     "model_module": "@jupyter-widgets/controls",
     "model_module_version": "1.5.0",
     "model_name": "DescriptionStyleModel",
     "state": {
      "_model_module": "@jupyter-widgets/controls",
      "_model_module_version": "1.5.0",
      "_model_name": "DescriptionStyleModel",
      "_view_count": null,
      "_view_module": "@jupyter-widgets/base",
      "_view_module_version": "1.2.0",
      "_view_name": "StyleView",
      "description_width": ""
     }
    },
    "ac545af1e1264a458ee9a45792a60a9e": {
     "model_module": "@jupyter-widgets/controls",
     "model_module_version": "1.5.0",
     "model_name": "HTMLModel",
     "state": {
      "_dom_classes": [],
      "_model_module": "@jupyter-widgets/controls",
      "_model_module_version": "1.5.0",
      "_model_name": "HTMLModel",
      "_view_count": null,
      "_view_module": "@jupyter-widgets/controls",
      "_view_module_version": "1.5.0",
      "_view_name": "HTMLView",
      "description": "",
      "description_tooltip": null,
      "layout": "IPY_MODEL_682ea352e39143fb951275083fed0af8",
      "placeholder": "​",
      "style": "IPY_MODEL_9f437d08ce334497b14614e443ad073c",
      "value": "100%"
     }
    },
    "afcfa9b0aa8e4dbfafe059dfda71ea07": {
     "model_module": "@jupyter-widgets/base",
     "model_module_version": "1.2.0",
     "model_name": "LayoutModel",
     "state": {
      "_model_module": "@jupyter-widgets/base",
      "_model_module_version": "1.2.0",
      "_model_name": "LayoutModel",
      "_view_count": null,
      "_view_module": "@jupyter-widgets/base",
      "_view_module_version": "1.2.0",
      "_view_name": "LayoutView",
      "align_content": null,
      "align_items": null,
      "align_self": null,
      "border": null,
      "bottom": null,
      "display": null,
      "flex": null,
      "flex_flow": null,
      "grid_area": null,
      "grid_auto_columns": null,
      "grid_auto_flow": null,
      "grid_auto_rows": null,
      "grid_column": null,
      "grid_gap": null,
      "grid_row": null,
      "grid_template_areas": null,
      "grid_template_columns": null,
      "grid_template_rows": null,
      "height": null,
      "justify_content": null,
      "justify_items": null,
      "left": null,
      "margin": null,
      "max_height": null,
      "max_width": null,
      "min_height": null,
      "min_width": null,
      "object_fit": null,
      "object_position": null,
      "order": null,
      "overflow": null,
      "overflow_x": null,
      "overflow_y": null,
      "padding": null,
      "right": null,
      "top": null,
      "visibility": null,
      "width": null
     }
    },
    "b485704fc98a4947a9583a8319ebc951": {
     "model_module": "@jupyter-widgets/controls",
     "model_module_version": "1.5.0",
     "model_name": "HTMLModel",
     "state": {
      "_dom_classes": [],
      "_model_module": "@jupyter-widgets/controls",
      "_model_module_version": "1.5.0",
      "_model_name": "HTMLModel",
      "_view_count": null,
      "_view_module": "@jupyter-widgets/controls",
      "_view_module_version": "1.5.0",
      "_view_name": "HTMLView",
      "description": "",
      "description_tooltip": null,
      "layout": "IPY_MODEL_88bde1a1b8f543d78dd19b5b5f9321f0",
      "placeholder": "​",
      "style": "IPY_MODEL_3ee91b2fc14f41c0bb841bc810c2890f",
      "value": "  8%"
     }
    },
    "b9451892772e4367971fc69d02ca409e": {
     "model_module": "@jupyter-widgets/controls",
     "model_module_version": "1.5.0",
     "model_name": "ProgressStyleModel",
     "state": {
      "_model_module": "@jupyter-widgets/controls",
      "_model_module_version": "1.5.0",
      "_model_name": "ProgressStyleModel",
      "_view_count": null,
      "_view_module": "@jupyter-widgets/base",
      "_view_module_version": "1.2.0",
      "_view_name": "StyleView",
      "bar_color": null,
      "description_width": ""
     }
    },
    "b9d7a5667a6844ef86c663cbac6d98eb": {
     "model_module": "@jupyter-widgets/base",
     "model_module_version": "1.2.0",
     "model_name": "LayoutModel",
     "state": {
      "_model_module": "@jupyter-widgets/base",
      "_model_module_version": "1.2.0",
      "_model_name": "LayoutModel",
      "_view_count": null,
      "_view_module": "@jupyter-widgets/base",
      "_view_module_version": "1.2.0",
      "_view_name": "LayoutView",
      "align_content": null,
      "align_items": null,
      "align_self": null,
      "border": null,
      "bottom": null,
      "display": null,
      "flex": null,
      "flex_flow": null,
      "grid_area": null,
      "grid_auto_columns": null,
      "grid_auto_flow": null,
      "grid_auto_rows": null,
      "grid_column": null,
      "grid_gap": null,
      "grid_row": null,
      "grid_template_areas": null,
      "grid_template_columns": null,
      "grid_template_rows": null,
      "height": null,
      "justify_content": null,
      "justify_items": null,
      "left": null,
      "margin": null,
      "max_height": null,
      "max_width": null,
      "min_height": null,
      "min_width": null,
      "object_fit": null,
      "object_position": null,
      "order": null,
      "overflow": null,
      "overflow_x": null,
      "overflow_y": null,
      "padding": null,
      "right": null,
      "top": null,
      "visibility": null,
      "width": null
     }
    },
    "ba4069a0476b409db779a451aac752a3": {
     "model_module": "@jupyter-widgets/controls",
     "model_module_version": "1.5.0",
     "model_name": "FloatProgressModel",
     "state": {
      "_dom_classes": [],
      "_model_module": "@jupyter-widgets/controls",
      "_model_module_version": "1.5.0",
      "_model_name": "FloatProgressModel",
      "_view_count": null,
      "_view_module": "@jupyter-widgets/controls",
      "_view_module_version": "1.5.0",
      "_view_name": "ProgressView",
      "bar_style": "success",
      "description": "",
      "description_tooltip": null,
      "layout": "IPY_MODEL_c5555eece655442a9e4929fe4194dcf3",
      "max": 1000000,
      "min": 0,
      "orientation": "horizontal",
      "style": "IPY_MODEL_80a6d683d7fc43819fbc0a5613c62d22",
      "value": 1000000
     }
    },
    "bd74ec0fb1c141a38cc6163d80d9a88e": {
     "model_module": "@jupyter-widgets/controls",
     "model_module_version": "1.5.0",
     "model_name": "HTMLModel",
     "state": {
      "_dom_classes": [],
      "_model_module": "@jupyter-widgets/controls",
      "_model_module_version": "1.5.0",
      "_model_name": "HTMLModel",
      "_view_count": null,
      "_view_module": "@jupyter-widgets/controls",
      "_view_module_version": "1.5.0",
      "_view_name": "HTMLView",
      "description": "",
      "description_tooltip": null,
      "layout": "IPY_MODEL_3878e58c33ce44a2a2379610095670b5",
      "placeholder": "​",
      "style": "IPY_MODEL_8973949fd5ed4ccf9feda69a422328a7",
      "value": " 77135/1000000 [00:04&lt;00:49, 18748.70it/s]"
     }
    },
    "bea9032ceddf4fb991479673cfe37fdb": {
     "model_module": "@jupyter-widgets/controls",
     "model_module_version": "1.5.0",
     "model_name": "ProgressStyleModel",
     "state": {
      "_model_module": "@jupyter-widgets/controls",
      "_model_module_version": "1.5.0",
      "_model_name": "ProgressStyleModel",
      "_view_count": null,
      "_view_module": "@jupyter-widgets/base",
      "_view_module_version": "1.2.0",
      "_view_name": "StyleView",
      "bar_color": null,
      "description_width": ""
     }
    },
    "bfe246eb0b92423582e5cf39dfa515c2": {
     "model_module": "@jupyter-widgets/controls",
     "model_module_version": "1.5.0",
     "model_name": "DescriptionStyleModel",
     "state": {
      "_model_module": "@jupyter-widgets/controls",
      "_model_module_version": "1.5.0",
      "_model_name": "DescriptionStyleModel",
      "_view_count": null,
      "_view_module": "@jupyter-widgets/base",
      "_view_module_version": "1.2.0",
      "_view_name": "StyleView",
      "description_width": ""
     }
    },
    "c010a96bd05a4c98af812dc62b79b362": {
     "model_module": "@jupyter-widgets/controls",
     "model_module_version": "1.5.0",
     "model_name": "HTMLModel",
     "state": {
      "_dom_classes": [],
      "_model_module": "@jupyter-widgets/controls",
      "_model_module_version": "1.5.0",
      "_model_name": "HTMLModel",
      "_view_count": null,
      "_view_module": "@jupyter-widgets/controls",
      "_view_module_version": "1.5.0",
      "_view_name": "HTMLView",
      "description": "",
      "description_tooltip": null,
      "layout": "IPY_MODEL_783e69627e5741edab01af7de57e4b41",
      "placeholder": "​",
      "style": "IPY_MODEL_4570d563664c41e38e2ab369d972642b",
      "value": "100%"
     }
    },
    "c275a8e3aaa84b8ca6c9a6776ead06f1": {
     "model_module": "@jupyter-widgets/controls",
     "model_module_version": "1.5.0",
     "model_name": "ProgressStyleModel",
     "state": {
      "_model_module": "@jupyter-widgets/controls",
      "_model_module_version": "1.5.0",
      "_model_name": "ProgressStyleModel",
      "_view_count": null,
      "_view_module": "@jupyter-widgets/base",
      "_view_module_version": "1.2.0",
      "_view_name": "StyleView",
      "bar_color": null,
      "description_width": ""
     }
    },
    "c439ed19457d419caa147ec621250286": {
     "model_module": "@jupyter-widgets/base",
     "model_module_version": "1.2.0",
     "model_name": "LayoutModel",
     "state": {
      "_model_module": "@jupyter-widgets/base",
      "_model_module_version": "1.2.0",
      "_model_name": "LayoutModel",
      "_view_count": null,
      "_view_module": "@jupyter-widgets/base",
      "_view_module_version": "1.2.0",
      "_view_name": "LayoutView",
      "align_content": null,
      "align_items": null,
      "align_self": null,
      "border": null,
      "bottom": null,
      "display": null,
      "flex": null,
      "flex_flow": null,
      "grid_area": null,
      "grid_auto_columns": null,
      "grid_auto_flow": null,
      "grid_auto_rows": null,
      "grid_column": null,
      "grid_gap": null,
      "grid_row": null,
      "grid_template_areas": null,
      "grid_template_columns": null,
      "grid_template_rows": null,
      "height": null,
      "justify_content": null,
      "justify_items": null,
      "left": null,
      "margin": null,
      "max_height": null,
      "max_width": null,
      "min_height": null,
      "min_width": null,
      "object_fit": null,
      "object_position": null,
      "order": null,
      "overflow": null,
      "overflow_x": null,
      "overflow_y": null,
      "padding": null,
      "right": null,
      "top": null,
      "visibility": null,
      "width": null
     }
    },
    "c4f53aef332d4d45ac843a003bdceb0d": {
     "model_module": "@jupyter-widgets/controls",
     "model_module_version": "1.5.0",
     "model_name": "DescriptionStyleModel",
     "state": {
      "_model_module": "@jupyter-widgets/controls",
      "_model_module_version": "1.5.0",
      "_model_name": "DescriptionStyleModel",
      "_view_count": null,
      "_view_module": "@jupyter-widgets/base",
      "_view_module_version": "1.2.0",
      "_view_name": "StyleView",
      "description_width": ""
     }
    },
    "c5555eece655442a9e4929fe4194dcf3": {
     "model_module": "@jupyter-widgets/base",
     "model_module_version": "1.2.0",
     "model_name": "LayoutModel",
     "state": {
      "_model_module": "@jupyter-widgets/base",
      "_model_module_version": "1.2.0",
      "_model_name": "LayoutModel",
      "_view_count": null,
      "_view_module": "@jupyter-widgets/base",
      "_view_module_version": "1.2.0",
      "_view_name": "LayoutView",
      "align_content": null,
      "align_items": null,
      "align_self": null,
      "border": null,
      "bottom": null,
      "display": null,
      "flex": null,
      "flex_flow": null,
      "grid_area": null,
      "grid_auto_columns": null,
      "grid_auto_flow": null,
      "grid_auto_rows": null,
      "grid_column": null,
      "grid_gap": null,
      "grid_row": null,
      "grid_template_areas": null,
      "grid_template_columns": null,
      "grid_template_rows": null,
      "height": null,
      "justify_content": null,
      "justify_items": null,
      "left": null,
      "margin": null,
      "max_height": null,
      "max_width": null,
      "min_height": null,
      "min_width": null,
      "object_fit": null,
      "object_position": null,
      "order": null,
      "overflow": null,
      "overflow_x": null,
      "overflow_y": null,
      "padding": null,
      "right": null,
      "top": null,
      "visibility": null,
      "width": null
     }
    },
    "c96e91782f374476800004de356d8bb4": {
     "model_module": "@jupyter-widgets/base",
     "model_module_version": "1.2.0",
     "model_name": "LayoutModel",
     "state": {
      "_model_module": "@jupyter-widgets/base",
      "_model_module_version": "1.2.0",
      "_model_name": "LayoutModel",
      "_view_count": null,
      "_view_module": "@jupyter-widgets/base",
      "_view_module_version": "1.2.0",
      "_view_name": "LayoutView",
      "align_content": null,
      "align_items": null,
      "align_self": null,
      "border": null,
      "bottom": null,
      "display": null,
      "flex": null,
      "flex_flow": null,
      "grid_area": null,
      "grid_auto_columns": null,
      "grid_auto_flow": null,
      "grid_auto_rows": null,
      "grid_column": null,
      "grid_gap": null,
      "grid_row": null,
      "grid_template_areas": null,
      "grid_template_columns": null,
      "grid_template_rows": null,
      "height": null,
      "justify_content": null,
      "justify_items": null,
      "left": null,
      "margin": null,
      "max_height": null,
      "max_width": null,
      "min_height": null,
      "min_width": null,
      "object_fit": null,
      "object_position": null,
      "order": null,
      "overflow": null,
      "overflow_x": null,
      "overflow_y": null,
      "padding": null,
      "right": null,
      "top": null,
      "visibility": null,
      "width": null
     }
    },
    "cb2b10aae8044d9c8222921253ee175e": {
     "model_module": "@jupyter-widgets/controls",
     "model_module_version": "1.5.0",
     "model_name": "DescriptionStyleModel",
     "state": {
      "_model_module": "@jupyter-widgets/controls",
      "_model_module_version": "1.5.0",
      "_model_name": "DescriptionStyleModel",
      "_view_count": null,
      "_view_module": "@jupyter-widgets/base",
      "_view_module_version": "1.2.0",
      "_view_name": "StyleView",
      "description_width": ""
     }
    },
    "cd438123acb74973a01c1e2e605f0519": {
     "model_module": "@jupyter-widgets/controls",
     "model_module_version": "1.5.0",
     "model_name": "FloatProgressModel",
     "state": {
      "_dom_classes": [],
      "_model_module": "@jupyter-widgets/controls",
      "_model_module_version": "1.5.0",
      "_model_name": "FloatProgressModel",
      "_view_count": null,
      "_view_module": "@jupyter-widgets/controls",
      "_view_module_version": "1.5.0",
      "_view_name": "ProgressView",
      "bar_style": "danger",
      "description": "",
      "description_tooltip": null,
      "layout": "IPY_MODEL_8cee2399a37b47dab328ef8831f41e29",
      "max": 1000000,
      "min": 0,
      "orientation": "horizontal",
      "style": "IPY_MODEL_53fb04f9ac924cea9ccd899c4af2dcc3",
      "value": 455447
     }
    },
    "d2d7499792ce4e58b9d6f6871b9edbd3": {
     "model_module": "@jupyter-widgets/controls",
     "model_module_version": "1.5.0",
     "model_name": "ProgressStyleModel",
     "state": {
      "_model_module": "@jupyter-widgets/controls",
      "_model_module_version": "1.5.0",
      "_model_name": "ProgressStyleModel",
      "_view_count": null,
      "_view_module": "@jupyter-widgets/base",
      "_view_module_version": "1.2.0",
      "_view_name": "StyleView",
      "bar_color": null,
      "description_width": ""
     }
    },
    "d4c59ce56b604b03a82dd7d3aa5f56b4": {
     "model_module": "@jupyter-widgets/controls",
     "model_module_version": "1.5.0",
     "model_name": "HTMLModel",
     "state": {
      "_dom_classes": [],
      "_model_module": "@jupyter-widgets/controls",
      "_model_module_version": "1.5.0",
      "_model_name": "HTMLModel",
      "_view_count": null,
      "_view_module": "@jupyter-widgets/controls",
      "_view_module_version": "1.5.0",
      "_view_name": "HTMLView",
      "description": "",
      "description_tooltip": null,
      "layout": "IPY_MODEL_89b3efc006974b61a62272e2c9f4bbb2",
      "placeholder": "​",
      "style": "IPY_MODEL_aa830a7913954c7db52d5d13f95a97f6",
      "value": " 1000000/1000000 [00:56&lt;00:00, 16365.70it/s]"
     }
    },
    "d8ac4f0261974af8b364181fdebc0606": {
     "model_module": "@jupyter-widgets/controls",
     "model_module_version": "1.5.0",
     "model_name": "HTMLModel",
     "state": {
      "_dom_classes": [],
      "_model_module": "@jupyter-widgets/controls",
      "_model_module_version": "1.5.0",
      "_model_name": "HTMLModel",
      "_view_count": null,
      "_view_module": "@jupyter-widgets/controls",
      "_view_module_version": "1.5.0",
      "_view_name": "HTMLView",
      "description": "",
      "description_tooltip": null,
      "layout": "IPY_MODEL_99e74bc355b242d78fed70120a4ffd50",
      "placeholder": "​",
      "style": "IPY_MODEL_5699c07e79aa414aabe8effe3eb54e9e",
      "value": " 1000000/1000000 [01:00&lt;00:00, 7676.59it/s]"
     }
    },
    "e0a5c63b3ae14cb78adf7b017eac5d96": {
     "model_module": "@jupyter-widgets/controls",
     "model_module_version": "1.5.0",
     "model_name": "ProgressStyleModel",
     "state": {
      "_model_module": "@jupyter-widgets/controls",
      "_model_module_version": "1.5.0",
      "_model_name": "ProgressStyleModel",
      "_view_count": null,
      "_view_module": "@jupyter-widgets/base",
      "_view_module_version": "1.2.0",
      "_view_name": "StyleView",
      "bar_color": null,
      "description_width": ""
     }
    },
    "e518a06231504d65b1ecd68d3894fa69": {
     "model_module": "@jupyter-widgets/base",
     "model_module_version": "1.2.0",
     "model_name": "LayoutModel",
     "state": {
      "_model_module": "@jupyter-widgets/base",
      "_model_module_version": "1.2.0",
      "_model_name": "LayoutModel",
      "_view_count": null,
      "_view_module": "@jupyter-widgets/base",
      "_view_module_version": "1.2.0",
      "_view_name": "LayoutView",
      "align_content": null,
      "align_items": null,
      "align_self": null,
      "border": null,
      "bottom": null,
      "display": null,
      "flex": null,
      "flex_flow": null,
      "grid_area": null,
      "grid_auto_columns": null,
      "grid_auto_flow": null,
      "grid_auto_rows": null,
      "grid_column": null,
      "grid_gap": null,
      "grid_row": null,
      "grid_template_areas": null,
      "grid_template_columns": null,
      "grid_template_rows": null,
      "height": null,
      "justify_content": null,
      "justify_items": null,
      "left": null,
      "margin": null,
      "max_height": null,
      "max_width": null,
      "min_height": null,
      "min_width": null,
      "object_fit": null,
      "object_position": null,
      "order": null,
      "overflow": null,
      "overflow_x": null,
      "overflow_y": null,
      "padding": null,
      "right": null,
      "top": null,
      "visibility": null,
      "width": null
     }
    },
    "e61061a9dfe2498fb19b081076f9fc56": {
     "model_module": "@jupyter-widgets/controls",
     "model_module_version": "1.5.0",
     "model_name": "HTMLModel",
     "state": {
      "_dom_classes": [],
      "_model_module": "@jupyter-widgets/controls",
      "_model_module_version": "1.5.0",
      "_model_name": "HTMLModel",
      "_view_count": null,
      "_view_module": "@jupyter-widgets/controls",
      "_view_module_version": "1.5.0",
      "_view_name": "HTMLView",
      "description": "",
      "description_tooltip": null,
      "layout": "IPY_MODEL_841df8f62a8c4af9b5216b73bf23ec34",
      "placeholder": "​",
      "style": "IPY_MODEL_2fcd0c922f09441897e30b8d1f03940b",
      "value": "100%"
     }
    },
    "ea38a1fffd0c465fb7fe2d3c803e5d12": {
     "model_module": "@jupyter-widgets/controls",
     "model_module_version": "1.5.0",
     "model_name": "HTMLModel",
     "state": {
      "_dom_classes": [],
      "_model_module": "@jupyter-widgets/controls",
      "_model_module_version": "1.5.0",
      "_model_name": "HTMLModel",
      "_view_count": null,
      "_view_module": "@jupyter-widgets/controls",
      "_view_module_version": "1.5.0",
      "_view_name": "HTMLView",
      "description": "",
      "description_tooltip": null,
      "layout": "IPY_MODEL_76518ed891ec49879f5d523ac2419dfb",
      "placeholder": "​",
      "style": "IPY_MODEL_8cb0417b75d0413cbf2dcbdc23a5a6eb",
      "value": " 1000000/1000000 [00:01&lt;00:00, 980866.17it/s]"
     }
    },
    "ec05203d605840c1b6d9c7a1f5292353": {
     "model_module": "@jupyter-widgets/controls",
     "model_module_version": "1.5.0",
     "model_name": "FloatProgressModel",
     "state": {
      "_dom_classes": [],
      "_model_module": "@jupyter-widgets/controls",
      "_model_module_version": "1.5.0",
      "_model_name": "FloatProgressModel",
      "_view_count": null,
      "_view_module": "@jupyter-widgets/controls",
      "_view_module_version": "1.5.0",
      "_view_name": "ProgressView",
      "bar_style": "success",
      "description": "",
      "description_tooltip": null,
      "layout": "IPY_MODEL_568ba77181cf49e18dd089f54c2937af",
      "max": 1000000,
      "min": 0,
      "orientation": "horizontal",
      "style": "IPY_MODEL_c275a8e3aaa84b8ca6c9a6776ead06f1",
      "value": 1000000
     }
    },
    "eec8da7587de4eb2b8b09214886cd24e": {
     "model_module": "@jupyter-widgets/controls",
     "model_module_version": "1.5.0",
     "model_name": "DescriptionStyleModel",
     "state": {
      "_model_module": "@jupyter-widgets/controls",
      "_model_module_version": "1.5.0",
      "_model_name": "DescriptionStyleModel",
      "_view_count": null,
      "_view_module": "@jupyter-widgets/base",
      "_view_module_version": "1.2.0",
      "_view_name": "StyleView",
      "description_width": ""
     }
    },
    "f3fcc0b87863471295f904e1d79fc8e4": {
     "model_module": "@jupyter-widgets/controls",
     "model_module_version": "1.5.0",
     "model_name": "DescriptionStyleModel",
     "state": {
      "_model_module": "@jupyter-widgets/controls",
      "_model_module_version": "1.5.0",
      "_model_name": "DescriptionStyleModel",
      "_view_count": null,
      "_view_module": "@jupyter-widgets/base",
      "_view_module_version": "1.2.0",
      "_view_name": "StyleView",
      "description_width": ""
     }
    },
    "f56a0a83f7c64d7595edb7b9ba682a5e": {
     "model_module": "@jupyter-widgets/controls",
     "model_module_version": "1.5.0",
     "model_name": "HBoxModel",
     "state": {
      "_dom_classes": [],
      "_model_module": "@jupyter-widgets/controls",
      "_model_module_version": "1.5.0",
      "_model_name": "HBoxModel",
      "_view_count": null,
      "_view_module": "@jupyter-widgets/controls",
      "_view_module_version": "1.5.0",
      "_view_name": "HBoxView",
      "box_style": "",
      "children": [
       "IPY_MODEL_86544d166b5146dab02a481533d4cc9c",
       "IPY_MODEL_cd438123acb74973a01c1e2e605f0519",
       "IPY_MODEL_8f2585d811294062a30399b01ee451d4"
      ],
      "layout": "IPY_MODEL_afcfa9b0aa8e4dbfafe059dfda71ea07"
     }
    },
    "fc3575b8c8394348a5561917941503ba": {
     "model_module": "@jupyter-widgets/controls",
     "model_module_version": "1.5.0",
     "model_name": "FloatProgressModel",
     "state": {
      "_dom_classes": [],
      "_model_module": "@jupyter-widgets/controls",
      "_model_module_version": "1.5.0",
      "_model_name": "FloatProgressModel",
      "_view_count": null,
      "_view_module": "@jupyter-widgets/controls",
      "_view_module_version": "1.5.0",
      "_view_name": "ProgressView",
      "bar_style": "danger",
      "description": "",
      "description_tooltip": null,
      "layout": "IPY_MODEL_006dbaa961d848e9adcbc61dba95f204",
      "max": 1000000,
      "min": 0,
      "orientation": "horizontal",
      "style": "IPY_MODEL_119e2fbd10dd4a938c519fe1be55eea3",
      "value": 77135
     }
    }
   }
  }
 },
 "nbformat": 4,
 "nbformat_minor": 1
}
